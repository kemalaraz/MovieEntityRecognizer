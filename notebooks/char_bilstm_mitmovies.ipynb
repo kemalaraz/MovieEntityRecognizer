{
 "cells": [
  {
   "cell_type": "code",
   "execution_count": 1,
   "metadata": {},
   "outputs": [],
   "source": [
    "import os\n",
    "import sys\n",
    "import json\n",
    "import numpy as np\n",
    "from tqdm import tqdm\n",
    "sys.path.append(\"..\")\n",
    "\n",
    "from torch import nn\n",
    "from torch.optim import Adam\n",
    "from src.movientities.models.char_lstm import CharBilstm\n",
    "from src.movientities.utils.processors import NerPreProcessor\n",
    "from src.movientities.char_bilstm_trainer import CharBilstmTrainer\n",
    "from src.movientities.data.build_dataset import CharCorpus, BuildData"
   ]
  },
  {
   "cell_type": "code",
   "execution_count": 2,
   "metadata": {},
   "outputs": [
    {
     "name": "stdout",
     "output_type": "stream",
     "text": [
      "Train set: 9775 sentences\n",
      "Test set: 2443 sentences\n"
     ]
    }
   ],
   "source": [
    "dataset = CharCorpus(\n",
    "    input_folder=f\"/home/kemalaraz/Desktop/MovieEntityRecognizer/data/modified/mitmovies_tab_format\",\n",
    "    min_word_freq=3,\n",
    "    batch_size=64,\n",
    ")\n",
    "print(f\"Train set: {len(dataset.train_dataset)} sentences\")\n",
    "print(f\"Test set: {len(dataset.test_dataset)} sentences\")"
   ]
  },
  {
   "cell_type": "code",
   "execution_count": 3,
   "metadata": {},
   "outputs": [
    {
     "name": "stdout",
     "output_type": "stream",
     "text": [
      "The model has 1,028,749 trainable parameters.\n",
      "CharBilstm(\n",
      "  (embedding): Embedding(2244, 300, padding_idx=1)\n",
      "  (emb_dropout): Dropout(p=0.5, inplace=False)\n",
      "  (char_emb): Embedding(39, 25, padding_idx=1)\n",
      "  (char_cnn): Conv1d(25, 125, kernel_size=(3,), stride=(1,), groups=25)\n",
      "  (cnn_dropout): Dropout(p=0.25, inplace=False)\n",
      "  (lstm): LSTM(425, 64, num_layers=2, dropout=0.1, bidirectional=True)\n",
      "  (fc_dropout): Dropout(p=0.25, inplace=False)\n",
      "  (fc): Linear(in_features=128, out_features=26, bias=True)\n",
      ")\n"
     ]
    }
   ],
   "source": [
    "bilstm = CharBilstm(\n",
    "    input_dim=len(dataset.word_field.vocab),\n",
    "    embedding_dim=300,\n",
    "    char_emb_dim=25,\n",
    "    char_input_dim=len(dataset.char_field.vocab),\n",
    "    char_cnn_filter_num=5,\n",
    "    char_cnn_kernel_size=3,\n",
    "    hidden_dim=64,\n",
    "    output_dim=len(dataset.tag_field.vocab),\n",
    "    lstm_layers=2,\n",
    "    emb_dropout=0.5,\n",
    "    cnn_dropout=0.25,\n",
    "    lstm_dropout=0.1,\n",
    "    fc_dropout=0.25,\n",
    "    word_pad_idx=dataset.word_pad_idx,\n",
    "    char_pad_idx=dataset.char_pad_idx\n",
    ")\n",
    "bilstm.init_embeddings(\n",
    "    char_pad_idx=dataset.char_pad_idx,\n",
    "    word_pad_idx=dataset.word_pad_idx,\n",
    "    pretrained=None,\n",
    "    freeze=True\n",
    ")\n",
    "print(f\"The model has {bilstm.count_parameters():,} trainable parameters.\")\n",
    "print(bilstm)"
   ]
  },
  {
   "cell_type": "code",
   "execution_count": 4,
   "metadata": {},
   "outputs": [
    {
     "name": "stdout",
     "output_type": "stream",
     "text": [
      "Epoch: 01 | Epoch Time: 0m 28s\n",
      "\tTrn Loss: 1.417 | Trn Acc: 67.14%\n",
      "\tVal Loss: 0.783 | Val Acc: 81.16% | Val Precision: 59.04% | Val Recall: 60.19% | Val F1 Macro: 56.12% | Val F1 Micro: 81.51%\n",
      "Epoch: 02 | Epoch Time: 0m 32s\n",
      "\tTrn Loss: 0.521 | Trn Acc: 86.97%\n",
      "\tVal Loss: 0.497 | Val Acc: 87.46% | Val Precision: 76.16% | Val Recall: 73.35% | Val F1 Macro: 72.54% | Val F1 Micro: 86.87%\n",
      "Epoch: 03 | Epoch Time: 0m 36s\n",
      "\tTrn Loss: 0.367 | Trn Acc: 90.63%\n",
      "\tVal Loss: 0.461 | Val Acc: 88.19% | Val Precision: 76.66% | Val Recall: 73.77% | Val F1 Macro: 72.66% | Val F1 Micro: 87.32%\n",
      "Epoch: 04 | Epoch Time: 0m 41s\n",
      "\tTrn Loss: 0.309 | Trn Acc: 92.06%\n",
      "\tVal Loss: 0.410 | Val Acc: 89.59% | Val Precision: 79.77% | Val Recall: 77.22% | Val F1 Macro: 76.47% | Val F1 Micro: 88.60%\n",
      "Epoch: 05 | Epoch Time: 0m 40s\n",
      "\tTrn Loss: 0.272 | Trn Acc: 92.97%\n",
      "\tVal Loss: 0.388 | Val Acc: 90.01% | Val Precision: 78.03% | Val Recall: 76.75% | Val F1 Macro: 75.34% | Val F1 Micro: 88.90%\n",
      "Epoch: 06 | Epoch Time: 0m 44s\n",
      "\tTrn Loss: 0.246 | Trn Acc: 93.53%\n",
      "\tVal Loss: 0.368 | Val Acc: 90.73% | Val Precision: 81.37% | Val Recall: 79.07% | Val F1 Macro: 78.37% | Val F1 Micro: 89.63%\n",
      "Epoch: 07 | Epoch Time: 0m 42s\n",
      "\tTrn Loss: 0.225 | Trn Acc: 94.08%\n",
      "\tVal Loss: 0.375 | Val Acc: 90.77% | Val Precision: 82.57% | Val Recall: 79.38% | Val F1 Macro: 79.20% | Val F1 Micro: 89.69%\n",
      "Epoch: 08 | Epoch Time: 0m 45s\n",
      "\tTrn Loss: 0.211 | Trn Acc: 94.42%\n",
      "\tVal Loss: 0.369 | Val Acc: 90.83% | Val Precision: 81.24% | Val Recall: 79.50% | Val F1 Macro: 78.73% | Val F1 Micro: 89.70%\n",
      "Epoch: 09 | Epoch Time: 0m 46s\n",
      "\tTrn Loss: 0.196 | Trn Acc: 94.72%\n",
      "\tVal Loss: 0.362 | Val Acc: 91.21% | Val Precision: 81.96% | Val Recall: 79.61% | Val F1 Macro: 79.05% | Val F1 Micro: 90.05%\n",
      "Epoch: 10 | Epoch Time: 0m 42s\n",
      "\tTrn Loss: 0.185 | Trn Acc: 95.00%\n",
      "\tVal Loss: 0.372 | Val Acc: 91.08% | Val Precision: 82.91% | Val Recall: 79.55% | Val F1 Macro: 79.48% | Val F1 Micro: 89.96%\n",
      "Epoch: 11 | Epoch Time: 0m 42s\n",
      "\tTrn Loss: 0.170 | Trn Acc: 95.31%\n",
      "\tVal Loss: 0.382 | Val Acc: 90.76% | Val Precision: 81.82% | Val Recall: 80.14% | Val F1 Macro: 79.18% | Val F1 Micro: 89.63%\n",
      "Epoch: 12 | Epoch Time: 0m 44s\n",
      "\tTrn Loss: 0.164 | Trn Acc: 95.47%\n",
      "\tVal Loss: 0.362 | Val Acc: 91.33% | Val Precision: 81.02% | Val Recall: 79.45% | Val F1 Macro: 78.66% | Val F1 Micro: 90.19%\n",
      "Epoch: 13 | Epoch Time: 0m 43s\n",
      "\tTrn Loss: 0.153 | Trn Acc: 95.71%\n",
      "\tVal Loss: 0.366 | Val Acc: 91.40% | Val Precision: 80.75% | Val Recall: 79.62% | Val F1 Macro: 78.48% | Val F1 Micro: 90.21%\n",
      "Epoch: 14 | Epoch Time: 0m 43s\n",
      "\tTrn Loss: 0.147 | Trn Acc: 95.87%\n",
      "\tVal Loss: 0.363 | Val Acc: 91.53% | Val Precision: 82.63% | Val Recall: 80.16% | Val F1 Macro: 79.81% | Val F1 Micro: 90.42%\n",
      "Epoch: 15 | Epoch Time: 0m 42s\n",
      "\tTrn Loss: 0.138 | Trn Acc: 96.02%\n",
      "\tVal Loss: 0.367 | Val Acc: 91.30% | Val Precision: 80.72% | Val Recall: 79.16% | Val F1 Macro: 78.40% | Val F1 Micro: 90.09%\n",
      "Epoch: 16 | Epoch Time: 0m 42s\n",
      "\tTrn Loss: 0.130 | Trn Acc: 96.27%\n",
      "\tVal Loss: 0.384 | Val Acc: 91.30% | Val Precision: 81.17% | Val Recall: 79.50% | Val F1 Macro: 78.79% | Val F1 Micro: 90.12%\n",
      "Epoch: 17 | Epoch Time: 0m 44s\n",
      "\tTrn Loss: 0.124 | Trn Acc: 96.30%\n",
      "\tVal Loss: 0.366 | Val Acc: 91.56% | Val Precision: 80.51% | Val Recall: 79.68% | Val F1 Macro: 78.61% | Val F1 Micro: 90.36%\n",
      "Epoch: 18 | Epoch Time: 0m 36s\n",
      "\tTrn Loss: 0.118 | Trn Acc: 96.53%\n",
      "\tVal Loss: 0.381 | Val Acc: 91.48% | Val Precision: 80.94% | Val Recall: 79.56% | Val F1 Macro: 78.59% | Val F1 Micro: 90.28%\n",
      "Epoch: 19 | Epoch Time: 0m 36s\n",
      "\tTrn Loss: 0.114 | Trn Acc: 96.58%\n",
      "\tVal Loss: 0.379 | Val Acc: 91.49% | Val Precision: 79.52% | Val Recall: 79.71% | Val F1 Macro: 78.20% | Val F1 Micro: 90.26%\n",
      "Epoch: 20 | Epoch Time: 0m 35s\n",
      "\tTrn Loss: 0.108 | Trn Acc: 96.76%\n",
      "\tVal Loss: 0.389 | Val Acc: 91.28% | Val Precision: 79.72% | Val Recall: 79.53% | Val F1 Macro: 78.07% | Val F1 Micro: 90.07%\n"
     ]
    }
   ],
   "source": [
    "ner = CharBilstmTrainer(\n",
    "  model=bilstm,\n",
    "  data=dataset,\n",
    "  optimizer_cls=Adam,\n",
    "  loss_fn_cls=nn.CrossEntropyLoss,\n",
    "  log_file=\"char_bilstm_vanilla\"\n",
    ")\n",
    "ner.train(20)"
   ]
  }
 ],
 "metadata": {
  "kernelspec": {
   "display_name": "Python 3.7.10 64-bit ('kpmg': conda)",
   "language": "python",
   "name": "python371064bitkpmgconda9ab805a6f13f4730b4aaa5e98639804c"
  },
  "language_info": {
   "codemirror_mode": {
    "name": "ipython",
    "version": 3
   },
   "file_extension": ".py",
   "mimetype": "text/x-python",
   "name": "python",
   "nbconvert_exporter": "python",
   "pygments_lexer": "ipython3",
   "version": "3.7.10"
  }
 },
 "nbformat": 4,
 "nbformat_minor": 2
}
