{
  "nbformat": 4,
  "nbformat_minor": 0,
  "metadata": {
    "language_info": {
      "codemirror_mode": {
        "name": "ipython",
        "version": 3
      },
      "file_extension": ".py",
      "mimetype": "text/x-python",
      "name": "python",
      "nbconvert_exporter": "python",
      "pygments_lexer": "ipython3",
      "version": "3.7.10-final"
    },
    "orig_nbformat": 2,
    "kernelspec": {
      "name": "python3",
      "display_name": "Python 3.7.10 64-bit ('project': conda)",
      "metadata": {
        "interpreter": {
          "hash": "14dbe4d4df743aee721c7bd8dbc75325a1aee7c29f250bc6dc30066efadd3ddb"
        }
      }
    },
    "colab": {
      "name": "main_notebook.ipynb",
      "provenance": [],
      "collapsed_sections": []
    },
    "accelerator": "GPU"
  },
  "cells": [
    {
      "cell_type": "code",
      "metadata": {
        "colab": {
          "base_uri": "https://localhost:8080/"
        },
        "id": "lBfFBv_L5Aif",
        "outputId": "09533ca8-05b6-4c87-b10b-e7072d90d64c"
      },
      "source": [
        "from google.colab import drive\n",
        "drive.mount('/content/drive')"
      ],
      "execution_count": 1,
      "outputs": [
        {
          "output_type": "stream",
          "text": [
            "Drive already mounted at /content/drive; to attempt to forcibly remount, call drive.mount(\"/content/drive\", force_remount=True).\n"
          ],
          "name": "stdout"
        }
      ]
    },
    {
      "cell_type": "code",
      "metadata": {
        "colab": {
          "base_uri": "https://localhost:8080/"
        },
        "id": "AG3zK-K15O7r",
        "outputId": "e2e9cf48-bb85-4d08-8fab-696f0a750522"
      },
      "source": [
        "!pip install transformers\n",
        "!pip install torch==1.5.1\n",
        "!pip install tqdm\n",
        "!pip install tensorboard\n",
        "!pip install seqeval"
      ],
      "execution_count": 2,
      "outputs": [
        {
          "output_type": "stream",
          "text": [
            "Requirement already satisfied: transformers in /usr/local/lib/python3.7/dist-packages (4.3.3)\n",
            "Requirement already satisfied: tokenizers<0.11,>=0.10.1 in /usr/local/lib/python3.7/dist-packages (from transformers) (0.10.1)\n",
            "Requirement already satisfied: filelock in /usr/local/lib/python3.7/dist-packages (from transformers) (3.0.12)\n",
            "Requirement already satisfied: numpy>=1.17 in /usr/local/lib/python3.7/dist-packages (from transformers) (1.19.5)\n",
            "Requirement already satisfied: requests in /usr/local/lib/python3.7/dist-packages (from transformers) (2.23.0)\n",
            "Requirement already satisfied: tqdm>=4.27 in /usr/local/lib/python3.7/dist-packages (from transformers) (4.41.1)\n",
            "Requirement already satisfied: importlib-metadata; python_version < \"3.8\" in /usr/local/lib/python3.7/dist-packages (from transformers) (3.7.0)\n",
            "Requirement already satisfied: packaging in /usr/local/lib/python3.7/dist-packages (from transformers) (20.9)\n",
            "Requirement already satisfied: sacremoses in /usr/local/lib/python3.7/dist-packages (from transformers) (0.0.43)\n",
            "Requirement already satisfied: regex!=2019.12.17 in /usr/local/lib/python3.7/dist-packages (from transformers) (2019.12.20)\n",
            "Requirement already satisfied: urllib3!=1.25.0,!=1.25.1,<1.26,>=1.21.1 in /usr/local/lib/python3.7/dist-packages (from requests->transformers) (1.24.3)\n",
            "Requirement already satisfied: idna<3,>=2.5 in /usr/local/lib/python3.7/dist-packages (from requests->transformers) (2.10)\n",
            "Requirement already satisfied: certifi>=2017.4.17 in /usr/local/lib/python3.7/dist-packages (from requests->transformers) (2020.12.5)\n",
            "Requirement already satisfied: chardet<4,>=3.0.2 in /usr/local/lib/python3.7/dist-packages (from requests->transformers) (3.0.4)\n",
            "Requirement already satisfied: zipp>=0.5 in /usr/local/lib/python3.7/dist-packages (from importlib-metadata; python_version < \"3.8\"->transformers) (3.4.0)\n",
            "Requirement already satisfied: typing-extensions>=3.6.4; python_version < \"3.8\" in /usr/local/lib/python3.7/dist-packages (from importlib-metadata; python_version < \"3.8\"->transformers) (3.7.4.3)\n",
            "Requirement already satisfied: pyparsing>=2.0.2 in /usr/local/lib/python3.7/dist-packages (from packaging->transformers) (2.4.7)\n",
            "Requirement already satisfied: six in /usr/local/lib/python3.7/dist-packages (from sacremoses->transformers) (1.15.0)\n",
            "Requirement already satisfied: joblib in /usr/local/lib/python3.7/dist-packages (from sacremoses->transformers) (1.0.1)\n",
            "Requirement already satisfied: click in /usr/local/lib/python3.7/dist-packages (from sacremoses->transformers) (7.1.2)\n",
            "Requirement already satisfied: torch==1.5.1 in /usr/local/lib/python3.7/dist-packages (1.5.1)\n",
            "Requirement already satisfied: future in /usr/local/lib/python3.7/dist-packages (from torch==1.5.1) (0.16.0)\n",
            "Requirement already satisfied: numpy in /usr/local/lib/python3.7/dist-packages (from torch==1.5.1) (1.19.5)\n",
            "Requirement already satisfied: tqdm in /usr/local/lib/python3.7/dist-packages (4.41.1)\n",
            "Requirement already satisfied: tensorboard in /usr/local/lib/python3.7/dist-packages (2.4.1)\n",
            "Requirement already satisfied: werkzeug>=0.11.15 in /usr/local/lib/python3.7/dist-packages (from tensorboard) (1.0.1)\n",
            "Requirement already satisfied: numpy>=1.12.0 in /usr/local/lib/python3.7/dist-packages (from tensorboard) (1.19.5)\n",
            "Requirement already satisfied: six>=1.10.0 in /usr/local/lib/python3.7/dist-packages (from tensorboard) (1.15.0)\n",
            "Requirement already satisfied: protobuf>=3.6.0 in /usr/local/lib/python3.7/dist-packages (from tensorboard) (3.12.4)\n",
            "Requirement already satisfied: absl-py>=0.4 in /usr/local/lib/python3.7/dist-packages (from tensorboard) (0.10.0)\n",
            "Requirement already satisfied: google-auth<2,>=1.6.3 in /usr/local/lib/python3.7/dist-packages (from tensorboard) (1.27.0)\n",
            "Requirement already satisfied: markdown>=2.6.8 in /usr/local/lib/python3.7/dist-packages (from tensorboard) (3.3.4)\n",
            "Requirement already satisfied: requests<3,>=2.21.0 in /usr/local/lib/python3.7/dist-packages (from tensorboard) (2.23.0)\n",
            "Requirement already satisfied: grpcio>=1.24.3 in /usr/local/lib/python3.7/dist-packages (from tensorboard) (1.32.0)\n",
            "Requirement already satisfied: google-auth-oauthlib<0.5,>=0.4.1 in /usr/local/lib/python3.7/dist-packages (from tensorboard) (0.4.2)\n",
            "Requirement already satisfied: setuptools>=41.0.0 in /usr/local/lib/python3.7/dist-packages (from tensorboard) (53.0.0)\n",
            "Requirement already satisfied: tensorboard-plugin-wit>=1.6.0 in /usr/local/lib/python3.7/dist-packages (from tensorboard) (1.8.0)\n",
            "Requirement already satisfied: wheel>=0.26; python_version >= \"3\" in /usr/local/lib/python3.7/dist-packages (from tensorboard) (0.36.2)\n",
            "Requirement already satisfied: pyasn1-modules>=0.2.1 in /usr/local/lib/python3.7/dist-packages (from google-auth<2,>=1.6.3->tensorboard) (0.2.8)\n",
            "Requirement already satisfied: cachetools<5.0,>=2.0.0 in /usr/local/lib/python3.7/dist-packages (from google-auth<2,>=1.6.3->tensorboard) (4.2.1)\n",
            "Requirement already satisfied: rsa<5,>=3.1.4; python_version >= \"3.6\" in /usr/local/lib/python3.7/dist-packages (from google-auth<2,>=1.6.3->tensorboard) (4.7.2)\n",
            "Requirement already satisfied: importlib-metadata; python_version < \"3.8\" in /usr/local/lib/python3.7/dist-packages (from markdown>=2.6.8->tensorboard) (3.7.0)\n",
            "Requirement already satisfied: certifi>=2017.4.17 in /usr/local/lib/python3.7/dist-packages (from requests<3,>=2.21.0->tensorboard) (2020.12.5)\n",
            "Requirement already satisfied: chardet<4,>=3.0.2 in /usr/local/lib/python3.7/dist-packages (from requests<3,>=2.21.0->tensorboard) (3.0.4)\n",
            "Requirement already satisfied: urllib3!=1.25.0,!=1.25.1,<1.26,>=1.21.1 in /usr/local/lib/python3.7/dist-packages (from requests<3,>=2.21.0->tensorboard) (1.24.3)\n",
            "Requirement already satisfied: idna<3,>=2.5 in /usr/local/lib/python3.7/dist-packages (from requests<3,>=2.21.0->tensorboard) (2.10)\n",
            "Requirement already satisfied: requests-oauthlib>=0.7.0 in /usr/local/lib/python3.7/dist-packages (from google-auth-oauthlib<0.5,>=0.4.1->tensorboard) (1.3.0)\n",
            "Requirement already satisfied: pyasn1<0.5.0,>=0.4.6 in /usr/local/lib/python3.7/dist-packages (from pyasn1-modules>=0.2.1->google-auth<2,>=1.6.3->tensorboard) (0.4.8)\n",
            "Requirement already satisfied: typing-extensions>=3.6.4; python_version < \"3.8\" in /usr/local/lib/python3.7/dist-packages (from importlib-metadata; python_version < \"3.8\"->markdown>=2.6.8->tensorboard) (3.7.4.3)\n",
            "Requirement already satisfied: zipp>=0.5 in /usr/local/lib/python3.7/dist-packages (from importlib-metadata; python_version < \"3.8\"->markdown>=2.6.8->tensorboard) (3.4.0)\n",
            "Requirement already satisfied: oauthlib>=3.0.0 in /usr/local/lib/python3.7/dist-packages (from requests-oauthlib>=0.7.0->google-auth-oauthlib<0.5,>=0.4.1->tensorboard) (3.1.0)\n",
            "Requirement already satisfied: seqeval in /usr/local/lib/python3.7/dist-packages (1.2.2)\n",
            "Requirement already satisfied: numpy>=1.14.0 in /usr/local/lib/python3.7/dist-packages (from seqeval) (1.19.5)\n",
            "Requirement already satisfied: scikit-learn>=0.21.3 in /usr/local/lib/python3.7/dist-packages (from seqeval) (0.22.2.post1)\n",
            "Requirement already satisfied: joblib>=0.11 in /usr/local/lib/python3.7/dist-packages (from scikit-learn>=0.21.3->seqeval) (1.0.1)\n",
            "Requirement already satisfied: scipy>=0.17.0 in /usr/local/lib/python3.7/dist-packages (from scikit-learn>=0.21.3->seqeval) (1.4.1)\n"
          ],
          "name": "stdout"
        }
      ]
    },
    {
      "cell_type": "code",
      "metadata": {
        "colab": {
          "base_uri": "https://localhost:8080/",
          "height": 34
        },
        "id": "7TWbzEXC42Jr",
        "outputId": "ee4f5491-1f9b-41ab-e3b8-6a7b82b09662"
      },
      "source": [
        "import os\n",
        "import sys\n",
        "import json\n",
        "from tqdm import tqdm\n",
        "sys.path.append(\"/content/drive/MyDrive/MovieEntityRecognizer\")\n",
        "\n",
        "import torch\n",
        "from torch import nn\n",
        "import torch.nn.functional as F\n",
        "from torch.utils import tensorboard\n",
        "from seqeval.metrics import classification_report\n",
        "from torch.utils.data import (DataLoader, RandomSampler, SequentialSampler,\n",
        "                              TensorDataset)\n",
        "from transformers import (WEIGHTS_NAME, AdamW, BertConfig,\n",
        "                                  BertForTokenClassification, BertTokenizer,\n",
        "                                  get_linear_schedule_with_warmup)\n",
        "from src.movientities.models.BertModel import BertNerModel\n",
        "from src.movientities.data.analyze_dataset import Analyzer\n",
        "from src.movientities.data.make_dataset import MakeData\n",
        "from src.movientities.utils.processors import NerPreProcessor"
      ],
      "execution_count": 3,
      "outputs": [
        {
          "output_type": "display_data",
          "data": {
            "text/plain": [
              "<Figure size 432x288 with 0 Axes>"
            ]
          },
          "metadata": {
            "tags": []
          }
        }
      ]
    },
    {
      "cell_type": "code",
      "metadata": {
        "id": "bU_qanET42Jz"
      },
      "source": [
        "# Some initializers\n",
        "train = True\n",
        "num_train_epochs = 5\n",
        "train_batch_size = 32\n",
        "eval_batch_size = 8\n",
        "# Weight decay for regularization\n",
        "weight_decay = 0.01\n",
        "# Now 1 but if batches wont fit RAM can be increased\n",
        "gradient_accumulation_steps = 1\n",
        "# %10 warm up\n",
        "warmup_proportion = 0.1\n",
        "# Adam variables\n",
        "adam_epsilon = 1e-8\n",
        "learning_rate = 5e-5\n",
        "# 16 floating point instead of 32\n",
        "fp16 = False\n",
        "if fp16:\n",
        "    # Apex AMP optimization level selected in ['O0', 'O1', 'O2', and 'O3']\n",
        "    fp16_opt_level\n",
        "# max seq length (for engtrain.bio since the lengths are pretty short 128 is alright)\n",
        "max_seq_length = 128\n",
        "# For gradient clipping\n",
        "max_grad_norm = 1.0\n",
        "# For having flexibility over hardware\n",
        "device = torch.device(\"cuda\" if torch.cuda.is_available() else \"cpu\")\n",
        "# Data path\n",
        "data_dir = \"/content/drive/MyDrive/MovieEntityRecognizer/data/modified\"\n",
        "# Tensorboard Name\n",
        "tensorboard_writer = tensorboard.SummaryWriter(\"bert_base_uncased_default\")\n",
        "\n",
        "validate = True\n",
        "test = True"
      ],
      "execution_count": 4,
      "outputs": []
    },
    {
      "cell_type": "code",
      "metadata": {
        "id": "FbVGCLlE42J0"
      },
      "source": [
        "# For downloading data, doesn't require ssl so if downloaded no need to run it again\n",
        "# dataset_names = [\"engtrain.bio\", \"engtest.bio\", \"trivia10k13train.n,bio\", \"trivia10k13test.bio\"]\n",
        "# (MakeData.download_data(os.path.join(\"http://groups.csail.mit.edu/sls/downloads/movie\", dataset_name) for dataset_name in dataset_names)\n",
        "\n"
      ],
      "execution_count": 5,
      "outputs": []
    },
    {
      "cell_type": "code",
      "metadata": {
        "colab": {
          "base_uri": "https://localhost:8080/",
          "height": 513
        },
        "id": "Nb2bgYr642J1",
        "outputId": "2cc878a4-dea4-4968-a55e-159edc6ba13e"
      },
      "source": [
        "# Count also word frequencies and lengths or sentences\n",
        "train_labels = Analyzer.count_labels(\"/content/drive/MyDrive/MovieEntityRecognizer/data/raw/engtrain.bio\", without_o=True)\n",
        "Analyzer.plot_data(train_labels)\n",
        "test_labels = Analyzer.count_labels(\"/content/drive/MyDrive/MovieEntityRecognizer/data/raw/engtest.bio\", without_o=True)\n",
        "Analyzer.plot_data(test_labels)"
      ],
      "execution_count": 6,
      "outputs": [
        {
          "output_type": "display_data",
          "data": {
            "image/png": "[encoded data removed]",
            "text/plain": [
              "<Figure size 432x288 with 1 Axes>"
            ]
          },
          "metadata": {
            "tags": [],
            "needs_background": "light"
          }
        },
        {
          "output_type": "display_data",
          "data": {
            "image/png": "[encoded data removed]",
            "text/plain": [
              "<Figure size 432x288 with 1 Axes>"
            ]
          },
          "metadata": {
            "tags": [],
            "needs_background": "light"
          }
        }
      ]
    },
    {
      "cell_type": "code",
      "metadata": {
        "colab": {
          "base_uri": "https://localhost:8080/"
        },
        "id": "I-jDCIjh42J2",
        "outputId": "19460499-0ec8-4136-ad5f-96ede78e6bb9"
      },
      "source": [
        "# Get distinct labels\n",
        "label_list = list(train_labels.keys())\n",
        "# label_list.append(\"X\")\n",
        "label_list.append(\"[CLS]\")\n",
        "label_list.append(\"[SEP]\")\n",
        "label_list = [\"O\"] + label_list\n",
        "num_labels = len(label_list) + 1\n",
        "print(f\"Size of labels of regular dataset: {len(label_list)}\\n{label_list}\")"
      ],
      "execution_count": 7,
      "outputs": [
        {
          "output_type": "stream",
          "text": [
            "Size of labels of regular dataset: 27\n",
            "['O', 'B-ACTOR', 'I-ACTOR', 'B-YEAR', 'B-TITLE', 'B-GENRE', 'I-GENRE', 'B-DIRECTOR', 'I-DIRECTOR', 'B-SONG', 'I-SONG', 'B-PLOT', 'I-PLOT', 'B-REVIEW', 'B-CHARACTER', 'I-CHARACTER', 'B-RATING', 'B-RATINGS_AVERAGE', 'I-RATINGS_AVERAGE', 'I-TITLE', 'I-RATING', 'B-TRAILER', 'I-TRAILER', 'I-REVIEW', 'I-YEAR', '[CLS]', '[SEP]']\n"
          ],
          "name": "stdout"
        }
      ]
    },
    {
      "cell_type": "code",
      "metadata": {
        "colab": {
          "base_uri": "https://localhost:8080/"
        },
        "id": "GzfwSLBi42J2",
        "outputId": "c32b83f1-200b-4aad-abcc-5ad141f258c5"
      },
      "source": [
        "config = BertConfig.from_pretrained(\"bert-base-uncased\", num_labels=num_labels, finetuning_task=\"ner\")\n",
        "tokenizer = BertTokenizer.from_pretrained(\"bert-base-uncased\")\n",
        "model = BertNerModel.from_pretrained(\"bert-base-uncased\",\n",
        "              from_tf = False,\n",
        "              config = config)"
      ],
      "execution_count": 8,
      "outputs": [
        {
          "output_type": "stream",
          "text": [
            "Some weights of the model checkpoint at bert-base-uncased were not used when initializing BertNerModel: ['cls.predictions.bias', 'cls.predictions.transform.dense.weight', 'cls.predictions.transform.dense.bias', 'cls.predictions.decoder.weight', 'cls.seq_relationship.weight', 'cls.seq_relationship.bias', 'cls.predictions.transform.LayerNorm.weight', 'cls.predictions.transform.LayerNorm.bias']\n",
            "- This IS expected if you are initializing BertNerModel from the checkpoint of a model trained on another task or with another architecture (e.g. initializing a BertForSequenceClassification model from a BertForPreTraining model).\n",
            "- This IS NOT expected if you are initializing BertNerModel from the checkpoint of a model that you expect to be exactly identical (initializing a BertForSequenceClassification model from a BertForSequenceClassification model).\n",
            "Some weights of BertNerModel were not initialized from the model checkpoint at bert-base-uncased and are newly initialized: ['classifier.weight', 'classifier.bias']\n",
            "You should probably TRAIN this model on a down-stream task to be able to use it for predictions and inference.\n"
          ],
          "name": "stderr"
        }
      ]
    },
    {
      "cell_type": "code",
      "metadata": {
        "colab": {
          "base_uri": "https://localhost:8080/"
        },
        "id": "PTOc66km42J3",
        "outputId": "b481ff76-528d-4b2c-ff1b-717d55618737"
      },
      "source": [
        "if train:\n",
        "    train_instances = NerPreProcessor.get_instances(data_dir, \"train\")\n",
        "    num_train_optimization_steps = int(\n",
        "    len(train_instances) / train_batch_size / gradient_accumulation_steps) * num_train_epochs\n",
        "    print(f\"Number of training steps {num_train_optimization_steps}\")\n",
        "    print(f\"Number of training instances {len(train_instances)}\")\n",
        "\n",
        "if validate:\n",
        "    val_instances = NerPreProcessor.get_instances(data_dir, \"dev\")\n",
        "    val_steps = int(\n",
        "    len(val_instances) / eval_batch_size)\n",
        "    print(f\"Number of val steps {val_steps}\")\n",
        "    print(f\"Number of val instances {len(val_instances)}\")\n",
        "\n",
        "if test:\n",
        "    test_instances = NerPreProcessor.get_instances(data_dir, \"test\")\n",
        "    test_steps = int(\n",
        "    len(test_instances) / eval_batch_size)\n",
        "    print(f\"Number of test steps {test_steps}\")\n",
        "    print(f\"Number of test instances {len(test_instances)}\")"
      ],
      "execution_count": 9,
      "outputs": [
        {
          "output_type": "stream",
          "text": [
            "Number of training steps 1525\n",
            "Number of training instances 9775\n",
            "Number of val steps 166\n",
            "Number of val instances 1334\n",
            "Number of test steps 138\n",
            "Number of test instances 1109\n"
          ],
          "name": "stdout"
        }
      ]
    },
    {
      "cell_type": "code",
      "metadata": {
        "colab": {
          "base_uri": "https://localhost:8080/"
        },
        "id": "pphyvsOZ42J4",
        "outputId": "94f493fc-d1d7-4ded-b553-aac830884fce"
      },
      "source": [
        "# Pass the model to GPU if any and summary of the model\n",
        "model.to(device)\n",
        "print(f\"Model is at device {device}\")"
      ],
      "execution_count": 10,
      "outputs": [
        {
          "output_type": "stream",
          "text": [
            "Model is at device cuda\n"
          ],
          "name": "stdout"
        }
      ]
    },
    {
      "cell_type": "code",
      "metadata": {
        "id": "mHHVbGUv42J4"
      },
      "source": [
        "# Regularization to the weights with weight decay (which is L2 norm in this case)\n",
        "param_optimizer = list(model.named_parameters())\n",
        "# The shouldn't be a regularization to layer normalization and bias considering their natures.\n",
        "no_decay = ['bias','LayerNorm.weight']\n",
        "optimizer_grouped_parameters = [\n",
        "    {'params': [p for n, p in param_optimizer if not any(nd in n for nd in no_decay)], 'weight_decay': weight_decay},\n",
        "    {'params': [p for n, p in param_optimizer if any(nd in n for nd in no_decay)], 'weight_decay': 0.0}\n",
        "    ]"
      ],
      "execution_count": 11,
      "outputs": []
    },
    {
      "cell_type": "code",
      "metadata": {
        "id": "7rej9hgS42J5"
      },
      "source": [
        "warmup_steps = int(warmup_proportion * num_train_optimization_steps)\n",
        "optimizer = AdamW(optimizer_grouped_parameters, lr=learning_rate, eps=adam_epsilon)\n",
        "scheduler = get_linear_schedule_with_warmup(optimizer, warmup_steps, num_train_optimization_steps)"
      ],
      "execution_count": 12,
      "outputs": []
    },
    {
      "cell_type": "code",
      "metadata": {
        "id": "NCmAIC-O42J5"
      },
      "source": [
        "# for 16 floating point training which will save RAM but may decrease performance, can be used if RAM is not enough\n",
        "if fp16:\n",
        "    try:\n",
        "        from apex import amp\n",
        "    except ImportError:\n",
        "        raise ImportError(\"Please install apex from https://www.github.com/nvidia/apex to use fp16 training.\")\n",
        "    model, optimizer = amp.initialize(model, optimizer, opt_level=fp16_opt_level)"
      ],
      "execution_count": 13,
      "outputs": []
    },
    {
      "cell_type": "code",
      "metadata": {
        "colab": {
          "base_uri": "https://localhost:8080/"
        },
        "id": "e6fm9hdY42J6",
        "outputId": "d7313b02-d24f-4740-9370-096f4381e6eb"
      },
      "source": [
        "if train:\n",
        "    train_features = NerPreProcessor.convert_instances_to_features(\n",
        "            train_instances, label_list, max_seq_length, tokenizer)"
      ],
      "execution_count": 14,
      "outputs": [
        {
          "output_type": "stream",
          "text": [
            "*** Example ***\n",
            "guid: train-0\n",
            "tokens: what movies star bruce willis\n",
            "input_ids: 101 2054 5691 2732 5503 12688 102 0 0 0 0 0 0 0 0 0 0 0 0 0 0 0 0 0 0 0 0 0 0 0 0 0 0 0 0 0 0 0 0 0 0 0 0 0 0 0 0 0 0 0 0 0 0 0 0 0 0 0 0 0 0 0 0 0 0 0 0 0 0 0 0 0 0 0 0 0 0 0 0 0 0 0 0 0 0 0 0 0 0 0 0 0 0 0 0 0 0 0 0 0 0 0 0 0 0 0 0 0 0 0 0 0 0 0 0 0 0 0 0 0 0 0 0 0 0 0 0 0\n",
            "input_mask: 1 1 1 1 1 1 1 0 0 0 0 0 0 0 0 0 0 0 0 0 0 0 0 0 0 0 0 0 0 0 0 0 0 0 0 0 0 0 0 0 0 0 0 0 0 0 0 0 0 0 0 0 0 0 0 0 0 0 0 0 0 0 0 0 0 0 0 0 0 0 0 0 0 0 0 0 0 0 0 0 0 0 0 0 0 0 0 0 0 0 0 0 0 0 0 0 0 0 0 0 0 0 0 0 0 0 0 0 0 0 0 0 0 0 0 0 0 0 0 0 0 0 0 0 0 0 0 0\n",
            "segment_ids: 0 0 0 0 0 0 0 0 0 0 0 0 0 0 0 0 0 0 0 0 0 0 0 0 0 0 0 0 0 0 0 0 0 0 0 0 0 0 0 0 0 0 0 0 0 0 0 0 0 0 0 0 0 0 0 0 0 0 0 0 0 0 0 0 0 0 0 0 0 0 0 0 0 0 0 0 0 0 0 0 0 0 0 0 0 0 0 0 0 0 0 0 0 0 0 0 0 0 0 0 0 0 0 0 0 0 0 0 0 0 0 0 0 0 0 0 0 0 0 0 0 0 0 0 0 0 0 0\n",
            "*** Example ***\n",
            "guid: train-1\n",
            "tokens: show me films with drew barry ##more from the 1980s\n",
            "input_ids: 101 2265 2033 3152 2007 3881 6287 5974 2013 1996 3865 102 0 0 0 0 0 0 0 0 0 0 0 0 0 0 0 0 0 0 0 0 0 0 0 0 0 0 0 0 0 0 0 0 0 0 0 0 0 0 0 0 0 0 0 0 0 0 0 0 0 0 0 0 0 0 0 0 0 0 0 0 0 0 0 0 0 0 0 0 0 0 0 0 0 0 0 0 0 0 0 0 0 0 0 0 0 0 0 0 0 0 0 0 0 0 0 0 0 0 0 0 0 0 0 0 0 0 0 0 0 0 0 0 0 0 0 0\n",
            "input_mask: 1 1 1 1 1 1 1 1 1 1 1 1 0 0 0 0 0 0 0 0 0 0 0 0 0 0 0 0 0 0 0 0 0 0 0 0 0 0 0 0 0 0 0 0 0 0 0 0 0 0 0 0 0 0 0 0 0 0 0 0 0 0 0 0 0 0 0 0 0 0 0 0 0 0 0 0 0 0 0 0 0 0 0 0 0 0 0 0 0 0 0 0 0 0 0 0 0 0 0 0 0 0 0 0 0 0 0 0 0 0 0 0 0 0 0 0 0 0 0 0 0 0 0 0 0 0 0 0\n",
            "segment_ids: 0 0 0 0 0 0 0 0 0 0 0 0 0 0 0 0 0 0 0 0 0 0 0 0 0 0 0 0 0 0 0 0 0 0 0 0 0 0 0 0 0 0 0 0 0 0 0 0 0 0 0 0 0 0 0 0 0 0 0 0 0 0 0 0 0 0 0 0 0 0 0 0 0 0 0 0 0 0 0 0 0 0 0 0 0 0 0 0 0 0 0 0 0 0 0 0 0 0 0 0 0 0 0 0 0 0 0 0 0 0 0 0 0 0 0 0 0 0 0 0 0 0 0 0 0 0 0 0\n",
            "*** Example ***\n",
            "guid: train-2\n",
            "tokens: what movies starred both al pac ##ino and robert den ##iro\n",
            "input_ids: 101 2054 5691 5652 2119 2632 14397 5740 1998 2728 7939 9711 102 0 0 0 0 0 0 0 0 0 0 0 0 0 0 0 0 0 0 0 0 0 0 0 0 0 0 0 0 0 0 0 0 0 0 0 0 0 0 0 0 0 0 0 0 0 0 0 0 0 0 0 0 0 0 0 0 0 0 0 0 0 0 0 0 0 0 0 0 0 0 0 0 0 0 0 0 0 0 0 0 0 0 0 0 0 0 0 0 0 0 0 0 0 0 0 0 0 0 0 0 0 0 0 0 0 0 0 0 0 0 0 0 0 0 0\n",
            "input_mask: 1 1 1 1 1 1 1 1 1 1 1 1 1 0 0 0 0 0 0 0 0 0 0 0 0 0 0 0 0 0 0 0 0 0 0 0 0 0 0 0 0 0 0 0 0 0 0 0 0 0 0 0 0 0 0 0 0 0 0 0 0 0 0 0 0 0 0 0 0 0 0 0 0 0 0 0 0 0 0 0 0 0 0 0 0 0 0 0 0 0 0 0 0 0 0 0 0 0 0 0 0 0 0 0 0 0 0 0 0 0 0 0 0 0 0 0 0 0 0 0 0 0 0 0 0 0 0 0\n",
            "segment_ids: 0 0 0 0 0 0 0 0 0 0 0 0 0 0 0 0 0 0 0 0 0 0 0 0 0 0 0 0 0 0 0 0 0 0 0 0 0 0 0 0 0 0 0 0 0 0 0 0 0 0 0 0 0 0 0 0 0 0 0 0 0 0 0 0 0 0 0 0 0 0 0 0 0 0 0 0 0 0 0 0 0 0 0 0 0 0 0 0 0 0 0 0 0 0 0 0 0 0 0 0 0 0 0 0 0 0 0 0 0 0 0 0 0 0 0 0 0 0 0 0 0 0 0 0 0 0 0 0\n",
            "*** Example ***\n",
            "guid: train-3\n",
            "tokens: find me all of the movies that starred harold ram ##is and bill murray\n",
            "input_ids: 101 2424 2033 2035 1997 1996 5691 2008 5652 7157 8223 2483 1998 3021 6264 102 0 0 0 0 0 0 0 0 0 0 0 0 0 0 0 0 0 0 0 0 0 0 0 0 0 0 0 0 0 0 0 0 0 0 0 0 0 0 0 0 0 0 0 0 0 0 0 0 0 0 0 0 0 0 0 0 0 0 0 0 0 0 0 0 0 0 0 0 0 0 0 0 0 0 0 0 0 0 0 0 0 0 0 0 0 0 0 0 0 0 0 0 0 0 0 0 0 0 0 0 0 0 0 0 0 0 0 0 0 0 0 0\n",
            "input_mask: 1 1 1 1 1 1 1 1 1 1 1 1 1 1 1 1 0 0 0 0 0 0 0 0 0 0 0 0 0 0 0 0 0 0 0 0 0 0 0 0 0 0 0 0 0 0 0 0 0 0 0 0 0 0 0 0 0 0 0 0 0 0 0 0 0 0 0 0 0 0 0 0 0 0 0 0 0 0 0 0 0 0 0 0 0 0 0 0 0 0 0 0 0 0 0 0 0 0 0 0 0 0 0 0 0 0 0 0 0 0 0 0 0 0 0 0 0 0 0 0 0 0 0 0 0 0 0 0\n",
            "segment_ids: 0 0 0 0 0 0 0 0 0 0 0 0 0 0 0 0 0 0 0 0 0 0 0 0 0 0 0 0 0 0 0 0 0 0 0 0 0 0 0 0 0 0 0 0 0 0 0 0 0 0 0 0 0 0 0 0 0 0 0 0 0 0 0 0 0 0 0 0 0 0 0 0 0 0 0 0 0 0 0 0 0 0 0 0 0 0 0 0 0 0 0 0 0 0 0 0 0 0 0 0 0 0 0 0 0 0 0 0 0 0 0 0 0 0 0 0 0 0 0 0 0 0 0 0 0 0 0 0\n",
            "*** Example ***\n",
            "guid: train-4\n",
            "tokens: find me a movie with a quote about baseball in it\n",
            "input_ids: 101 2424 2033 1037 3185 2007 1037 14686 2055 3598 1999 2009 102 0 0 0 0 0 0 0 0 0 0 0 0 0 0 0 0 0 0 0 0 0 0 0 0 0 0 0 0 0 0 0 0 0 0 0 0 0 0 0 0 0 0 0 0 0 0 0 0 0 0 0 0 0 0 0 0 0 0 0 0 0 0 0 0 0 0 0 0 0 0 0 0 0 0 0 0 0 0 0 0 0 0 0 0 0 0 0 0 0 0 0 0 0 0 0 0 0 0 0 0 0 0 0 0 0 0 0 0 0 0 0 0 0 0 0\n",
            "input_mask: 1 1 1 1 1 1 1 1 1 1 1 1 1 0 0 0 0 0 0 0 0 0 0 0 0 0 0 0 0 0 0 0 0 0 0 0 0 0 0 0 0 0 0 0 0 0 0 0 0 0 0 0 0 0 0 0 0 0 0 0 0 0 0 0 0 0 0 0 0 0 0 0 0 0 0 0 0 0 0 0 0 0 0 0 0 0 0 0 0 0 0 0 0 0 0 0 0 0 0 0 0 0 0 0 0 0 0 0 0 0 0 0 0 0 0 0 0 0 0 0 0 0 0 0 0 0 0 0\n",
            "segment_ids: 0 0 0 0 0 0 0 0 0 0 0 0 0 0 0 0 0 0 0 0 0 0 0 0 0 0 0 0 0 0 0 0 0 0 0 0 0 0 0 0 0 0 0 0 0 0 0 0 0 0 0 0 0 0 0 0 0 0 0 0 0 0 0 0 0 0 0 0 0 0 0 0 0 0 0 0 0 0 0 0 0 0 0 0 0 0 0 0 0 0 0 0 0 0 0 0 0 0 0 0 0 0 0 0 0 0 0 0 0 0 0 0 0 0 0 0 0 0 0 0 0 0 0 0 0 0 0 0\n"
          ],
          "name": "stdout"
        }
      ]
    },
    {
      "cell_type": "code",
      "metadata": {
        "id": "wdJEPf_b42J6"
      },
      "source": [
        "if train:\n",
        "    # Extract inputs for converting them to torch.long\n",
        "    all_input_ids = torch.tensor([f.input_ids for f in train_features], dtype=torch.long)\n",
        "    all_input_mask = torch.tensor([f.input_mask for f in train_features], dtype=torch.long)\n",
        "    all_segment_ids = torch.tensor([f.segment_ids for f in train_features], dtype=torch.long)\n",
        "    all_label_ids = torch.tensor([f.label_id for f in train_features], dtype=torch.long)\n",
        "    all_valid_ids = torch.tensor([f.valid_ids for f in train_features], dtype=torch.long)\n",
        "    all_lmask_ids = torch.tensor([f.label_mask for f in train_features], dtype=torch.long)"
      ],
      "execution_count": 15,
      "outputs": []
    },
    {
      "cell_type": "code",
      "metadata": {
        "id": "CmbQbP4L42J7"
      },
      "source": [
        "if train:\n",
        "    # Combine them back into tensor dataset\n",
        "    train_data = TensorDataset(all_input_ids, all_input_mask, all_segment_ids, all_label_ids,all_valid_ids,all_lmask_ids)\n",
        "    train_sampler = RandomSampler(train_data)"
      ],
      "execution_count": 16,
      "outputs": []
    },
    {
      "cell_type": "code",
      "metadata": {
        "colab": {
          "base_uri": "https://localhost:8080/"
        },
        "id": "ClUyH7C4BgxD",
        "outputId": "26031282-f220-4b96-894a-62e8b8a4bef3"
      },
      "source": [
        "if validate:\n",
        "    val_features = NerPreProcessor.convert_instances_to_features(\n",
        "        val_instances, label_list, max_seq_length, tokenizer)"
      ],
      "execution_count": 17,
      "outputs": [
        {
          "output_type": "stream",
          "text": [
            "*** Example ***\n",
            "guid: dev-0\n",
            "tokens: are there any good romantic comedies out right now\n",
            "input_ids: 101 2024 2045 2151 2204 6298 22092 2041 2157 2085 102 0 0 0 0 0 0 0 0 0 0 0 0 0 0 0 0 0 0 0 0 0 0 0 0 0 0 0 0 0 0 0 0 0 0 0 0 0 0 0 0 0 0 0 0 0 0 0 0 0 0 0 0 0 0 0 0 0 0 0 0 0 0 0 0 0 0 0 0 0 0 0 0 0 0 0 0 0 0 0 0 0 0 0 0 0 0 0 0 0 0 0 0 0 0 0 0 0 0 0 0 0 0 0 0 0 0 0 0 0 0 0 0 0 0 0 0 0\n",
            "input_mask: 1 1 1 1 1 1 1 1 1 1 1 0 0 0 0 0 0 0 0 0 0 0 0 0 0 0 0 0 0 0 0 0 0 0 0 0 0 0 0 0 0 0 0 0 0 0 0 0 0 0 0 0 0 0 0 0 0 0 0 0 0 0 0 0 0 0 0 0 0 0 0 0 0 0 0 0 0 0 0 0 0 0 0 0 0 0 0 0 0 0 0 0 0 0 0 0 0 0 0 0 0 0 0 0 0 0 0 0 0 0 0 0 0 0 0 0 0 0 0 0 0 0 0 0 0 0 0 0\n",
            "segment_ids: 0 0 0 0 0 0 0 0 0 0 0 0 0 0 0 0 0 0 0 0 0 0 0 0 0 0 0 0 0 0 0 0 0 0 0 0 0 0 0 0 0 0 0 0 0 0 0 0 0 0 0 0 0 0 0 0 0 0 0 0 0 0 0 0 0 0 0 0 0 0 0 0 0 0 0 0 0 0 0 0 0 0 0 0 0 0 0 0 0 0 0 0 0 0 0 0 0 0 0 0 0 0 0 0 0 0 0 0 0 0 0 0 0 0 0 0 0 0 0 0 0 0 0 0 0 0 0 0\n",
            "*** Example ***\n",
            "guid: dev-1\n",
            "tokens: show me a movie about cars that talk\n",
            "input_ids: 101 2265 2033 1037 3185 2055 3765 2008 2831 102 0 0 0 0 0 0 0 0 0 0 0 0 0 0 0 0 0 0 0 0 0 0 0 0 0 0 0 0 0 0 0 0 0 0 0 0 0 0 0 0 0 0 0 0 0 0 0 0 0 0 0 0 0 0 0 0 0 0 0 0 0 0 0 0 0 0 0 0 0 0 0 0 0 0 0 0 0 0 0 0 0 0 0 0 0 0 0 0 0 0 0 0 0 0 0 0 0 0 0 0 0 0 0 0 0 0 0 0 0 0 0 0 0 0 0 0 0 0\n",
            "input_mask: 1 1 1 1 1 1 1 1 1 1 0 0 0 0 0 0 0 0 0 0 0 0 0 0 0 0 0 0 0 0 0 0 0 0 0 0 0 0 0 0 0 0 0 0 0 0 0 0 0 0 0 0 0 0 0 0 0 0 0 0 0 0 0 0 0 0 0 0 0 0 0 0 0 0 0 0 0 0 0 0 0 0 0 0 0 0 0 0 0 0 0 0 0 0 0 0 0 0 0 0 0 0 0 0 0 0 0 0 0 0 0 0 0 0 0 0 0 0 0 0 0 0 0 0 0 0 0 0\n",
            "segment_ids: 0 0 0 0 0 0 0 0 0 0 0 0 0 0 0 0 0 0 0 0 0 0 0 0 0 0 0 0 0 0 0 0 0 0 0 0 0 0 0 0 0 0 0 0 0 0 0 0 0 0 0 0 0 0 0 0 0 0 0 0 0 0 0 0 0 0 0 0 0 0 0 0 0 0 0 0 0 0 0 0 0 0 0 0 0 0 0 0 0 0 0 0 0 0 0 0 0 0 0 0 0 0 0 0 0 0 0 0 0 0 0 0 0 0 0 0 0 0 0 0 0 0 0 0 0 0 0 0\n",
            "*** Example ***\n",
            "guid: dev-2\n",
            "tokens: list the five star rated movies starring mel gibson\n",
            "input_ids: 101 2862 1996 2274 2732 6758 5691 4626 11463 9406 102 0 0 0 0 0 0 0 0 0 0 0 0 0 0 0 0 0 0 0 0 0 0 0 0 0 0 0 0 0 0 0 0 0 0 0 0 0 0 0 0 0 0 0 0 0 0 0 0 0 0 0 0 0 0 0 0 0 0 0 0 0 0 0 0 0 0 0 0 0 0 0 0 0 0 0 0 0 0 0 0 0 0 0 0 0 0 0 0 0 0 0 0 0 0 0 0 0 0 0 0 0 0 0 0 0 0 0 0 0 0 0 0 0 0 0 0 0\n",
            "input_mask: 1 1 1 1 1 1 1 1 1 1 1 0 0 0 0 0 0 0 0 0 0 0 0 0 0 0 0 0 0 0 0 0 0 0 0 0 0 0 0 0 0 0 0 0 0 0 0 0 0 0 0 0 0 0 0 0 0 0 0 0 0 0 0 0 0 0 0 0 0 0 0 0 0 0 0 0 0 0 0 0 0 0 0 0 0 0 0 0 0 0 0 0 0 0 0 0 0 0 0 0 0 0 0 0 0 0 0 0 0 0 0 0 0 0 0 0 0 0 0 0 0 0 0 0 0 0 0 0\n",
            "segment_ids: 0 0 0 0 0 0 0 0 0 0 0 0 0 0 0 0 0 0 0 0 0 0 0 0 0 0 0 0 0 0 0 0 0 0 0 0 0 0 0 0 0 0 0 0 0 0 0 0 0 0 0 0 0 0 0 0 0 0 0 0 0 0 0 0 0 0 0 0 0 0 0 0 0 0 0 0 0 0 0 0 0 0 0 0 0 0 0 0 0 0 0 0 0 0 0 0 0 0 0 0 0 0 0 0 0 0 0 0 0 0 0 0 0 0 0 0 0 0 0 0 0 0 0 0 0 0 0 0\n",
            "*** Example ***\n",
            "guid: dev-3\n",
            "tokens: what science fiction films have come out recently\n",
            "input_ids: 101 2054 2671 4349 3152 2031 2272 2041 3728 102 0 0 0 0 0 0 0 0 0 0 0 0 0 0 0 0 0 0 0 0 0 0 0 0 0 0 0 0 0 0 0 0 0 0 0 0 0 0 0 0 0 0 0 0 0 0 0 0 0 0 0 0 0 0 0 0 0 0 0 0 0 0 0 0 0 0 0 0 0 0 0 0 0 0 0 0 0 0 0 0 0 0 0 0 0 0 0 0 0 0 0 0 0 0 0 0 0 0 0 0 0 0 0 0 0 0 0 0 0 0 0 0 0 0 0 0 0 0\n",
            "input_mask: 1 1 1 1 1 1 1 1 1 1 0 0 0 0 0 0 0 0 0 0 0 0 0 0 0 0 0 0 0 0 0 0 0 0 0 0 0 0 0 0 0 0 0 0 0 0 0 0 0 0 0 0 0 0 0 0 0 0 0 0 0 0 0 0 0 0 0 0 0 0 0 0 0 0 0 0 0 0 0 0 0 0 0 0 0 0 0 0 0 0 0 0 0 0 0 0 0 0 0 0 0 0 0 0 0 0 0 0 0 0 0 0 0 0 0 0 0 0 0 0 0 0 0 0 0 0 0 0\n",
            "segment_ids: 0 0 0 0 0 0 0 0 0 0 0 0 0 0 0 0 0 0 0 0 0 0 0 0 0 0 0 0 0 0 0 0 0 0 0 0 0 0 0 0 0 0 0 0 0 0 0 0 0 0 0 0 0 0 0 0 0 0 0 0 0 0 0 0 0 0 0 0 0 0 0 0 0 0 0 0 0 0 0 0 0 0 0 0 0 0 0 0 0 0 0 0 0 0 0 0 0 0 0 0 0 0 0 0 0 0 0 0 0 0 0 0 0 0 0 0 0 0 0 0 0 0 0 0 0 0 0 0\n",
            "*** Example ***\n",
            "guid: dev-4\n",
            "tokens: did the same director make all of the harry potter movies\n",
            "input_ids: 101 2106 1996 2168 2472 2191 2035 1997 1996 4302 10693 5691 102 0 0 0 0 0 0 0 0 0 0 0 0 0 0 0 0 0 0 0 0 0 0 0 0 0 0 0 0 0 0 0 0 0 0 0 0 0 0 0 0 0 0 0 0 0 0 0 0 0 0 0 0 0 0 0 0 0 0 0 0 0 0 0 0 0 0 0 0 0 0 0 0 0 0 0 0 0 0 0 0 0 0 0 0 0 0 0 0 0 0 0 0 0 0 0 0 0 0 0 0 0 0 0 0 0 0 0 0 0 0 0 0 0 0 0\n",
            "input_mask: 1 1 1 1 1 1 1 1 1 1 1 1 1 0 0 0 0 0 0 0 0 0 0 0 0 0 0 0 0 0 0 0 0 0 0 0 0 0 0 0 0 0 0 0 0 0 0 0 0 0 0 0 0 0 0 0 0 0 0 0 0 0 0 0 0 0 0 0 0 0 0 0 0 0 0 0 0 0 0 0 0 0 0 0 0 0 0 0 0 0 0 0 0 0 0 0 0 0 0 0 0 0 0 0 0 0 0 0 0 0 0 0 0 0 0 0 0 0 0 0 0 0 0 0 0 0 0 0\n",
            "segment_ids: 0 0 0 0 0 0 0 0 0 0 0 0 0 0 0 0 0 0 0 0 0 0 0 0 0 0 0 0 0 0 0 0 0 0 0 0 0 0 0 0 0 0 0 0 0 0 0 0 0 0 0 0 0 0 0 0 0 0 0 0 0 0 0 0 0 0 0 0 0 0 0 0 0 0 0 0 0 0 0 0 0 0 0 0 0 0 0 0 0 0 0 0 0 0 0 0 0 0 0 0 0 0 0 0 0 0 0 0 0 0 0 0 0 0 0 0 0 0 0 0 0 0 0 0 0 0 0 0\n"
          ],
          "name": "stdout"
        }
      ]
    },
    {
      "cell_type": "code",
      "metadata": {
        "id": "WSYfyCm2B8SF"
      },
      "source": [
        "if validate:\n",
        "    # Extract inputs for converting them to torch.long\n",
        "    val_all_input_ids = torch.tensor([f.input_ids for f in val_features], dtype=torch.long)\n",
        "    val_all_input_mask = torch.tensor([f.input_mask for f in val_features], dtype=torch.long)\n",
        "    val_all_segment_ids = torch.tensor([f.segment_ids for f in val_features], dtype=torch.long)\n",
        "    val_all_label_ids = torch.tensor([f.label_id for f in val_features], dtype=torch.long)\n",
        "    val_all_valid_ids = torch.tensor([f.valid_ids for f in val_features], dtype=torch.long)\n",
        "    val_all_lmask_ids = torch.tensor([f.label_mask for f in val_features], dtype=torch.long)"
      ],
      "execution_count": 18,
      "outputs": []
    },
    {
      "cell_type": "code",
      "metadata": {
        "id": "CdmqprcUCLFo"
      },
      "source": [
        "if validate:\n",
        "    # Combine them back into tensor dataset\n",
        "    val_data = TensorDataset(val_all_input_ids, val_all_input_mask, val_all_segment_ids, val_all_label_ids,val_all_valid_ids,val_all_lmask_ids)\n",
        "    val_sampler = SequentialSampler(val_data)"
      ],
      "execution_count": 19,
      "outputs": []
    },
    {
      "cell_type": "code",
      "metadata": {
        "id": "a_BcEf9942J7"
      },
      "source": [
        "if train:\n",
        "    # Initialize a DataLoader for putting batches to RAM and from RAM when backpropagation is finished\n",
        "    train_dataloader = DataLoader(train_data, sampler=train_sampler, batch_size=train_batch_size)\n",
        "if validate:\n",
        "    # Same for validation\n",
        "    val_dataloader = DataLoader(val_data, sampler=val_sampler, batch_size=eval_batch_size)"
      ],
      "execution_count": 20,
      "outputs": []
    },
    {
      "cell_type": "code",
      "metadata": {
        "colab": {
          "base_uri": "https://localhost:8080/"
        },
        "id": "hhuFFuQG42J7",
        "outputId": "75b05224-5bf6-48c8-f061-607826a9883e"
      },
      "source": [
        "if train:\n",
        "    global_step = 0\n",
        "    nb_tr_steps = 0\n",
        "    tr_loss = 0\n",
        "    label_map = {i : label for i, label in enumerate(label_list, 1)}\n",
        "    # Initialize training mode of the model for turning on regularizations such as dropout and L2\n",
        "    model.train()\n",
        "    for _ in range(int(num_train_epochs)):\n",
        "        tr_loss = 0\n",
        "        nb_tr_examples, nb_tr_steps = 0, 0\n",
        "        for step, batch in enumerate(tqdm(train_dataloader, desc=\"Iteration\")):\n",
        "            batch = tuple(t.to(device) for t in batch)\n",
        "            input_ids, input_mask, segment_ids, label_ids, valid_ids,l_mask = batch\n",
        "            loss = model(input_ids, segment_ids, input_mask, label_ids,valid_ids,l_mask)\n",
        "            if gradient_accumulation_steps > 1:\n",
        "                loss = loss / gradient_accumulation_steps\n",
        "            \n",
        "            if fp16:\n",
        "                with amp.scale_loss(loss, optimizer) as scaled_loss:\n",
        "                    scaled_loss.backward()\n",
        "                torch.nn.utils.clip_grad_norm_(amp.master_params(optimizer), max_grad_norm)\n",
        "            else:\n",
        "                loss.backward()\n",
        "                torch.nn.utils.clip_grad_norm_(model.parameters(), max_grad_norm)\n",
        "            tr_loss += loss.item()\n",
        "            nb_tr_examples += input_ids.size(0)\n",
        "            nb_tr_steps += 1\n",
        "            if (step + 1) % gradient_accumulation_steps == 0:\n",
        "                optimizer.step()\n",
        "                scheduler.step()  # Update learning rate schedule\n",
        "                model.zero_grad()\n",
        "                global_step += 1\n",
        "            tensorboard_writer.add_scalar(\"Loss/train\", loss, global_step)\n",
        "        if validate:\n",
        "            model.eval()\n",
        "            eval_loss, eval_accuracy = 0, 0\n",
        "            nb_eval_steps, nb_eval_examples = 0, 0\n",
        "            y_true = []\n",
        "            y_pred = []\n",
        "            label_map = {i : label for i, label in enumerate(label_list,1)}\n",
        "            for input_ids, input_mask, segment_ids, label_ids,valid_ids,l_mask in tqdm(val_dataloader, desc=\"Evaluating\"):\n",
        "                input_ids = input_ids.to(device)\n",
        "                input_mask = input_mask.to(device)\n",
        "                segment_ids = segment_ids.to(device)\n",
        "                valid_ids = valid_ids.to(device)\n",
        "                label_ids = label_ids.to(device)\n",
        "                l_mask = l_mask.to(device)\n",
        "\n",
        "                with torch.no_grad():\n",
        "                    logits = model(input_ids, segment_ids, input_mask,valid_ids=valid_ids,attention_mask_label=l_mask)\n",
        "\n",
        "                logits = torch.argmax(F.log_softmax(logits,dim=2),dim=2)\n",
        "                logits = logits.detach().cpu().numpy()\n",
        "                label_ids = label_ids.to('cpu').numpy()\n",
        "                input_mask = input_mask.to('cpu').numpy()\n",
        "                for i, label in enumerate(label_ids):\n",
        "                    temp_1 = []\n",
        "                    temp_2 = []\n",
        "                    for j,m in enumerate(label):\n",
        "                        if j == 0 or label_ids[i][j] == 0 or logits[i][j] == 0:\n",
        "                            continue\n",
        "                        elif label_ids[i][j] == len(label_map):\n",
        "                            y_true.append(temp_1)\n",
        "                            y_pred.append(temp_2)\n",
        "                            break\n",
        "                        else:\n",
        "                            temp_1.append(label_map[label_ids[i][j]])\n",
        "                            temp_2.append(label_map[logits[i][j]])\n",
        "            report = classification_report(y_true, y_pred,digits=4)\n",
        "            print(\"\\n%s\", report)\n",
        "        model.save_pretrained(f\"/content/drive/MyDrive/MovieEntityRecognizer/pretrained_models/bert_base_uncased/modelb32defaulte{_}.pt\")\n",
        "        tokenizer.save_pretrained(f\"/content/drive/MyDrive/MovieEntityRecognizer/pretrained_models/bert_base_uncased\")\n",
        "        label_map = {i : label for i, label in enumerate(label_list,1)}\n",
        "        model_config = {\"bert_model\":\"bert-base-cased\",\"do_lower\":False,\"max_seq_length\":max_seq_length,\"num_labels\":len(label_list)+1,\"label_map\":label_map}\n",
        "        json.dump(model_config,open(os.path.join(\"/content/drive/MyDrive/MovieEntityRecognizer/pretrained_models/bert_base_uncased\",\"model_config.json\"),\"w\"))"
      ],
      "execution_count": 21,
      "outputs": [
        {
          "output_type": "stream",
          "text": [
            "Iteration: 100%|██████████| 306/306 [11:38<00:00,  2.28s/it]\n",
            "Evaluating: 100%|██████████| 167/167 [00:13<00:00, 12.22it/s]\n"
          ],
          "name": "stderr"
        },
        {
          "output_type": "stream",
          "text": [
            "\n",
            "%s                  precision    recall  f1-score   support\n",
            "\n",
            "          ACTOR     0.8650    0.8981    0.8812       471\n",
            "      CHARACTER     0.4844    0.3974    0.4366        78\n",
            "       DIRECTOR     0.8104    0.8261    0.8182       207\n",
            "          GENRE     0.7674    0.8506    0.8069       415\n",
            "           PLOT     0.5164    0.5318    0.5240       267\n",
            "         RATING     0.8217    0.7963    0.8088       162\n",
            "RATINGS_AVERAGE     0.6357    0.7009    0.6667       117\n",
            "         REVIEW     0.0000    0.0000    0.0000        50\n",
            "           SONG     0.6667    0.4800    0.5581        50\n",
            "          TITLE     0.7942    0.8674    0.8292       347\n",
            "        TRAILER     0.7391    0.8500    0.7907        20\n",
            "           YEAR     0.9164    0.8660    0.8905       291\n",
            "\n",
            "      micro avg     0.7697    0.7778    0.7737      2475\n",
            "      macro avg     0.6681    0.6721    0.6676      2475\n",
            "   weighted avg     0.7544    0.7778    0.7648      2475\n",
            "\n"
          ],
          "name": "stdout"
        },
        {
          "output_type": "stream",
          "text": [
            "Iteration: 100%|██████████| 306/306 [11:36<00:00,  2.28s/it]\n",
            "Evaluating: 100%|██████████| 167/167 [00:13<00:00, 12.20it/s]\n"
          ],
          "name": "stderr"
        },
        {
          "output_type": "stream",
          "text": [
            "\n",
            "%s                  precision    recall  f1-score   support\n",
            "\n",
            "          ACTOR     0.8678    0.8917    0.8796       471\n",
            "      CHARACTER     0.5942    0.5256    0.5578        78\n",
            "       DIRECTOR     0.8302    0.8502    0.8401       207\n",
            "          GENRE     0.8128    0.8578    0.8347       415\n",
            "           PLOT     0.5430    0.5918    0.5663       267\n",
            "         RATING     0.7987    0.7840    0.7913       162\n",
            "RATINGS_AVERAGE     0.6990    0.6154    0.6545       117\n",
            "         REVIEW     0.1818    0.0400    0.0656        50\n",
            "           SONG     0.5833    0.5600    0.5714        50\n",
            "          TITLE     0.7700    0.8876    0.8246       347\n",
            "        TRAILER     0.7500    0.9000    0.8182        20\n",
            "           YEAR     0.9167    0.8694    0.8924       291\n",
            "\n",
            "      micro avg     0.7789    0.7915    0.7852      2475\n",
            "      macro avg     0.6956    0.6978    0.6914      2475\n",
            "   weighted avg     0.7707    0.7915    0.7790      2475\n",
            "\n"
          ],
          "name": "stdout"
        },
        {
          "output_type": "stream",
          "text": [
            "Iteration: 100%|██████████| 306/306 [11:36<00:00,  2.27s/it]\n",
            "Evaluating: 100%|██████████| 167/167 [00:13<00:00, 12.15it/s]\n"
          ],
          "name": "stderr"
        },
        {
          "output_type": "stream",
          "text": [
            "\n",
            "%s                  precision    recall  f1-score   support\n",
            "\n",
            "          ACTOR     0.8935    0.9087    0.9011       471\n",
            "      CHARACTER     0.6615    0.5513    0.6014        78\n",
            "       DIRECTOR     0.8396    0.8599    0.8496       207\n",
            "          GENRE     0.8152    0.8506    0.8325       415\n",
            "           PLOT     0.5170    0.5693    0.5419       267\n",
            "         RATING     0.8250    0.8148    0.8199       162\n",
            "RATINGS_AVERAGE     0.6695    0.6752    0.6723       117\n",
            "         REVIEW     0.3429    0.2400    0.2824        50\n",
            "           SONG     0.6444    0.5800    0.6105        50\n",
            "          TITLE     0.8059    0.8732    0.8382       347\n",
            "        TRAILER     0.7500    0.9000    0.8182        20\n",
            "           YEAR     0.8763    0.9003    0.8881       291\n",
            "\n",
            "      micro avg     0.7831    0.8036    0.7932      2475\n",
            "      macro avg     0.7201    0.7269    0.7213      2475\n",
            "   weighted avg     0.7812    0.8036    0.7916      2475\n",
            "\n"
          ],
          "name": "stdout"
        },
        {
          "output_type": "stream",
          "text": [
            "Iteration: 100%|██████████| 306/306 [11:36<00:00,  2.27s/it]\n",
            "Evaluating: 100%|██████████| 167/167 [00:13<00:00, 12.16it/s]\n"
          ],
          "name": "stderr"
        },
        {
          "output_type": "stream",
          "text": [
            "\n",
            "%s                  precision    recall  f1-score   support\n",
            "\n",
            "          ACTOR     0.8877    0.9066    0.8971       471\n",
            "      CHARACTER     0.6111    0.5641    0.5867        78\n",
            "       DIRECTOR     0.8592    0.8551    0.8571       207\n",
            "          GENRE     0.8023    0.8410    0.8212       415\n",
            "           PLOT     0.5278    0.5693    0.5477       267\n",
            "         RATING     0.8313    0.8210    0.8261       162\n",
            "RATINGS_AVERAGE     0.7217    0.7094    0.7155       117\n",
            "         REVIEW     0.2667    0.1600    0.2000        50\n",
            "           SONG     0.5714    0.5600    0.5657        50\n",
            "          TITLE     0.8000    0.8646    0.8310       347\n",
            "        TRAILER     0.7500    0.9000    0.8182        20\n",
            "           YEAR     0.9211    0.8832    0.9018       291\n",
            "\n",
            "      micro avg     0.7860    0.7984    0.7921      2475\n",
            "      macro avg     0.7125    0.7195    0.7140      2475\n",
            "   weighted avg     0.7835    0.7984    0.7902      2475\n",
            "\n"
          ],
          "name": "stdout"
        },
        {
          "output_type": "stream",
          "text": [
            "Iteration: 100%|██████████| 306/306 [11:36<00:00,  2.27s/it]\n",
            "Evaluating: 100%|██████████| 167/167 [00:13<00:00, 12.09it/s]\n"
          ],
          "name": "stderr"
        },
        {
          "output_type": "stream",
          "text": [
            "\n",
            "%s                  precision    recall  f1-score   support\n",
            "\n",
            "          ACTOR     0.8893    0.9214    0.9051       471\n",
            "      CHARACTER     0.6000    0.5769    0.5882        78\n",
            "       DIRECTOR     0.8929    0.8454    0.8685       207\n",
            "          GENRE     0.8212    0.8410    0.8310       415\n",
            "           PLOT     0.5034    0.5506    0.5259       267\n",
            "         RATING     0.8037    0.8086    0.8062       162\n",
            "RATINGS_AVERAGE     0.6903    0.6667    0.6783       117\n",
            "         REVIEW     0.2222    0.1600    0.1860        50\n",
            "           SONG     0.5745    0.5400    0.5567        50\n",
            "          TITLE     0.8139    0.8444    0.8289       347\n",
            "        TRAILER     0.7143    0.7500    0.7317        20\n",
            "           YEAR     0.9173    0.8763    0.8963       291\n",
            "\n",
            "      micro avg     0.7847    0.7907    0.7877      2475\n",
            "      macro avg     0.7036    0.6984    0.7002      2475\n",
            "   weighted avg     0.7839    0.7907    0.7868      2475\n",
            "\n"
          ],
          "name": "stdout"
        }
      ]
    }
  ]
}