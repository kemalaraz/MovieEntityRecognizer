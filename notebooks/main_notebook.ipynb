{
 "metadata": {
  "language_info": {
   "codemirror_mode": {
    "name": "ipython",
    "version": 3
   },
   "file_extension": ".py",
   "mimetype": "text/x-python",
   "name": "python",
   "nbconvert_exporter": "python",
   "pygments_lexer": "ipython3",
   "version": "3.6.12-final"
  },
  "orig_nbformat": 2,
  "kernelspec": {
   "name": "python361264bitkpmgprojectconda0f1fdb9bc14d4076808774281d366301",
   "display_name": "Python 3.6.12 64-bit ('kpmg_project': conda)",
   "language": "python"
  }
 },
 "nbformat": 4,
 "nbformat_minor": 2,
 "cells": [
  {
   "cell_type": "code",
   "execution_count": 3,
   "metadata": {},
   "outputs": [
    {
     "output_type": "stream",
     "name": "stderr",
     "text": [
      "engtrain.bio: 1.02MB [00:05, 194kB/s]                           \n"
     ]
    }
   ],
   "source": [
    "\n",
    "import sys\n",
    "sys.path.append(\"..\")\n",
    "from src.data.make_dataset import MakeData\n",
    "\n",
    "dataset_names = [\"engtrain.bio\", \"engtest.bio\", \"trivia10k13train.n,bio\", \"trivia10k13test.bio\"]\n",
    "data_maker = MakeData.download_data(\"https://groups.csail.mit.edu/sls/downloads/movie/engtrain.bio\")\n",
    "\n"
   ]
  }
 ]
}