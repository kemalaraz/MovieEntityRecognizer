{
 "cells": [
  {
   "source": [
    "## BiLSTM for Trivia\n",
    "I was going to make this repository a package with setup.py and everything but because of my deadlines and responsibilities at my current workplace I haven't got the time to do that so I shared the structure of the project in README.md file."
   ],
   "cell_type": "markdown",
   "metadata": {}
  },
  {
   "cell_type": "code",
   "execution_count": 6,
   "metadata": {},
   "outputs": [],
   "source": [
    "import os\n",
    "import sys\n",
    "import json\n",
    "import numpy as np\n",
    "from tqdm import tqdm\n",
    "sys.path.append(\"..\")\n",
    "\n",
    "from torch import nn\n",
    "from torch.optim import Adam\n",
    "from src.movientities.models.lstm import BiLSTM\n",
    "from src.movientities.utils.processors import NerPreProcessor\n",
    "from src.movientities.bilstm_trainer import TrainerBiLstm\n",
    "from src.movientities.data.build_dataset import Corpus, BuildData"
   ]
  },
  {
   "cell_type": "code",
   "execution_count": 7,
   "metadata": {},
   "outputs": [],
   "source": [
    "# Create datasets with tab as splitter for corpus of torch text to handle\n",
    "BuildData.create_finaldata(\"/home/kemalaraz/Desktop/MovieEntityRecognizer/data/raw/trivia10k/trivia10k13train.bio\", \"/home/kemalaraz/Desktop/MovieEntityRecognizer/data/modified/trivia_tab_format/train.txt\", splits=\"\\t\")\n",
    "BuildData.create_finaldata(\"/home/kemalaraz/Desktop/MovieEntityRecognizer/data/raw/trivia10k/trivia10k13test.bio\", \"/home/kemalaraz/Desktop/MovieEntityRecognizer/data/modified/trivia_tab_format/test.txt\", splits=\"\\t\")"
   ]
  },
  {
   "cell_type": "code",
   "execution_count": 8,
   "metadata": {},
   "outputs": [
    {
     "name": "stdout",
     "output_type": "stream",
     "text": [
      "Train set: 7816 sentences\n",
      "Test set: 1953 sentences\n"
     ]
    }
   ],
   "source": [
    "dataset = Corpus(\n",
    "    input_folder=\"/home/kemalaraz/Desktop/MovieEntityRecognizer/data/modified/trivia_tab_format\",\n",
    "    min_word_freq=3,  # any words occurring less than 3 times will be ignored from vocab\n",
    "    batch_size=64)\n",
    "print(f\"Train set: {len(dataset.train_dataset)} sentences\")\n",
    "print(f\"Test set: {len(dataset.test_dataset)} sentences\")"
   ]
  },
  {
   "cell_type": "code",
   "execution_count": 9,
   "metadata": {},
   "outputs": [
    {
     "name": "stdout",
     "output_type": "stream",
     "text": [
      "The model has 1,847,430 trainable parameters.\n",
      "BiLSTM(\n",
      "  (embedding): Embedding(4529, 300, padding_idx=1)\n",
      "  (emb_dropout): Dropout(p=0.25, inplace=False)\n",
      "  (lstm): LSTM(300, 64, num_layers=4, dropout=0.01, bidirectional=True)\n",
      "  (fc_dropout): Dropout(p=0.1, inplace=False)\n",
      "  (fc): Linear(in_features=128, out_features=26, bias=True)\n",
      ")\n"
     ]
    }
   ],
   "source": [
    "model = BiLSTM(\n",
    "    input_dim=len(dataset.word_field.vocab),\n",
    "    embedding_dim=300,\n",
    "    hidden_dim=64,\n",
    "    output_dim=len(dataset.tag_field.vocab),\n",
    "    lstm_layers=4,\n",
    "    emb_dropout=0.25,\n",
    "    lstm_dropout=0.01,\n",
    "    fc_dropout=0.1,\n",
    "    word_pad_idx=dataset.word_pad_idx,\n",
    ")\n",
    "# Initialize weights and embeddings\n",
    "model.init_weights()\n",
    "model.init_embeddings(word_pad_idx=dataset.word_pad_idx)\n",
    "print(f\"The model has {model.count_parameters():,} trainable parameters.\")\n",
    "print(model)"
   ]
  },
  {
   "cell_type": "code",
   "execution_count": 10,
   "metadata": {
    "tags": []
   },
   "outputs": [
    {
     "name": "stdout",
     "output_type": "stream",
     "text": [
      "Epoch: 01 | Epoch Time: 0m 34s\n",
      "\tTrn Loss: 1.517 | Trn Acc: 60.29%\n",
      "\tVal Loss: 1.246 | Val Acc: 66.91% | Val Precision: 53.38% | Val Recall: 52.57% | Val F1 Macro: 47.63% | Val F1 Micro: 72.34%\n",
      "Epoch: 02 | Epoch Time: 0m 35s\n",
      "\tTrn Loss: 0.971 | Trn Acc: 72.02%\n",
      "\tVal Loss: 0.787 | Val Acc: 77.46% | Val Precision: 61.61% | Val Recall: 56.73% | Val F1 Macro: 54.53% | Val F1 Micro: 78.20%\n",
      "Epoch: 03 | Epoch Time: 0m 36s\n",
      "\tTrn Loss: 0.595 | Trn Acc: 82.88%\n",
      "\tVal Loss: 0.622 | Val Acc: 81.25% | Val Precision: 64.88% | Val Recall: 67.43% | Val F1 Macro: 63.18% | Val F1 Micro: 81.36%\n",
      "Epoch: 04 | Epoch Time: 0m 37s\n",
      "\tTrn Loss: 0.475 | Trn Acc: 85.48%\n",
      "\tVal Loss: 0.570 | Val Acc: 83.04% | Val Precision: 69.89% | Val Recall: 65.90% | Val F1 Macro: 65.20% | Val F1 Micro: 82.45%\n",
      "Epoch: 05 | Epoch Time: 0m 36s\n",
      "\tTrn Loss: 0.401 | Trn Acc: 87.54%\n",
      "\tVal Loss: 0.539 | Val Acc: 84.09% | Val Precision: 71.70% | Val Recall: 67.07% | Val F1 Macro: 66.68% | Val F1 Micro: 83.17%\n",
      "Epoch: 06 | Epoch Time: 0m 36s\n",
      "\tTrn Loss: 0.367 | Trn Acc: 88.47%\n",
      "\tVal Loss: 0.537 | Val Acc: 84.08% | Val Precision: 68.91% | Val Recall: 67.06% | Val F1 Macro: 65.89% | Val F1 Micro: 82.93%\n",
      "Epoch: 07 | Epoch Time: 0m 37s\n",
      "\tTrn Loss: 0.322 | Trn Acc: 89.72%\n",
      "\tVal Loss: 0.511 | Val Acc: 84.44% | Val Precision: 70.57% | Val Recall: 66.46% | Val F1 Macro: 66.44% | Val F1 Micro: 83.09%\n",
      "Epoch: 08 | Epoch Time: 0m 32s\n",
      "\tTrn Loss: 0.292 | Trn Acc: 90.58%\n",
      "\tVal Loss: 0.516 | Val Acc: 84.88% | Val Precision: 68.56% | Val Recall: 70.41% | Val F1 Macro: 67.80% | Val F1 Micro: 83.49%\n",
      "Epoch: 09 | Epoch Time: 0m 28s\n",
      "\tTrn Loss: 0.263 | Trn Acc: 91.45%\n",
      "\tVal Loss: 0.536 | Val Acc: 85.17% | Val Precision: 71.49% | Val Recall: 68.61% | Val F1 Macro: 68.28% | Val F1 Micro: 83.80%\n",
      "Epoch: 10 | Epoch Time: 0m 29s\n",
      "\tTrn Loss: 0.241 | Trn Acc: 92.02%\n",
      "\tVal Loss: 0.547 | Val Acc: 84.88% | Val Precision: 69.54% | Val Recall: 67.23% | Val F1 Macro: 66.47% | Val F1 Micro: 83.44%\n",
      "Epoch: 11 | Epoch Time: 0m 32s\n",
      "\tTrn Loss: 0.220 | Trn Acc: 92.71%\n",
      "\tVal Loss: 0.569 | Val Acc: 84.99% | Val Precision: 70.50% | Val Recall: 68.94% | Val F1 Macro: 68.01% | Val F1 Micro: 83.58%\n",
      "Epoch: 12 | Epoch Time: 0m 36s\n",
      "\tTrn Loss: 0.202 | Trn Acc: 93.31%\n",
      "\tVal Loss: 0.591 | Val Acc: 84.49% | Val Precision: 68.87% | Val Recall: 69.06% | Val F1 Macro: 67.35% | Val F1 Micro: 83.03%\n",
      "Epoch: 13 | Epoch Time: 0m 32s\n",
      "\tTrn Loss: 0.190 | Trn Acc: 93.77%\n",
      "\tVal Loss: 0.591 | Val Acc: 84.77% | Val Precision: 70.32% | Val Recall: 70.69% | Val F1 Macro: 68.67% | Val F1 Micro: 83.32%\n",
      "Epoch: 14 | Epoch Time: 0m 31s\n",
      "\tTrn Loss: 0.176 | Trn Acc: 94.20%\n",
      "\tVal Loss: 0.609 | Val Acc: 84.83% | Val Precision: 69.73% | Val Recall: 67.67% | Val F1 Macro: 67.16% | Val F1 Micro: 83.37%\n",
      "Epoch: 15 | Epoch Time: 0m 36s\n",
      "\tTrn Loss: 0.163 | Trn Acc: 94.68%\n",
      "\tVal Loss: 0.620 | Val Acc: 84.20% | Val Precision: 67.65% | Val Recall: 69.02% | Val F1 Macro: 66.57% | Val F1 Micro: 82.70%\n",
      "Epoch: 16 | Epoch Time: 0m 36s\n",
      "\tTrn Loss: 0.151 | Trn Acc: 95.09%\n",
      "\tVal Loss: 0.626 | Val Acc: 84.61% | Val Precision: 69.05% | Val Recall: 70.12% | Val F1 Macro: 67.99% | Val F1 Micro: 83.12%\n",
      "Epoch: 17 | Epoch Time: 0m 38s\n",
      "\tTrn Loss: 0.140 | Trn Acc: 95.49%\n",
      "\tVal Loss: 0.648 | Val Acc: 84.72% | Val Precision: 70.29% | Val Recall: 68.91% | Val F1 Macro: 67.79% | Val F1 Micro: 83.22%\n",
      "Epoch: 18 | Epoch Time: 0m 30s\n",
      "\tTrn Loss: 0.127 | Trn Acc: 95.93%\n",
      "\tVal Loss: 0.686 | Val Acc: 83.82% | Val Precision: 66.08% | Val Recall: 66.88% | Val F1 Macro: 64.92% | Val F1 Micro: 82.35%\n",
      "Epoch: 19 | Epoch Time: 0m 34s\n",
      "\tTrn Loss: 0.119 | Trn Acc: 96.14%\n",
      "\tVal Loss: 0.703 | Val Acc: 84.75% | Val Precision: 70.13% | Val Recall: 67.75% | Val F1 Macro: 67.19% | Val F1 Micro: 83.27%\n",
      "Epoch: 20 | Epoch Time: 0m 31s\n",
      "\tTrn Loss: 0.111 | Trn Acc: 96.37%\n",
      "\tVal Loss: 0.743 | Val Acc: 84.46% | Val Precision: 69.71% | Val Recall: 67.22% | Val F1 Macro: 66.71% | Val F1 Micro: 83.01%\n"
     ]
    }
   ],
   "source": [
    "ner = TrainerBiLstm(\n",
    "  model=model,\n",
    "  data=dataset,\n",
    "  optimizer_cls=Adam,\n",
    "  loss_fn_cls=nn.CrossEntropyLoss,\n",
    "  log_name=\"bilstm_vanilla_trivia\"\n",
    ")\n",
    "ner.train(20)"
   ]
  },
  {
   "cell_type": "markdown",
   "metadata": {},
   "source": [
    "20 Epoch Adam lr 0.001lstm drop 0.1 fc dopr 0.25 batch 64\n",
    "\n",
    "Epoch: 01 | Epoch Time: 0m 29s\n",
    "\tTrn Loss: 1.658 | Trn Acc: 61.69%\n",
    "\tVal Loss: 1.227 | Val Acc: 66.63% | Val Precision: 31.96% | Val Recall: 52.00% | Val F1 Macro: 36.41% | Val F1 Micro: 72.99%\n",
    "Epoch: 02 | Epoch Time: 0m 34s\n",
    "\tTrn Loss: 0.845 | Trn Acc: 76.78%\n",
    "\tVal Loss: 0.753 | Val Acc: 80.34% | Val Precision: 57.47% | Val Recall: 55.16% | Val F1 Macro: 52.33% | Val F1 Micro: 80.03%\n",
    "Epoch: 03 | Epoch Time: 0m 33s\n",
    "\tTrn Loss: 0.538 | Trn Acc: 86.26%\n",
    "\tVal Loss: 0.600 | Val Acc: 85.45% | Val Precision: 70.97% | Val Recall: 69.60% | Val F1 Macro: 67.31% | Val F1 Micro: 84.88%\n",
    "Epoch: 04 | Epoch Time: 0m 33s\n",
    "\tTrn Loss: 0.412 | Trn Acc: 89.78%\n",
    "\tVal Loss: 0.476 | Val Acc: 88.51% | Val Precision: 73.39% | Val Recall: 75.89% | Val F1 Macro: 72.66% | Val F1 Micro: 87.82%\n",
    "Epoch: 05 | Epoch Time: 0m 34s\n",
    "\tTrn Loss: 0.346 | Trn Acc: 91.46%\n",
    "\tVal Loss: 0.458 | Val Acc: 88.67% | Val Precision: 73.57% | Val Recall: 73.83% | Val F1 Macro: 71.65% | Val F1 Micro: 87.77%\n",
    "Epoch: 06 | Epoch Time: 0m 33s\n",
    "\tTrn Loss: 0.305 | Trn Acc: 92.39%\n",
    "\tVal Loss: 0.432 | Val Acc: 89.27% | Val Precision: 76.20% | Val Recall: 74.37% | Val F1 Macro: 73.06% | Val F1 Micro: 88.32%\n",
    "Epoch: 07 | Epoch Time: 0m 25s\n",
    "\tTrn Loss: 0.275 | Trn Acc: 93.19%\n",
    "\tVal Loss: 0.435 | Val Acc: 89.10% | Val Precision: 77.82% | Val Recall: 75.45% | Val F1 Macro: 74.63% | Val F1 Micro: 88.10%\n",
    "Epoch: 08 | Epoch Time: 0m 29s\n",
    "\tTrn Loss: 0.256 | Trn Acc: 93.59%\n",
    "\tVal Loss: 0.432 | Val Acc: 89.23% | Val Precision: 77.96% | Val Recall: 75.78% | Val F1 Macro: 74.90% | Val F1 Micro: 88.20%\n",
    "Epoch: 09 | Epoch Time: 0m 31s\n",
    "\tTrn Loss: 0.233 | Trn Acc: 94.13%\n",
    "\tVal Loss: 0.407 | Val Acc: 90.06% | Val Precision: 78.80% | Val Recall: 77.47% | Val F1 Macro: 76.32% | Val F1 Micro: 88.94%\n",
    "Epoch: 10 | Epoch Time: 0m 27s\n",
    "\tTrn Loss: 0.217 | Trn Acc: 94.55%\n",
    "\tVal Loss: 0.394 | Val Acc: 90.39% | Val Precision: 80.00% | Val Recall: 79.13% | Val F1 Macro: 77.82% | Val F1 Micro: 89.33%\n",
    "Epoch: 11 | Epoch Time: 0m 25s\n",
    "\tTrn Loss: 0.205 | Trn Acc: 94.79%\n",
    "\tVal Loss: 0.396 | Val Acc: 90.41% | Val Precision: 78.76% | Val Recall: 77.90% | Val F1 Macro: 76.47% | Val F1 Micro: 89.24%\n",
    "Epoch: 12 | Epoch Time: 0m 24s\n",
    "\tTrn Loss: 0.191 | Trn Acc: 95.05%\n",
    "\tVal Loss: 0.428 | Val Acc: 89.46% | Val Precision: 77.10% | Val Recall: 76.90% | Val F1 Macro: 74.92% | Val F1 Micro: 88.31%\n",
    "Epoch: 13 | Epoch Time: 0m 25s\n",
    "\tTrn Loss: 0.179 | Trn Acc: 95.34%\n",
    "\tVal Loss: 0.392 | Val Acc: 90.74% | Val Precision: 80.24% | Val Recall: 79.21% | Val F1 Macro: 78.04% | Val F1 Micro: 89.60%\n",
    "Epoch: 14 | Epoch Time: 0m 26s\n",
    "\tTrn Loss: 0.170 | Trn Acc: 95.51%\n",
    "\tVal Loss: 0.419 | Val Acc: 90.37% | Val Precision: 79.34% | Val Recall: 79.72% | Val F1 Macro: 77.80% | Val F1 Micro: 89.25%\n",
    "Epoch: 15 | Epoch Time: 0m 24s\n",
    "\tTrn Loss: 0.164 | Trn Acc: 95.68%\n",
    "\tVal Loss: 0.392 | Val Acc: 90.65% | Val Precision: 79.81% | Val Recall: 79.83% | Val F1 Macro: 78.28% | Val F1 Micro: 89.53%\n",
    "Epoch: 16 | Epoch Time: 0m 26s\n",
    "\tTrn Loss: 0.154 | Trn Acc: 95.89%\n",
    "\tVal Loss: 0.404 | Val Acc: 90.56% | Val Precision: 79.85% | Val Recall: 78.63% | Val F1 Macro: 77.54% | Val F1 Micro: 89.40%\n",
    "Epoch: 17 | Epoch Time: 0m 26s\n",
    "\tTrn Loss: 0.148 | Trn Acc: 95.99%\n",
    "\tVal Loss: 0.400 | Val Acc: 90.59% | Val Precision: 78.39% | Val Recall: 77.84% | Val F1 Macro: 76.49% | Val F1 Micro: 89.40%\n",
    "Epoch: 18 | Epoch Time: 0m 28s\n",
    "\tTrn Loss: 0.140 | Trn Acc: 96.25%\n",
    "\tVal Loss: 0.434 | Val Acc: 90.37% | Val Precision: 79.29% | Val Recall: 78.36% | Val F1 Macro: 77.08% | Val F1 Micro: 89.21%\n",
    "Epoch: 19 | Epoch Time: 0m 29s\n",
    "\tTrn Loss: 0.135 | Trn Acc: 96.33%\n",
    "\tVal Loss: 0.402 | Val Acc: 91.19% | Val Precision: 80.33% | Val Recall: 78.81% | Val F1 Macro: 77.74% | Val F1 Micro: 89.98%\n",
    "Epoch: 20 | Epoch Time: 0m 24s\n",
    "\tTrn Loss: 0.126 | Trn Acc: 96.57%\n",
    "\tVal Loss: 0.381 | Val Acc: 91.04% | Val Precision: 78.34% | Val Recall: 77.63% | Val F1 Macro: 76.52% | Val F1 Micro: 89.79%\n",
    "\n"
   ]
  }
 ],
 "metadata": {
  "kernelspec": {
   "display_name": "Python 3.7.10 64-bit ('kpmg': conda)",
   "language": "python",
   "name": "python371064bitkpmgconda9ab805a6f13f4730b4aaa5e98639804c"
  },
  "language_info": {
   "codemirror_mode": {
    "name": "ipython",
    "version": 3
   },
   "file_extension": ".py",
   "mimetype": "text/x-python",
   "name": "python",
   "nbconvert_exporter": "python",
   "pygments_lexer": "ipython3",
   "version": "3.7.10"
  }
 },
 "nbformat": 4,
 "nbformat_minor": 2
}