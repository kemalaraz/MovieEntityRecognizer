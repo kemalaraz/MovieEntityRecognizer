{
 "cells": [
  {
   "cell_type": "code",
   "execution_count": 1,
   "metadata": {
    "colab": {
     "base_uri": "https://localhost:8080/"
    },
    "id": "lBfFBv_L5Aif",
    "outputId": "9144c44d-7fd3-4474-928f-101ebafc4210"
   },
   "outputs": [
    {
     "name": "stdout",
     "output_type": "stream",
     "text": [
      "Mounted at /content/drive\n"
     ]
    }
   ],
   "source": [
    "from google.colab import drive\n",
    "drive.mount('/content/drive')"
   ]
  },
  {
   "cell_type": "code",
   "execution_count": 2,
   "metadata": {
    "colab": {
     "base_uri": "https://localhost:8080/"
    },
    "id": "AG3zK-K15O7r",
    "outputId": "ddcf9102-e411-401c-bb39-c87c5cfb5dfe"
   },
   "outputs": [
    {
     "name": "stdout",
     "output_type": "stream",
     "text": [
      "Collecting transformers\n",
      "\u001b[?25l  Downloading https://files.pythonhosted.org/packages/f9/54/5ca07ec9569d2f232f3166de5457b63943882f7950ddfcc887732fc7fb23/transformers-4.3.3-py3-none-any.whl (1.9MB)\n",
      "\r",
      "\u001b[K     |▏                               | 10kB 18.0MB/s eta 0:00:01\r",
      "\u001b[K     |▍                               | 20kB 16.8MB/s eta 0:00:01\r",
      "\u001b[K     |▌                               | 30kB 14.2MB/s eta 0:00:01\r",
      "\u001b[K     |▊                               | 40kB 13.2MB/s eta 0:00:01\r",
      "\u001b[K     |▉                               | 51kB 8.9MB/s eta 0:00:01\r",
      "\u001b[K     |█                               | 61kB 9.2MB/s eta 0:00:01\r",
      "\u001b[K     |█▏                              | 71kB 9.6MB/s eta 0:00:01\r",
      "\u001b[K     |█▍                              | 81kB 10.5MB/s eta 0:00:01\r",
      "\u001b[K     |█▌                              | 92kB 9.8MB/s eta 0:00:01\r",
      "\u001b[K     |█▊                              | 102kB 8.7MB/s eta 0:00:01\r",
      "\u001b[K     |██                              | 112kB 8.7MB/s eta 0:00:01\r",
      "\u001b[K     |██                              | 122kB 8.7MB/s eta 0:00:01\r",
      "\u001b[K     |██▎                             | 133kB 8.7MB/s eta 0:00:01\r",
      "\u001b[K     |██▍                             | 143kB 8.7MB/s eta 0:00:01\r",
      "\u001b[K     |██▋                             | 153kB 8.7MB/s eta 0:00:01\r",
      "\u001b[K     |██▊                             | 163kB 8.7MB/s eta 0:00:01\r",
      "\u001b[K     |███                             | 174kB 8.7MB/s eta 0:00:01\r",
      "\u001b[K     |███                             | 184kB 8.7MB/s eta 0:00:01\r",
      "\u001b[K     |███▎                            | 194kB 8.7MB/s eta 0:00:01\r",
      "\u001b[K     |███▌                            | 204kB 8.7MB/s eta 0:00:01\r",
      "\u001b[K     |███▋                            | 215kB 8.7MB/s eta 0:00:01\r",
      "\u001b[K     |███▉                            | 225kB 8.7MB/s eta 0:00:01\r",
      "\u001b[K     |████                            | 235kB 8.7MB/s eta 0:00:01\r",
      "\u001b[K     |████▏                           | 245kB 8.7MB/s eta 0:00:01\r",
      "\u001b[K     |████▎                           | 256kB 8.7MB/s eta 0:00:01\r",
      "\u001b[K     |████▌                           | 266kB 8.7MB/s eta 0:00:01\r",
      "\u001b[K     |████▋                           | 276kB 8.7MB/s eta 0:00:01\r",
      "\u001b[K     |████▉                           | 286kB 8.7MB/s eta 0:00:01\r",
      "\u001b[K     |█████                           | 296kB 8.7MB/s eta 0:00:01\r",
      "\u001b[K     |█████▏                          | 307kB 8.7MB/s eta 0:00:01\r",
      "\u001b[K     |█████▍                          | 317kB 8.7MB/s eta 0:00:01\r",
      "\u001b[K     |█████▌                          | 327kB 8.7MB/s eta 0:00:01\r",
      "\u001b[K     |█████▊                          | 337kB 8.7MB/s eta 0:00:01\r",
      "\u001b[K     |█████▉                          | 348kB 8.7MB/s eta 0:00:01\r",
      "\u001b[K     |██████                          | 358kB 8.7MB/s eta 0:00:01\r",
      "\u001b[K     |██████▏                         | 368kB 8.7MB/s eta 0:00:01\r",
      "\u001b[K     |██████▍                         | 378kB 8.7MB/s eta 0:00:01\r",
      "\u001b[K     |██████▋                         | 389kB 8.7MB/s eta 0:00:01\r",
      "\u001b[K     |██████▊                         | 399kB 8.7MB/s eta 0:00:01\r",
      "\u001b[K     |███████                         | 409kB 8.7MB/s eta 0:00:01\r",
      "\u001b[K     |███████                         | 419kB 8.7MB/s eta 0:00:01\r",
      "\u001b[K     |███████▎                        | 430kB 8.7MB/s eta 0:00:01\r",
      "\u001b[K     |███████▍                        | 440kB 8.7MB/s eta 0:00:01\r",
      "\u001b[K     |███████▋                        | 450kB 8.7MB/s eta 0:00:01\r",
      "\u001b[K     |███████▊                        | 460kB 8.7MB/s eta 0:00:01\r",
      "\u001b[K     |████████                        | 471kB 8.7MB/s eta 0:00:01\r",
      "\u001b[K     |████████▏                       | 481kB 8.7MB/s eta 0:00:01\r",
      "\u001b[K     |████████▎                       | 491kB 8.7MB/s eta 0:00:01\r",
      "\u001b[K     |████████▌                       | 501kB 8.7MB/s eta 0:00:01\r",
      "\u001b[K     |████████▋                       | 512kB 8.7MB/s eta 0:00:01\r",
      "\u001b[K     |████████▉                       | 522kB 8.7MB/s eta 0:00:01\r",
      "\u001b[K     |█████████                       | 532kB 8.7MB/s eta 0:00:01\r",
      "\u001b[K     |█████████▏                      | 542kB 8.7MB/s eta 0:00:01\r",
      "\u001b[K     |█████████▎                      | 552kB 8.7MB/s eta 0:00:01\r",
      "\u001b[K     |█████████▌                      | 563kB 8.7MB/s eta 0:00:01\r",
      "\u001b[K     |█████████▊                      | 573kB 8.7MB/s eta 0:00:01\r",
      "\u001b[K     |█████████▉                      | 583kB 8.7MB/s eta 0:00:01\r",
      "\u001b[K     |██████████                      | 593kB 8.7MB/s eta 0:00:01\r",
      "\u001b[K     |██████████▏                     | 604kB 8.7MB/s eta 0:00:01\r",
      "\u001b[K     |██████████▍                     | 614kB 8.7MB/s eta 0:00:01\r",
      "\u001b[K     |██████████▌                     | 624kB 8.7MB/s eta 0:00:01\r",
      "\u001b[K     |██████████▊                     | 634kB 8.7MB/s eta 0:00:01\r",
      "\u001b[K     |██████████▉                     | 645kB 8.7MB/s eta 0:00:01\r",
      "\u001b[K     |███████████                     | 655kB 8.7MB/s eta 0:00:01\r",
      "\u001b[K     |███████████▎                    | 665kB 8.7MB/s eta 0:00:01\r",
      "\u001b[K     |███████████▍                    | 675kB 8.7MB/s eta 0:00:01\r",
      "\u001b[K     |███████████▋                    | 686kB 8.7MB/s eta 0:00:01\r",
      "\u001b[K     |███████████▊                    | 696kB 8.7MB/s eta 0:00:01\r",
      "\u001b[K     |████████████                    | 706kB 8.7MB/s eta 0:00:01\r",
      "\u001b[K     |████████████                    | 716kB 8.7MB/s eta 0:00:01\r",
      "\u001b[K     |████████████▎                   | 727kB 8.7MB/s eta 0:00:01\r",
      "\u001b[K     |████████████▍                   | 737kB 8.7MB/s eta 0:00:01\r",
      "\u001b[K     |████████████▋                   | 747kB 8.7MB/s eta 0:00:01\r",
      "\u001b[K     |████████████▉                   | 757kB 8.7MB/s eta 0:00:01\r",
      "\u001b[K     |█████████████                   | 768kB 8.7MB/s eta 0:00:01\r",
      "\u001b[K     |█████████████▏                  | 778kB 8.7MB/s eta 0:00:01\r",
      "\u001b[K     |█████████████▎                  | 788kB 8.7MB/s eta 0:00:01\r",
      "\u001b[K     |█████████████▌                  | 798kB 8.7MB/s eta 0:00:01\r",
      "\u001b[K     |█████████████▋                  | 808kB 8.7MB/s eta 0:00:01\r",
      "\u001b[K     |█████████████▉                  | 819kB 8.7MB/s eta 0:00:01\r",
      "\u001b[K     |██████████████                  | 829kB 8.7MB/s eta 0:00:01\r",
      "\u001b[K     |██████████████▏                 | 839kB 8.7MB/s eta 0:00:01\r",
      "\u001b[K     |██████████████▍                 | 849kB 8.7MB/s eta 0:00:01\r",
      "\u001b[K     |██████████████▌                 | 860kB 8.7MB/s eta 0:00:01\r",
      "\u001b[K     |██████████████▊                 | 870kB 8.7MB/s eta 0:00:01\r",
      "\u001b[K     |██████████████▉                 | 880kB 8.7MB/s eta 0:00:01\r",
      "\u001b[K     |███████████████                 | 890kB 8.7MB/s eta 0:00:01\r",
      "\u001b[K     |███████████████▏                | 901kB 8.7MB/s eta 0:00:01\r",
      "\u001b[K     |███████████████▍                | 911kB 8.7MB/s eta 0:00:01\r",
      "\u001b[K     |███████████████▌                | 921kB 8.7MB/s eta 0:00:01\r",
      "\u001b[K     |███████████████▊                | 931kB 8.7MB/s eta 0:00:01\r",
      "\u001b[K     |████████████████                | 942kB 8.7MB/s eta 0:00:01\r",
      "\u001b[K     |████████████████                | 952kB 8.7MB/s eta 0:00:01\r",
      "\u001b[K     |████████████████▎               | 962kB 8.7MB/s eta 0:00:01\r",
      "\u001b[K     |████████████████▍               | 972kB 8.7MB/s eta 0:00:01\r",
      "\u001b[K     |████████████████▋               | 983kB 8.7MB/s eta 0:00:01\r",
      "\u001b[K     |████████████████▊               | 993kB 8.7MB/s eta 0:00:01\r",
      "\u001b[K     |█████████████████               | 1.0MB 8.7MB/s eta 0:00:01\r",
      "\u001b[K     |█████████████████               | 1.0MB 8.7MB/s eta 0:00:01\r",
      "\u001b[K     |█████████████████▎              | 1.0MB 8.7MB/s eta 0:00:01\r",
      "\u001b[K     |█████████████████▍              | 1.0MB 8.7MB/s eta 0:00:01\r",
      "\u001b[K     |█████████████████▋              | 1.0MB 8.7MB/s eta 0:00:01\r",
      "\u001b[K     |█████████████████▉              | 1.1MB 8.7MB/s eta 0:00:01\r",
      "\u001b[K     |██████████████████              | 1.1MB 8.7MB/s eta 0:00:01\r",
      "\u001b[K     |██████████████████▏             | 1.1MB 8.7MB/s eta 0:00:01\r",
      "\u001b[K     |██████████████████▎             | 1.1MB 8.7MB/s eta 0:00:01\r",
      "\u001b[K     |██████████████████▌             | 1.1MB 8.7MB/s eta 0:00:01\r",
      "\u001b[K     |██████████████████▋             | 1.1MB 8.7MB/s eta 0:00:01\r",
      "\u001b[K     |██████████████████▉             | 1.1MB 8.7MB/s eta 0:00:01\r",
      "\u001b[K     |███████████████████             | 1.1MB 8.7MB/s eta 0:00:01\r",
      "\u001b[K     |███████████████████▏            | 1.1MB 8.7MB/s eta 0:00:01\r",
      "\u001b[K     |███████████████████▍            | 1.1MB 8.7MB/s eta 0:00:01\r",
      "\u001b[K     |███████████████████▌            | 1.2MB 8.7MB/s eta 0:00:01\r",
      "\u001b[K     |███████████████████▊            | 1.2MB 8.7MB/s eta 0:00:01\r",
      "\u001b[K     |███████████████████▉            | 1.2MB 8.7MB/s eta 0:00:01\r",
      "\u001b[K     |████████████████████            | 1.2MB 8.7MB/s eta 0:00:01\r",
      "\u001b[K     |████████████████████▏           | 1.2MB 8.7MB/s eta 0:00:01\r",
      "\u001b[K     |████████████████████▍           | 1.2MB 8.7MB/s eta 0:00:01\r",
      "\u001b[K     |████████████████████▌           | 1.2MB 8.7MB/s eta 0:00:01\r",
      "\u001b[K     |████████████████████▊           | 1.2MB 8.7MB/s eta 0:00:01\r",
      "\u001b[K     |█████████████████████           | 1.2MB 8.7MB/s eta 0:00:01\r",
      "\u001b[K     |█████████████████████           | 1.2MB 8.7MB/s eta 0:00:01\r",
      "\u001b[K     |█████████████████████▎          | 1.3MB 8.7MB/s eta 0:00:01\r",
      "\u001b[K     |█████████████████████▍          | 1.3MB 8.7MB/s eta 0:00:01\r",
      "\u001b[K     |█████████████████████▋          | 1.3MB 8.7MB/s eta 0:00:01\r",
      "\u001b[K     |█████████████████████▊          | 1.3MB 8.7MB/s eta 0:00:01\r",
      "\u001b[K     |██████████████████████          | 1.3MB 8.7MB/s eta 0:00:01\r",
      "\u001b[K     |██████████████████████          | 1.3MB 8.7MB/s eta 0:00:01\r",
      "\u001b[K     |██████████████████████▎         | 1.3MB 8.7MB/s eta 0:00:01\r",
      "\u001b[K     |██████████████████████▌         | 1.3MB 8.7MB/s eta 0:00:01\r",
      "\u001b[K     |██████████████████████▋         | 1.3MB 8.7MB/s eta 0:00:01\r",
      "\u001b[K     |██████████████████████▉         | 1.4MB 8.7MB/s eta 0:00:01\r",
      "\u001b[K     |███████████████████████         | 1.4MB 8.7MB/s eta 0:00:01\r",
      "\u001b[K     |███████████████████████▏        | 1.4MB 8.7MB/s eta 0:00:01\r",
      "\u001b[K     |███████████████████████▎        | 1.4MB 8.7MB/s eta 0:00:01\r",
      "\u001b[K     |███████████████████████▌        | 1.4MB 8.7MB/s eta 0:00:01\r",
      "\u001b[K     |███████████████████████▋        | 1.4MB 8.7MB/s eta 0:00:01\r",
      "\u001b[K     |███████████████████████▉        | 1.4MB 8.7MB/s eta 0:00:01\r",
      "\u001b[K     |████████████████████████        | 1.4MB 8.7MB/s eta 0:00:01\r",
      "\u001b[K     |████████████████████████▏       | 1.4MB 8.7MB/s eta 0:00:01\r",
      "\u001b[K     |████████████████████████▍       | 1.4MB 8.7MB/s eta 0:00:01\r",
      "\u001b[K     |████████████████████████▌       | 1.5MB 8.7MB/s eta 0:00:01\r",
      "\u001b[K     |████████████████████████▊       | 1.5MB 8.7MB/s eta 0:00:01\r",
      "\u001b[K     |████████████████████████▉       | 1.5MB 8.7MB/s eta 0:00:01\r",
      "\u001b[K     |█████████████████████████       | 1.5MB 8.7MB/s eta 0:00:01\r",
      "\u001b[K     |█████████████████████████▏      | 1.5MB 8.7MB/s eta 0:00:01\r",
      "\u001b[K     |█████████████████████████▍      | 1.5MB 8.7MB/s eta 0:00:01\r",
      "\u001b[K     |█████████████████████████▋      | 1.5MB 8.7MB/s eta 0:00:01\r",
      "\u001b[K     |█████████████████████████▊      | 1.5MB 8.7MB/s eta 0:00:01\r",
      "\u001b[K     |██████████████████████████      | 1.5MB 8.7MB/s eta 0:00:01\r",
      "\u001b[K     |██████████████████████████      | 1.5MB 8.7MB/s eta 0:00:01\r",
      "\u001b[K     |██████████████████████████▎     | 1.6MB 8.7MB/s eta 0:00:01\r",
      "\u001b[K     |██████████████████████████▍     | 1.6MB 8.7MB/s eta 0:00:01\r",
      "\u001b[K     |██████████████████████████▋     | 1.6MB 8.7MB/s eta 0:00:01\r",
      "\u001b[K     |██████████████████████████▊     | 1.6MB 8.7MB/s eta 0:00:01\r",
      "\u001b[K     |███████████████████████████     | 1.6MB 8.7MB/s eta 0:00:01\r",
      "\u001b[K     |███████████████████████████▏    | 1.6MB 8.7MB/s eta 0:00:01\r",
      "\u001b[K     |███████████████████████████▎    | 1.6MB 8.7MB/s eta 0:00:01\r",
      "\u001b[K     |███████████████████████████▌    | 1.6MB 8.7MB/s eta 0:00:01\r",
      "\u001b[K     |███████████████████████████▋    | 1.6MB 8.7MB/s eta 0:00:01\r",
      "\u001b[K     |███████████████████████████▉    | 1.6MB 8.7MB/s eta 0:00:01\r",
      "\u001b[K     |████████████████████████████    | 1.7MB 8.7MB/s eta 0:00:01\r",
      "\u001b[K     |████████████████████████████▏   | 1.7MB 8.7MB/s eta 0:00:01\r",
      "\u001b[K     |████████████████████████████▎   | 1.7MB 8.7MB/s eta 0:00:01\r",
      "\u001b[K     |████████████████████████████▌   | 1.7MB 8.7MB/s eta 0:00:01\r",
      "\u001b[K     |████████████████████████████▊   | 1.7MB 8.7MB/s eta 0:00:01\r",
      "\u001b[K     |████████████████████████████▉   | 1.7MB 8.7MB/s eta 0:00:01\r",
      "\u001b[K     |█████████████████████████████   | 1.7MB 8.7MB/s eta 0:00:01\r",
      "\u001b[K     |█████████████████████████████▏  | 1.7MB 8.7MB/s eta 0:00:01\r",
      "\u001b[K     |█████████████████████████████▍  | 1.7MB 8.7MB/s eta 0:00:01\r",
      "\u001b[K     |█████████████████████████████▌  | 1.8MB 8.7MB/s eta 0:00:01\r",
      "\u001b[K     |█████████████████████████████▊  | 1.8MB 8.7MB/s eta 0:00:01\r",
      "\u001b[K     |█████████████████████████████▉  | 1.8MB 8.7MB/s eta 0:00:01\r",
      "\u001b[K     |██████████████████████████████  | 1.8MB 8.7MB/s eta 0:00:01\r",
      "\u001b[K     |██████████████████████████████▎ | 1.8MB 8.7MB/s eta 0:00:01\r",
      "\u001b[K     |██████████████████████████████▍ | 1.8MB 8.7MB/s eta 0:00:01\r",
      "\u001b[K     |██████████████████████████████▋ | 1.8MB 8.7MB/s eta 0:00:01\r",
      "\u001b[K     |██████████████████████████████▊ | 1.8MB 8.7MB/s eta 0:00:01\r",
      "\u001b[K     |███████████████████████████████ | 1.8MB 8.7MB/s eta 0:00:01\r",
      "\u001b[K     |███████████████████████████████ | 1.8MB 8.7MB/s eta 0:00:01\r",
      "\u001b[K     |███████████████████████████████▎| 1.9MB 8.7MB/s eta 0:00:01\r",
      "\u001b[K     |███████████████████████████████▍| 1.9MB 8.7MB/s eta 0:00:01\r",
      "\u001b[K     |███████████████████████████████▋| 1.9MB 8.7MB/s eta 0:00:01\r",
      "\u001b[K     |███████████████████████████████▉| 1.9MB 8.7MB/s eta 0:00:01\r",
      "\u001b[K     |████████████████████████████████| 1.9MB 8.7MB/s eta 0:00:01\r",
      "\u001b[K     |████████████████████████████████| 1.9MB 8.7MB/s \n",
      "\u001b[?25hRequirement already satisfied: requests in /usr/local/lib/python3.7/dist-packages (from transformers) (2.23.0)\n",
      "Requirement already satisfied: filelock in /usr/local/lib/python3.7/dist-packages (from transformers) (3.0.12)\n",
      "Requirement already satisfied: importlib-metadata; python_version < \"3.8\" in /usr/local/lib/python3.7/dist-packages (from transformers) (3.7.0)\n",
      "Collecting tokenizers<0.11,>=0.10.1\n",
      "\u001b[?25l  Downloading https://files.pythonhosted.org/packages/71/23/2ddc317b2121117bf34dd00f5b0de194158f2a44ee2bf5e47c7166878a97/tokenizers-0.10.1-cp37-cp37m-manylinux2010_x86_64.whl (3.2MB)\n",
      "\u001b[K     |████████████████████████████████| 3.2MB 51.1MB/s \n",
      "\u001b[?25hRequirement already satisfied: numpy>=1.17 in /usr/local/lib/python3.7/dist-packages (from transformers) (1.19.5)\n",
      "Requirement already satisfied: packaging in /usr/local/lib/python3.7/dist-packages (from transformers) (20.9)\n",
      "Requirement already satisfied: regex!=2019.12.17 in /usr/local/lib/python3.7/dist-packages (from transformers) (2019.12.20)\n",
      "Requirement already satisfied: tqdm>=4.27 in /usr/local/lib/python3.7/dist-packages (from transformers) (4.41.1)\n",
      "Collecting sacremoses\n",
      "\u001b[?25l  Downloading https://files.pythonhosted.org/packages/7d/34/09d19aff26edcc8eb2a01bed8e98f13a1537005d31e95233fd48216eed10/sacremoses-0.0.43.tar.gz (883kB)\n",
      "\u001b[K     |████████████████████████████████| 890kB 55.5MB/s \n",
      "\u001b[?25hRequirement already satisfied: certifi>=2017.4.17 in /usr/local/lib/python3.7/dist-packages (from requests->transformers) (2020.12.5)\n",
      "Requirement already satisfied: urllib3!=1.25.0,!=1.25.1,<1.26,>=1.21.1 in /usr/local/lib/python3.7/dist-packages (from requests->transformers) (1.24.3)\n",
      "Requirement already satisfied: chardet<4,>=3.0.2 in /usr/local/lib/python3.7/dist-packages (from requests->transformers) (3.0.4)\n",
      "Requirement already satisfied: idna<3,>=2.5 in /usr/local/lib/python3.7/dist-packages (from requests->transformers) (2.10)\n",
      "Requirement already satisfied: typing-extensions>=3.6.4; python_version < \"3.8\" in /usr/local/lib/python3.7/dist-packages (from importlib-metadata; python_version < \"3.8\"->transformers) (3.7.4.3)\n",
      "Requirement already satisfied: zipp>=0.5 in /usr/local/lib/python3.7/dist-packages (from importlib-metadata; python_version < \"3.8\"->transformers) (3.4.0)\n",
      "Requirement already satisfied: pyparsing>=2.0.2 in /usr/local/lib/python3.7/dist-packages (from packaging->transformers) (2.4.7)\n",
      "Requirement already satisfied: six in /usr/local/lib/python3.7/dist-packages (from sacremoses->transformers) (1.15.0)\n",
      "Requirement already satisfied: click in /usr/local/lib/python3.7/dist-packages (from sacremoses->transformers) (7.1.2)\n",
      "Requirement already satisfied: joblib in /usr/local/lib/python3.7/dist-packages (from sacremoses->transformers) (1.0.1)\n",
      "Building wheels for collected packages: sacremoses\n",
      "  Building wheel for sacremoses (setup.py) ... \u001b[?25l\u001b[?25hdone\n",
      "  Created wheel for sacremoses: filename=sacremoses-0.0.43-cp37-none-any.whl size=893262 sha256=bf5215319ddb97dad53e521ceaaa06d2afed06524566e51f42442df22deee6b9\n",
      "  Stored in directory: /root/.cache/pip/wheels/29/3c/fd/7ce5c3f0666dab31a50123635e6fb5e19ceb42ce38d4e58f45\n",
      "Successfully built sacremoses\n",
      "Installing collected packages: tokenizers, sacremoses, transformers\n",
      "Successfully installed sacremoses-0.0.43 tokenizers-0.10.1 transformers-4.3.3\n",
      "Requirement already satisfied: tqdm in /usr/local/lib/python3.7/dist-packages (4.41.1)\n",
      "Requirement already satisfied: tensorboard in /usr/local/lib/python3.7/dist-packages (2.4.1)\n",
      "Requirement already satisfied: markdown>=2.6.8 in /usr/local/lib/python3.7/dist-packages (from tensorboard) (3.3.4)\n",
      "Requirement already satisfied: requests<3,>=2.21.0 in /usr/local/lib/python3.7/dist-packages (from tensorboard) (2.23.0)\n",
      "Requirement already satisfied: werkzeug>=0.11.15 in /usr/local/lib/python3.7/dist-packages (from tensorboard) (1.0.1)\n",
      "Requirement already satisfied: setuptools>=41.0.0 in /usr/local/lib/python3.7/dist-packages (from tensorboard) (54.0.0)\n",
      "Requirement already satisfied: google-auth-oauthlib<0.5,>=0.4.1 in /usr/local/lib/python3.7/dist-packages (from tensorboard) (0.4.2)\n",
      "Requirement already satisfied: google-auth<2,>=1.6.3 in /usr/local/lib/python3.7/dist-packages (from tensorboard) (1.27.0)\n",
      "Requirement already satisfied: tensorboard-plugin-wit>=1.6.0 in /usr/local/lib/python3.7/dist-packages (from tensorboard) (1.8.0)\n",
      "Requirement already satisfied: absl-py>=0.4 in /usr/local/lib/python3.7/dist-packages (from tensorboard) (0.10.0)\n",
      "Requirement already satisfied: grpcio>=1.24.3 in /usr/local/lib/python3.7/dist-packages (from tensorboard) (1.32.0)\n",
      "Requirement already satisfied: six>=1.10.0 in /usr/local/lib/python3.7/dist-packages (from tensorboard) (1.15.0)\n",
      "Requirement already satisfied: protobuf>=3.6.0 in /usr/local/lib/python3.7/dist-packages (from tensorboard) (3.12.4)\n",
      "Requirement already satisfied: numpy>=1.12.0 in /usr/local/lib/python3.7/dist-packages (from tensorboard) (1.19.5)\n",
      "Requirement already satisfied: wheel>=0.26; python_version >= \"3\" in /usr/local/lib/python3.7/dist-packages (from tensorboard) (0.36.2)\n",
      "Requirement already satisfied: importlib-metadata; python_version < \"3.8\" in /usr/local/lib/python3.7/dist-packages (from markdown>=2.6.8->tensorboard) (3.7.0)\n",
      "Requirement already satisfied: certifi>=2017.4.17 in /usr/local/lib/python3.7/dist-packages (from requests<3,>=2.21.0->tensorboard) (2020.12.5)\n",
      "Requirement already satisfied: chardet<4,>=3.0.2 in /usr/local/lib/python3.7/dist-packages (from requests<3,>=2.21.0->tensorboard) (3.0.4)\n",
      "Requirement already satisfied: urllib3!=1.25.0,!=1.25.1,<1.26,>=1.21.1 in /usr/local/lib/python3.7/dist-packages (from requests<3,>=2.21.0->tensorboard) (1.24.3)\n",
      "Requirement already satisfied: idna<3,>=2.5 in /usr/local/lib/python3.7/dist-packages (from requests<3,>=2.21.0->tensorboard) (2.10)\n",
      "Requirement already satisfied: requests-oauthlib>=0.7.0 in /usr/local/lib/python3.7/dist-packages (from google-auth-oauthlib<0.5,>=0.4.1->tensorboard) (1.3.0)\n",
      "Requirement already satisfied: pyasn1-modules>=0.2.1 in /usr/local/lib/python3.7/dist-packages (from google-auth<2,>=1.6.3->tensorboard) (0.2.8)\n",
      "Requirement already satisfied: cachetools<5.0,>=2.0.0 in /usr/local/lib/python3.7/dist-packages (from google-auth<2,>=1.6.3->tensorboard) (4.2.1)\n",
      "Requirement already satisfied: rsa<5,>=3.1.4; python_version >= \"3.6\" in /usr/local/lib/python3.7/dist-packages (from google-auth<2,>=1.6.3->tensorboard) (4.7.2)\n",
      "Requirement already satisfied: typing-extensions>=3.6.4; python_version < \"3.8\" in /usr/local/lib/python3.7/dist-packages (from importlib-metadata; python_version < \"3.8\"->markdown>=2.6.8->tensorboard) (3.7.4.3)\n",
      "Requirement already satisfied: zipp>=0.5 in /usr/local/lib/python3.7/dist-packages (from importlib-metadata; python_version < \"3.8\"->markdown>=2.6.8->tensorboard) (3.4.0)\n",
      "Requirement already satisfied: oauthlib>=3.0.0 in /usr/local/lib/python3.7/dist-packages (from requests-oauthlib>=0.7.0->google-auth-oauthlib<0.5,>=0.4.1->tensorboard) (3.1.0)\n",
      "Requirement already satisfied: pyasn1<0.5.0,>=0.4.6 in /usr/local/lib/python3.7/dist-packages (from pyasn1-modules>=0.2.1->google-auth<2,>=1.6.3->tensorboard) (0.4.8)\n",
      "Collecting seqeval\n",
      "\u001b[?25l  Downloading https://files.pythonhosted.org/packages/9d/2d/233c79d5b4e5ab1dbf111242299153f3caddddbb691219f363ad55ce783d/seqeval-1.2.2.tar.gz (43kB)\n",
      "\u001b[K     |████████████████████████████████| 51kB 4.4MB/s \n",
      "\u001b[?25hRequirement already satisfied: numpy>=1.14.0 in /usr/local/lib/python3.7/dist-packages (from seqeval) (1.19.5)\n",
      "Requirement already satisfied: scikit-learn>=0.21.3 in /usr/local/lib/python3.7/dist-packages (from seqeval) (0.22.2.post1)\n",
      "Requirement already satisfied: scipy>=0.17.0 in /usr/local/lib/python3.7/dist-packages (from scikit-learn>=0.21.3->seqeval) (1.4.1)\n",
      "Requirement already satisfied: joblib>=0.11 in /usr/local/lib/python3.7/dist-packages (from scikit-learn>=0.21.3->seqeval) (1.0.1)\n",
      "Building wheels for collected packages: seqeval\n",
      "  Building wheel for seqeval (setup.py) ... \u001b[?25l\u001b[?25hdone\n",
      "  Created wheel for seqeval: filename=seqeval-1.2.2-cp37-none-any.whl size=16172 sha256=f7dc5f148ecb0225e6811fd6ca48d926522ed0ab499ebaed8a25d78f09dc6afb\n",
      "  Stored in directory: /root/.cache/pip/wheels/52/df/1b/45d75646c37428f7e626214704a0e35bd3cfc32eda37e59e5f\n",
      "Successfully built seqeval\n",
      "Installing collected packages: seqeval\n",
      "Successfully installed seqeval-1.2.2\n",
      "Requirement already satisfied: tqdm in /usr/local/lib/python3.7/dist-packages (4.41.1)\n",
      "Requirement already satisfied: seaborn in /usr/local/lib/python3.7/dist-packages (0.11.1)\n",
      "Requirement already satisfied: pandas>=0.23 in /usr/local/lib/python3.7/dist-packages (from seaborn) (1.1.5)\n",
      "Requirement already satisfied: numpy>=1.15 in /usr/local/lib/python3.7/dist-packages (from seaborn) (1.19.5)\n",
      "Requirement already satisfied: scipy>=1.0 in /usr/local/lib/python3.7/dist-packages (from seaborn) (1.4.1)\n",
      "Requirement already satisfied: matplotlib>=2.2 in /usr/local/lib/python3.7/dist-packages (from seaborn) (3.2.2)\n",
      "Requirement already satisfied: pytz>=2017.2 in /usr/local/lib/python3.7/dist-packages (from pandas>=0.23->seaborn) (2018.9)\n",
      "Requirement already satisfied: python-dateutil>=2.7.3 in /usr/local/lib/python3.7/dist-packages (from pandas>=0.23->seaborn) (2.8.1)\n",
      "Requirement already satisfied: kiwisolver>=1.0.1 in /usr/local/lib/python3.7/dist-packages (from matplotlib>=2.2->seaborn) (1.3.1)\n",
      "Requirement already satisfied: pyparsing!=2.0.4,!=2.1.2,!=2.1.6,>=2.0.1 in /usr/local/lib/python3.7/dist-packages (from matplotlib>=2.2->seaborn) (2.4.7)\n",
      "Requirement already satisfied: cycler>=0.10 in /usr/local/lib/python3.7/dist-packages (from matplotlib>=2.2->seaborn) (0.10.0)\n",
      "Requirement already satisfied: six>=1.5 in /usr/local/lib/python3.7/dist-packages (from python-dateutil>=2.7.3->pandas>=0.23->seaborn) (1.15.0)\n"
     ]
    }
   ],
   "source": [
    "!pip install transformers\n",
    "# !pip install torch==1.5.1\n",
    "!pip install tqdm\n",
    "!pip install tensorboard\n",
    "!pip install seqeval\n",
    "! pip install tqdm\n",
    "! pip install seaborn"
   ]
  },
  {
   "cell_type": "code",
   "execution_count": 1,
   "metadata": {
    "colab": {
     "base_uri": "https://localhost:8080/",
     "height": 34
    },
    "id": "7TWbzEXC42Jr",
    "outputId": "af194d4b-eb5f-414c-ec9c-acfcdf95136b"
   },
   "outputs": [
    {
     "data": {
      "text/plain": [
       "<Figure size 432x288 with 0 Axes>"
      ]
     },
     "metadata": {
      "tags": []
     },
     "output_type": "display_data"
    }
   ],
   "source": [
    "import os\n",
    "import sys\n",
    "import json\n",
    "from tqdm import tqdm\n",
    "sys.path.append(\"/content/drive/MyDrive/MovieEntityRecognizer\")\n",
    "\n",
    "import torch\n",
    "from torch import nn\n",
    "import torch.nn.functional as F\n",
    "from torch.utils import tensorboard\n",
    "from seqeval.metrics import classification_report\n",
    "from torch.utils.data import (DataLoader, RandomSampler, SequentialSampler,\n",
    "                              TensorDataset)\n",
    "from transformers import (WEIGHTS_NAME, AdamW, BertConfig,\n",
    "                                  BertForTokenClassification, BertTokenizerFast,\n",
    "                                  get_linear_schedule_with_warmup)\n",
    "from src.movientities.models.BertModel import BertNerModel\n",
    "from src.movientities.data.analyze_dataset import Analyzer\n",
    "from src.movientities.data.build_dataset import BuildData\n",
    "from src.movientities.data.make_dataset import MakeData\n",
    "from src.movientities.utils.processors import NerPreProcessor, NerDataset"
   ]
  },
  {
   "cell_type": "code",
   "execution_count": 2,
   "metadata": {
    "id": "bU_qanET42Jz"
   },
   "outputs": [],
   "source": [
    "# Some initializers\n",
    "train = True\n",
    "num_train_epochs = 5\n",
    "train_batch_size = 32\n",
    "eval_batch_size = 8\n",
    "# Weight decay for regularization\n",
    "weight_decay = 0.01\n",
    "# Now 1 but if batches wont fit RAM can be increased\n",
    "gradient_accumulation_steps = 1\n",
    "# %10 warm up\n",
    "warmup_proportion = 0.1\n",
    "# Adam variables\n",
    "adam_epsilon = 1e-8\n",
    "learning_rate = 5e-5\n",
    "# 16 floating point instead of 32\n",
    "fp16 = False\n",
    "if fp16:\n",
    "    # Apex AMP optimization level selected in ['O0', 'O1', 'O2', and 'O3']\n",
    "    fp16_opt_level\n",
    "# max seq length (for engtrain.bio since the lengths are pretty short 128 is alright)\n",
    "max_seq_length = 128\n",
    "# For gradient clipping\n",
    "max_grad_norm = 1.0\n",
    "# For having flexibility over hardware\n",
    "device = torch.device(\"cuda\" if torch.cuda.is_available() else \"cpu\")\n",
    "# Data path\n",
    "data_dir = \"/content/drive/MyDrive/MovieEntityRecognizer/data/modified\"\n",
    "# Tensorboard Name\n",
    "tensorboard_writer = tensorboard.SummaryWriter(\"bert_base_uncased_default\")\n",
    "\n",
    "validate = True\n",
    "test = True"
   ]
  },
  {
   "cell_type": "code",
   "execution_count": 3,
   "metadata": {
    "id": "FbVGCLlE42J0"
   },
   "outputs": [],
   "source": [
    "# For downloading data, doesn't require ssl so if downloaded no need to run it again\n",
    "# dataset_names = [\"engtrain.bio\", \"engtest.bio\", \"trivia10k13train.n,bio\", \"trivia10k13test.bio\"]\n",
    "# (MakeData.download_data(os.path.join(\"http://groups.csail.mit.edu/sls/downloads/movie\", dataset_name) for dataset_name in dataset_names)\n"
   ]
  },
  {
   "cell_type": "code",
   "execution_count": 7,
   "metadata": {
    "colab": {
     "base_uri": "https://localhost:8080/",
     "height": 513
    },
    "id": "Nb2bgYr642J1",
    "outputId": "34b84ae8-3791-4ac8-821c-85f76282ea5a"
   },
   "outputs": [
    {
     "data": {
      "image/png": "[encoded data removed]",
      "text/plain": [
       "<Figure size 432x288 with 1 Axes>"
      ]
     },
     "metadata": {
      "needs_background": "light",
      "tags": []
     },
     "output_type": "display_data"
    },
    {
     "data": {
      "image/png": "[encoded data removed]",
      "text/plain": [
       "<Figure size 432x288 with 1 Axes>"
      ]
     },
     "metadata": {
      "needs_background": "light",
      "tags": []
     },
     "output_type": "display_data"
    }
   ],
   "source": [
    "# Count also word frequencies and lengths or sentences\n",
    "train_labels = Analyzer.count_labels(\"/content/drive/MyDrive/MovieEntityRecognizer/data/raw/trivia10k/trivia10k13train.bio\", without_o=True)\n",
    "Analyzer.plot_data(train_labels)\n",
    "test_labels = Analyzer.count_labels(\"/content/drive/MyDrive/MovieEntityRecognizer/data/raw/trivia10k/trivia10k13test.bio\", without_o=True)\n",
    "Analyzer.plot_data(test_labels)"
   ]
  },
  {
   "cell_type": "code",
   "execution_count": 8,
   "metadata": {
    "colab": {
     "base_uri": "https://localhost:8080/"
    },
    "id": "I-jDCIjh42J2",
    "outputId": "1b7a373c-7fd8-47bc-81a2-369ae320266f"
   },
   "outputs": [
    {
     "name": "stdout",
     "output_type": "stream",
     "text": [
      "Size of labels of regular dataset: 25\n",
      "{'B-Actor': 0, 'B-Award': 1, 'B-Character_Name': 2, 'B-Director': 3, 'B-Genre': 4, 'B-Opinion': 5, 'B-Origin': 6, 'B-Plot': 7, 'B-Quote': 8, 'B-Relationship': 9, 'B-Soundtrack': 10, 'B-Year': 11, 'I-Actor': 12, 'I-Award': 13, 'I-Character_Name': 14, 'I-Director': 15, 'I-Genre': 16, 'I-Opinion': 17, 'I-Origin': 18, 'I-Plot': 19, 'I-Quote': 20, 'I-Relationship': 21, 'I-Soundtrack': 22, 'I-Year': 23, 'O': 24}\n"
     ]
    }
   ],
   "source": [
    "# Get distinct labels\n",
    "label_list = sorted(list(train_labels.keys()))\n",
    "label_list.append(\"O\")\n",
    "num_labels = len(label_list)\n",
    "label_map = {label: id for id, label in enumerate(label_list)}\n",
    "print(f\"Size of labels of regular dataset: {len(label_list)}\\n{label_map}\")"
   ]
  },
  {
   "cell_type": "code",
   "execution_count": 10,
   "metadata": {
    "colab": {
     "base_uri": "https://localhost:8080/",
     "height": 166,
     "referenced_widgets": [
      "4dee539d7f2a439594a77c4ea6bd5a12",
      "01a6ac7c19ff49bc950c7763cbd9f439",
      "1f5ee329ee5f4e11b283042d001eeb14",
      "825bf4f19bbc4899ab7380eef09fb85f",
      "f3a561e146f6426a8fd0eaf1e1c61a10",
      "70d41386df024897a6f279c29a8c8317",
      "f5a9e1797cc2428193da92b8b2b72092",
      "5298a4d61bed403a8ef0b2be3a749fb6",
      "aa0bdd6140ec405cac760a39766e30eb",
      "ba328da35583437885ec98e9a84247d3",
      "d5c3c1a33ae24366946adedc6c90c40b",
      "baf5257f65b54eecb987034207ef7b04",
      "416bfa015ffa4008bdf3462333d74723",
      "dfc1c3beb2ff488080a4bb8a725e4b6f",
      "e79f11b747d3435dbfa2aad49215c658",
      "56356952a43447ad842ceabd76a7e869",
      "25153b0ffaa64958bfc20ec19f9af908",
      "c16f5f521d9f4af2bfa468540451d494",
      "26d7914d34404ec0b08521c4c14a90ea",
      "a1064c23dbe646669ec6c17aa950b03d",
      "722b68c2690244f7a606faaf49176384",
      "aba416b8147c4c1faeaab5b2ff5c5b5a",
      "563ceb996d8a41cd8fcda08fa5764bc9",
      "e99e751b52514d74bfba3a7189961b55"
     ]
    },
    "id": "GzfwSLBi42J2",
    "outputId": "9e80b78d-acd9-4ba4-d2ba-ec3235fa41fe"
   },
   "outputs": [
    {
     "data": {
      "application/vnd.jupyter.widget-view+json": {
       "model_id": "4dee539d7f2a439594a77c4ea6bd5a12",
       "version_major": 2,
       "version_minor": 0
      },
      "text/plain": [
       "HBox(children=(FloatProgress(value=0.0, description='Downloading', max=434.0, style=ProgressStyle(description_…"
      ]
     },
     "metadata": {
      "tags": []
     },
     "output_type": "display_data"
    },
    {
     "name": "stdout",
     "output_type": "stream",
     "text": [
      "\n"
     ]
    },
    {
     "data": {
      "application/vnd.jupyter.widget-view+json": {
       "model_id": "aa0bdd6140ec405cac760a39766e30eb",
       "version_major": 2,
       "version_minor": 0
      },
      "text/plain": [
       "HBox(children=(FloatProgress(value=0.0, description='Downloading', max=231508.0, style=ProgressStyle(descripti…"
      ]
     },
     "metadata": {
      "tags": []
     },
     "output_type": "display_data"
    },
    {
     "name": "stdout",
     "output_type": "stream",
     "text": [
      "\n"
     ]
    },
    {
     "data": {
      "application/vnd.jupyter.widget-view+json": {
       "model_id": "25153b0ffaa64958bfc20ec19f9af908",
       "version_major": 2,
       "version_minor": 0
      },
      "text/plain": [
       "HBox(children=(FloatProgress(value=0.0, description='Downloading', max=466062.0, style=ProgressStyle(descripti…"
      ]
     },
     "metadata": {
      "tags": []
     },
     "output_type": "display_data"
    },
    {
     "name": "stdout",
     "output_type": "stream",
     "text": [
      "\n"
     ]
    }
   ],
   "source": [
    "config = BertConfig.from_pretrained(\"bert-large-uncased\", num_labels=num_labels, finetuning_task=\"ner\")\n",
    "tokenizer = BertTokenizerFast.from_pretrained(\"bert-large-uncased\")\n",
    "# model = BertNerModel.from_pretrained(\"bert-large-uncased\",\n",
    "#               from_tf = False,\n",
    "#               config = config)"
   ]
  },
  {
   "cell_type": "code",
   "execution_count": 9,
   "metadata": {
    "id": "F0aQQUPWybgq"
   },
   "outputs": [],
   "source": [
    "BuildData.create_finaldata(\"/content/drive/MyDrive/MovieEntityRecognizer/data/raw/trivia10k/trivia10k13train.bio\", \"/content/drive/MyDrive/MovieEntityRecognizer/data/modified/trivia10k/train.txt\")\n",
    "BuildData.create_finaldata(\"/content/drive/MyDrive/MovieEntityRecognizer/data/raw/trivia10k/trivia10k13test.bio\", \"/content/drive/MyDrive/MovieEntityRecognizer/data/modified/trivia10k/test.txt\")\n"
   ]
  },
  {
   "cell_type": "code",
   "execution_count": 14,
   "metadata": {
    "colab": {
     "base_uri": "https://localhost:8080/"
    },
    "id": "t1jQ-BcOjDz5",
    "outputId": "ba509728-c773-4c68-9212-c1909b1eb56f"
   },
   "outputs": [
    {
     "data": {
      "text/plain": [
       "{-100: 'X',\n",
       " 0: 'B-Actor',\n",
       " 1: 'B-Award',\n",
       " 2: 'B-Character_Name',\n",
       " 3: 'B-Director',\n",
       " 4: 'B-Genre',\n",
       " 5: 'B-Opinion',\n",
       " 6: 'B-Origin',\n",
       " 7: 'B-Plot',\n",
       " 8: 'B-Quote',\n",
       " 9: 'B-Relationship',\n",
       " 10: 'B-Soundtrack',\n",
       " 11: 'B-Year',\n",
       " 12: 'I-Actor',\n",
       " 13: 'I-Award',\n",
       " 14: 'I-Character_Name',\n",
       " 15: 'I-Director',\n",
       " 16: 'I-Genre',\n",
       " 17: 'I-Opinion',\n",
       " 18: 'I-Origin',\n",
       " 19: 'I-Plot',\n",
       " 20: 'I-Quote',\n",
       " 21: 'I-Relationship',\n",
       " 22: 'I-Soundtrack',\n",
       " 23: 'I-Year',\n",
       " 24: 'O'}"
      ]
     },
     "execution_count": 14,
     "metadata": {
      "tags": []
     },
     "output_type": "execute_result"
    }
   ],
   "source": [
    "dataset = BuildData.create_dataset(\"/content/drive/MyDrive/MovieEntityRecognizer/data/modified/trivia10k\")\n",
    "id2label = {id: label for (label,id) in label_map.items()}\n",
    "id2label[-100] = 'X'\n",
    "id2label"
   ]
  },
  {
   "cell_type": "code",
   "execution_count": 15,
   "metadata": {
    "colab": {
     "base_uri": "https://localhost:8080/"
    },
    "id": "PTOc66km42J3",
    "outputId": "f0d1c155-2e49-459f-ff79-2fac8fdf211b"
   },
   "outputs": [
    {
     "name": "stdout",
     "output_type": "stream",
     "text": [
      "Number of training steps 1220\n",
      "Number of training instances 7816\n",
      "Number of test steps 244\n",
      "Number of test instances 1953\n"
     ]
    }
   ],
   "source": [
    "if train:\n",
    "    num_train_optimization_steps = int(\n",
    "    len(dataset['train_instances']) / train_batch_size / gradient_accumulation_steps) * num_train_epochs\n",
    "    print(f\"Number of training steps {num_train_optimization_steps}\")\n",
    "    print(f\"Number of training instances {len(dataset['train_instances'])}\")\n",
    "\n",
    "if test:\n",
    "    test_steps = int(\n",
    "    len(dataset['test_instances']) / eval_batch_size)\n",
    "    print(f\"Number of test steps {test_steps}\")\n",
    "    print(f\"Number of test instances {len(dataset['test_instances'])}\")"
   ]
  },
  {
   "cell_type": "code",
   "execution_count": 16,
   "metadata": {
    "id": "hvRIxW3NjDz7"
   },
   "outputs": [],
   "source": [
    "train_tokens = tokenizer(dataset[\"train_instances\"], is_split_into_words=True, return_offsets_mapping=True,\n",
    "                            padding=True, truncation=True)\n",
    "\n",
    "test_tokens = tokenizer(dataset['test_instances'], is_split_into_words=True, return_offsets_mapping=True, \n",
    "                            padding=True, truncation=True)"
   ]
  },
  {
   "cell_type": "code",
   "execution_count": 17,
   "metadata": {
    "id": "0rUDf5kejDz7"
   },
   "outputs": [],
   "source": [
    "train_labels = NerPreProcessor.convert_labels(dataset[\"train_labels\"], \n",
    "                                        label_map, \n",
    "                                        train_tokens)\n",
    "\n",
    "test_labels = NerPreProcessor.convert_labels(dataset['test_labels'],\n",
    "                                      label_map, \n",
    "                                      test_tokens)"
   ]
  },
  {
   "cell_type": "code",
   "execution_count": 18,
   "metadata": {
    "id": "2ZLaf3QjjDz7"
   },
   "outputs": [],
   "source": [
    "if train_tokens[\"offset_mapping\"]:\n",
    "    train_tokens.pop(\"offset_mapping\") \n",
    "if test_tokens[\"offset_mapping\"]:\n",
    "    test_tokens.pop(\"offset_mapping\")\n",
    "\n",
    "train_dataset = NerDataset(train_tokens, train_labels)\n",
    "test_dataset = NerDataset(test_tokens, test_labels)"
   ]
  },
  {
   "cell_type": "code",
   "execution_count": 19,
   "metadata": {
    "id": "Ybng-4hyjDz8"
   },
   "outputs": [],
   "source": [
    "def model_init():\n",
    "    model = BertForTokenClassification.from_pretrained('bert-large-uncased', num_labels=len(label_map))\n",
    "    return model"
   ]
  },
  {
   "cell_type": "code",
   "execution_count": 21,
   "metadata": {
    "id": "sI1LclBvlyOH"
   },
   "outputs": [],
   "source": [
    "from sklearn.metrics import accuracy_score, f1_score, precision_score, recall_score\n",
    "\n",
    "# function for computing monitoring metrics during training\n",
    "\n",
    "def compute_metrics(p):\n",
    "\n",
    "        predictions, labels = p\n",
    "        predictions = np.argmax(predictions, axis=2)\n",
    "\n",
    "        # Remove ignored index (special tokens)\n",
    "        true_predictions = [\n",
    "            [id2label[p] for (p, l) in zip(prediction, label) if l != -100]\n",
    "            for prediction, label in zip(predictions, labels)\n",
    "        ]\n",
    "        true_labels = [\n",
    "            [id2label[l] for (p, l) in zip(prediction, label) if l != -100]\n",
    "            for prediction, label in zip(predictions, labels)\n",
    "        ]\n",
    "\n",
    "        preds_stretched = [label for doc in true_predictions for label in doc]\n",
    "        trues_stretched = [label for doc in true_labels for label in doc]\n",
    "\n",
    "        return {\n",
    "            \"accuracy_score\": accuracy_score(trues_stretched, preds_stretched),\n",
    "            \"precision\": precision_score(trues_stretched, preds_stretched, labels=np.unique(preds_stretched), average='macro'),\n",
    "            \"recall\": recall_score(trues_stretched, preds_stretched, labels=np.unique(preds_stretched), average='macro'),\n",
    "            \"f1_macro\": f1_score(trues_stretched, preds_stretched, labels=np.unique(preds_stretched), average='macro'),\n",
    "            \"f1_micro\": f1_score(trues_stretched, preds_stretched, average='micro'),\n",
    "        }"
   ]
  },
  {
   "cell_type": "code",
   "execution_count": 22,
   "metadata": {
    "colab": {
     "base_uri": "https://localhost:8080/",
     "height": 175,
     "referenced_widgets": [
      "e16c3a51e9c541008a3ace723f843695",
      "e76285fa58974a779ce211ea01a54b38",
      "9d6e40e71ede4df1bcd87756cac1d96a",
      "1727aecebd47459aa1f3dbf2b08b1315",
      "09b54a240b2e4e598d4eb4e88350dc49",
      "4b9dd14c85514aed9dbfd33eb467a7b6",
      "14ab0b5cec0e424bbac3a798f645f5b4",
      "ea59ddb1d6cb4586b1a541dbefe30de4"
     ]
    },
    "id": "O-GJdH04jDz8",
    "outputId": "c3b02c05-bf63-46db-b46d-524a59fa78fa"
   },
   "outputs": [
    {
     "data": {
      "application/vnd.jupyter.widget-view+json": {
       "model_id": "e16c3a51e9c541008a3ace723f843695",
       "version_major": 2,
       "version_minor": 0
      },
      "text/plain": [
       "HBox(children=(FloatProgress(value=0.0, description='Downloading', max=1344997306.0, style=ProgressStyle(descr…"
      ]
     },
     "metadata": {
      "tags": []
     },
     "output_type": "display_data"
    },
    {
     "name": "stdout",
     "output_type": "stream",
     "text": [
      "\n"
     ]
    },
    {
     "name": "stderr",
     "output_type": "stream",
     "text": [
      "Some weights of the model checkpoint at bert-large-uncased were not used when initializing BertForTokenClassification: ['cls.predictions.bias', 'cls.predictions.transform.dense.weight', 'cls.predictions.transform.dense.bias', 'cls.predictions.decoder.weight', 'cls.seq_relationship.weight', 'cls.seq_relationship.bias', 'cls.predictions.transform.LayerNorm.weight', 'cls.predictions.transform.LayerNorm.bias']\n",
      "- This IS expected if you are initializing BertForTokenClassification from the checkpoint of a model trained on another task or with another architecture (e.g. initializing a BertForSequenceClassification model from a BertForPreTraining model).\n",
      "- This IS NOT expected if you are initializing BertForTokenClassification from the checkpoint of a model that you expect to be exactly identical (initializing a BertForSequenceClassification model from a BertForSequenceClassification model).\n",
      "Some weights of BertForTokenClassification were not initialized from the model checkpoint at bert-large-uncased and are newly initialized: ['classifier.weight', 'classifier.bias']\n",
      "You should probably TRAIN this model on a down-stream task to be able to use it for predictions and inference.\n"
     ]
    }
   ],
   "source": [
    "import numpy as np\n",
    "from transformers import Trainer, TrainingArguments\n",
    "\n",
    "# https://huggingface.co/transformers/main_classes/trainer.html\n",
    "# boiler plate code from huggingface to launch a trainer instance\n",
    "# sets directories and baseline configuration for batch sizes and weight decay\n",
    "model_name = \"bert-large-uncased-micro-10epoch-real-weight-decay-0-b64\"\n",
    "training_args = TrainingArguments(\n",
    "    output_dir =  \"/content/drive/MyDrive/MovieEntityRecognizer/pretrained_models/\" +  model_name,          # output directory\n",
    "    overwrite_output_dir = True,\n",
    "    evaluation_strategy='epoch',\n",
    "    num_train_epochs = 10,              # total number of training epochs\n",
    "    per_device_train_batch_size=32,  # batch size per device during training\n",
    "    per_device_eval_batch_size=16,   # batch size for evaluation\n",
    "    warmup_steps=500,                # number of warmup steps for learning rate scheduler\n",
    "    weight_decay=0.0,               # strength of weight decay\n",
    "    logging_dir = \"/content/drive/MyDrive/MovieEntityRecognizer/pretrained_models/\" + model_name + '/logs',            # directory for storing logs\n",
    "    logging_steps=10,\n",
    "    load_best_model_at_end=True,\n",
    "    learning_rate = 5e-5,\n",
    "    seed = 5,\n",
    "    gradient_accumulation_steps= 2\n",
    ")\n",
    "\n",
    "trainer = Trainer(                        # the instantiated 🤗 Transformers model to be trained\n",
    "    model_init = model_init,\n",
    "    args = training_args,                  # training arguments, defined above\n",
    "    train_dataset = train_dataset,         # training dataset\n",
    "    eval_dataset = test_dataset,\n",
    "    compute_metrics = compute_metrics             # evaluation dataset\n",
    ")"
   ]
  },
  {
   "cell_type": "code",
   "execution_count": 23,
   "metadata": {
    "colab": {
     "base_uri": "https://localhost:8080/",
     "height": 503
    },
    "id": "ZiOxni6MlL2R",
    "outputId": "6adb8e9f-2922-49ae-ed6c-ababe5fc17fa"
   },
   "outputs": [
    {
     "name": "stderr",
     "output_type": "stream",
     "text": [
      "Some weights of the model checkpoint at bert-large-uncased were not used when initializing BertForTokenClassification: ['cls.predictions.bias', 'cls.predictions.transform.dense.weight', 'cls.predictions.transform.dense.bias', 'cls.predictions.decoder.weight', 'cls.seq_relationship.weight', 'cls.seq_relationship.bias', 'cls.predictions.transform.LayerNorm.weight', 'cls.predictions.transform.LayerNorm.bias']\n",
      "- This IS expected if you are initializing BertForTokenClassification from the checkpoint of a model trained on another task or with another architecture (e.g. initializing a BertForSequenceClassification model from a BertForPreTraining model).\n",
      "- This IS NOT expected if you are initializing BertForTokenClassification from the checkpoint of a model that you expect to be exactly identical (initializing a BertForSequenceClassification model from a BertForSequenceClassification model).\n",
      "Some weights of BertForTokenClassification were not initialized from the model checkpoint at bert-large-uncased and are newly initialized: ['classifier.weight', 'classifier.bias']\n",
      "You should probably TRAIN this model on a down-stream task to be able to use it for predictions and inference.\n"
     ]
    },
    {
     "data": {
      "text/html": [
       "\n",
       "    <div>\n",
       "        <style>\n",
       "            /* Turns off some styling */\n",
       "            progress {\n",
       "                /* gets rid of default border in Firefox and Opera. */\n",
       "                border: none;\n",
       "                /* Needs to be in here for Safari polyfill so background images work as expected. */\n",
       "                background-size: auto;\n",
       "            }\n",
       "        </style>\n",
       "      \n",
       "      <progress value='1220' max='1220' style='width:300px; height:20px; vertical-align: middle;'></progress>\n",
       "      [1220/1220 1:12:05, Epoch 9/10]\n",
       "    </div>\n",
       "    <table border=\"1\" class=\"dataframe\">\n",
       "  <thead>\n",
       "    <tr style=\"text-align: left;\">\n",
       "      <th>Epoch</th>\n",
       "      <th>Training Loss</th>\n",
       "      <th>Validation Loss</th>\n",
       "      <th>Accuracy Score</th>\n",
       "      <th>Precision</th>\n",
       "      <th>Recall</th>\n",
       "      <th>F1 Macro</th>\n",
       "      <th>F1 Micro</th>\n",
       "      <th>Runtime</th>\n",
       "      <th>Samples Per Second</th>\n",
       "    </tr>\n",
       "  </thead>\n",
       "  <tbody>\n",
       "    <tr>\n",
       "      <td>0</td>\n",
       "      <td>0.748500</td>\n",
       "      <td>0.650034</td>\n",
       "      <td>0.812758</td>\n",
       "      <td>0.679529</td>\n",
       "      <td>0.499530</td>\n",
       "      <td>0.483817</td>\n",
       "      <td>0.812758</td>\n",
       "      <td>30.633900</td>\n",
       "      <td>63.753000</td>\n",
       "    </tr>\n",
       "    <tr>\n",
       "      <td>1</td>\n",
       "      <td>0.392900</td>\n",
       "      <td>0.381674</td>\n",
       "      <td>0.880492</td>\n",
       "      <td>0.725795</td>\n",
       "      <td>0.667386</td>\n",
       "      <td>0.676784</td>\n",
       "      <td>0.880492</td>\n",
       "      <td>30.674700</td>\n",
       "      <td>63.668000</td>\n",
       "    </tr>\n",
       "    <tr>\n",
       "      <td>2</td>\n",
       "      <td>0.326100</td>\n",
       "      <td>0.365803</td>\n",
       "      <td>0.883566</td>\n",
       "      <td>0.742064</td>\n",
       "      <td>0.747024</td>\n",
       "      <td>0.733751</td>\n",
       "      <td>0.883566</td>\n",
       "      <td>30.676800</td>\n",
       "      <td>63.664000</td>\n",
       "    </tr>\n",
       "    <tr>\n",
       "      <td>3</td>\n",
       "      <td>0.267000</td>\n",
       "      <td>0.371284</td>\n",
       "      <td>0.885564</td>\n",
       "      <td>0.765022</td>\n",
       "      <td>0.722459</td>\n",
       "      <td>0.733413</td>\n",
       "      <td>0.885564</td>\n",
       "      <td>30.674800</td>\n",
       "      <td>63.668000</td>\n",
       "    </tr>\n",
       "    <tr>\n",
       "      <td>4</td>\n",
       "      <td>0.231600</td>\n",
       "      <td>0.369628</td>\n",
       "      <td>0.888510</td>\n",
       "      <td>0.757870</td>\n",
       "      <td>0.753695</td>\n",
       "      <td>0.752267</td>\n",
       "      <td>0.888510</td>\n",
       "      <td>30.623000</td>\n",
       "      <td>63.776000</td>\n",
       "    </tr>\n",
       "    <tr>\n",
       "      <td>5</td>\n",
       "      <td>0.164000</td>\n",
       "      <td>0.407543</td>\n",
       "      <td>0.884309</td>\n",
       "      <td>0.755081</td>\n",
       "      <td>0.741015</td>\n",
       "      <td>0.743473</td>\n",
       "      <td>0.884309</td>\n",
       "      <td>30.706600</td>\n",
       "      <td>63.602000</td>\n",
       "    </tr>\n",
       "    <tr>\n",
       "      <td>6</td>\n",
       "      <td>0.111500</td>\n",
       "      <td>0.435503</td>\n",
       "      <td>0.884616</td>\n",
       "      <td>0.779797</td>\n",
       "      <td>0.740169</td>\n",
       "      <td>0.751517</td>\n",
       "      <td>0.884616</td>\n",
       "      <td>30.693300</td>\n",
       "      <td>63.630000</td>\n",
       "    </tr>\n",
       "    <tr>\n",
       "      <td>7</td>\n",
       "      <td>0.071000</td>\n",
       "      <td>0.493200</td>\n",
       "      <td>0.882029</td>\n",
       "      <td>0.754786</td>\n",
       "      <td>0.731344</td>\n",
       "      <td>0.737914</td>\n",
       "      <td>0.882029</td>\n",
       "      <td>30.632000</td>\n",
       "      <td>63.757000</td>\n",
       "    </tr>\n",
       "    <tr>\n",
       "      <td>8</td>\n",
       "      <td>0.046500</td>\n",
       "      <td>0.548891</td>\n",
       "      <td>0.885257</td>\n",
       "      <td>0.747006</td>\n",
       "      <td>0.739425</td>\n",
       "      <td>0.740429</td>\n",
       "      <td>0.885257</td>\n",
       "      <td>30.687600</td>\n",
       "      <td>63.641000</td>\n",
       "    </tr>\n",
       "    <tr>\n",
       "      <td>9</td>\n",
       "      <td>0.041700</td>\n",
       "      <td>0.584140</td>\n",
       "      <td>0.885206</td>\n",
       "      <td>0.742491</td>\n",
       "      <td>0.741735</td>\n",
       "      <td>0.739773</td>\n",
       "      <td>0.885206</td>\n",
       "      <td>30.522300</td>\n",
       "      <td>63.986000</td>\n",
       "    </tr>\n",
       "  </tbody>\n",
       "</table><p>"
      ],
      "text/plain": [
       "<IPython.core.display.HTML object>"
      ]
     },
     "metadata": {
      "tags": []
     },
     "output_type": "display_data"
    },
    {
     "data": {
      "text/html": [
       "\n",
       "    <div>\n",
       "        <style>\n",
       "            /* Turns off some styling */\n",
       "            progress {\n",
       "                /* gets rid of default border in Firefox and Opera. */\n",
       "                border: none;\n",
       "                /* Needs to be in here for Safari polyfill so background images work as expected. */\n",
       "                background-size: auto;\n",
       "            }\n",
       "        </style>\n",
       "      \n",
       "      <progress value='123' max='123' style='width:300px; height:20px; vertical-align: middle;'></progress>\n",
       "      [123/123 00:26]\n",
       "    </div>\n",
       "    "
      ],
      "text/plain": [
       "<IPython.core.display.HTML object>"
      ]
     },
     "metadata": {
      "tags": []
     },
     "output_type": "display_data"
    }
   ],
   "source": [
    "training_results = trainer.train()\n",
    "evaluate_results_with_best_epoch = trainer.evaluate()"
   ]
  },
  {
   "cell_type": "markdown",
   "metadata": {
    "id": "8ImEihMyHBk_"
   },
   "source": [
    "Trivia 10 epoch 32 batch lr 5e-5 wd 0\n",
    "![image.png](data:image/png;base64,iVBORw0KGgoAAAANSUhEUgAAA6MAAAEjCAIAAABIK0C6AAAgAElEQVR4Aey9/2sb1/L4ff+V/cGwEMOBBC3ERAomUkkcNdRRA3VEYiJSI8g1guBUBBsREoRNECEtvqZFmATFJSi+BNdvelWXXvtC67okWJCi8JhHAcMWDBYEJBxYgX7YD+fsrvaLZr9Ilh1bHROq1Wj3nJnXzJydPXt2+w8Z/5AAEkACSAAJIAEkgASQQC8S+EcvGoU2IQEkgASQABJAAkgACSABGStdDAIkgASQABJAAkgACSCB3iTwt6x067VKpVKre/SosrfHnf+Wu7XHsy1ECL8tXLjz4RKo1ehA0vDWaVs7e2sS90ICAIHejrTetg5wJ4q6QOAwK936Upzn+qK5nS7ovZ8mai9iHMdFn1Y8NbKdjfRx/K0lr4Wxp0aP2U7idxFO+esLZd5YlXfi2dhM+zluILXusRqwtI3wLUDw61EisHqbcH2hzFtPOrW1s6cWD3OnN+lAnzoGROZFreda/iavSk8lVzvLca0t/OwWgeMdaW4UetA6OLncQPy9f689Z1XcM29VnNy6eqGYDqhDl/oRelTuEtL9VLqGIbWp3uVsc8RtS0Onyqy1oYMptlbvEK4vkG6pGlv7PxiJmL3McXxsqcaar68mT3FcMF2yOVfVt1bzL/KpKzw9r7fo7MTTY6X7U4LnOCDSDgZ+/WWM57jId52FT7ccooV0p2HcLT32307tVTZxSeD7OP5UIHwjtfRu/012o4XfU4IyVvTxZCAUncqXPnSjWUMbbZ1029rZ0Ekbm+J884qUJ/5wfG7d63nAtZP3pcKLfO5OiOM4Q6Uri78u5Z9nYqc4rouVLsv65jDPcZxwd50q+FchdSMc6Ke/uCRvYzVBdyPxH+uyXMldoYcEHmy6WnkYOxy8dYcQaXaguhaB7/PRPo67mmsN4I9nXb30LBnxE14ZT+7kSt2a/bJJLjvIbcnLj2jO0r8+XghGk/Obyjm/rUZsdj4wIDb9GcXdqXT5YCx5N8n+pWZ/aQ02Y4/et/dT6dZLz1KpqVTyGq3DhcuJ1FQqNb/ePZ95t6I7e37sSlfenA5wnJB6xczZmg31ceTOqnPmqkNMS6XrRGSfla5T053/diQq3Q+FBOEC50McH813K8M6R7KPI2uFxCmOI6H4vUx6KhEdFBI/7aO1Lh7KKl1yKZGeTiUukSNU63TRRnNTSp0RuJnOPEhEaJlPEr8457T5eLdvyjWtsdKlRzQ204MHUOn6o81zUPolm215kwkPhqOX6SnAW6VLS+T6+3yMFcdHq9LtUeu6FoH2la5bkB7U7/XfUwGO4wdjqYfp1O1oSIjl33ezLzi59t2DUumGbqXTDxKRATYm/NSdMeGggTib3p1KV72GNnS1PiVwnBCfSoQFnieh+Lx6PVN/t5S6FiA8xwuh2KPVijYpWN9aSl0LUTkJhG/l2GShUumGk9PxEOF5f2y22DZxqEZhc2N94eQjqhvXR8KPSrJc35yLh/2E5zmuXwjfzKiTG+9mw9o9OMPqBVWxxN1ooN+gmFKlscshw+oFm53l2uZ3il3R9L0oz3Hhb5zmwm0qXdpIeIBRu5LMv9X4VFYzN0NCP8fxRDgfnS0qjqmXnquXmPypQOTuUltTlPVfEkSbnqm9iPEcH3vBLhy2l1JXQwLhuT6eDEaSL8qaEjJQ6cI85fqbbPw84Xkhci+TGNBWLzRKuUQkIBA2+ReKPiiIDVlWRjTlolP57/kMjRYYviwzzlZEDTYnPRhPMg8Il9OrjmMQFEUUaeWXTOy8QC/ZB6OpHzTDYfhy7VU2rkxk9guhKy49GjJJ2/w9JfQFUs8z4T4+/oN+yQYlDlVtfS4eHmDTCcFo+idaGpcehjiOJNdkWTbP0DdWk4TjgonMVIROgPULqTVZBuEzXcSfMrGL1Gp+IBz7Zr0mKwkVymyxnyt5Gs2XZm2j+W2GXibdLqhx0qjVtKlT2JYPpdydCB0y+oXwreym5illhUz03iyNnD6eXMvReK5pO/MkdCNd2NboeflklW7gHpvJUybSrih3gcARQ2ZDmTpkRafyZUcrlHGWzZQYVy/AKWmzMxxvSq0QuZ2KDLCR9rkt+FYGyrFKIlee0vnd8JxyuBI/NKmFi/HZX5uXVkBcyfYjAHwyPphKl4/bLBhj93+8VLokGBIG0+s/JEgwFOpT53Rpjl8UCBtLA5cS2aKWeoZIC1xJqvclwFSyGyha/QFKWCgekHV2kWbMowO1zi4C4cEKHrfLsxeN5wOuueIRsq6Su8qTy7HIAAncSKVuCHx/IP6CnQkNDm176IAcpyRU7LkWMB9qNaXagfKl/CjE+6OxSwIJxtNTEcLzobuFmizb1VF0qGOLKi2XkWLzlOSPJJrTsTanJEhrmVW6vDL7wE70XOhhSZbthjt4bARbtgViSx4abdo6oTcqhXsRoZ8nwfjsPTq+Rfe5ekGf052aXWWjIvMQx59PZF9kE4Ocujqtzq7m+UDsQSZ1VeA4Xh1Ya6vJAY7rEyJ3MpnpZOxigt0lZzUixwlXkuk7YcJx/E0mBinaCKEahfmG43h/LD2fz81n0s9KslzJx0PRu5nci6XcvQjhOGGK3f+qlVe1e3DWSpfjArey+bkYNUNVrFb6MZ+fiwdM63RVKyw711/RCz5uIJp6kAizKYQOKl3xeYxwHLmczEzHQ/0cJyQKrA5YvytwXCA+t1T4IZ99EM+ssaJiJxflOf5yKv9jYelZJnk338YpUaYlJi1vb9EChTq3L5xVyohX6fClRPq7/NKL2fggx/H6umqg0gV5NkqZ8/TaMZxIJS6zG8jKOt1GIRGMJB5m8y/zmRsCu7dYk+vi+st8/l6EpxdSs/kX+fxPJTaWgPBlGJEyYnJC7FE+d5tN+ehLCYFIgqJIlrdmwzzz4MNUbJDn+gKpV5QzDF+x8VQ086Kw9CKbvp1eahYPQIeAqDQd4vrjhffrqQHDbDqcOHL5O8qHD8ZTjzLpRDRKr+XcKl2aaKns83zuUSr7uyyD8GW5XkyH+jjuVDgxnclMxSNxWl/WfogTjguxS7XKc7eVHsqcLk322aVipXldJMO21Aq3aYaFbqUzt+kgQG7klSs0dS14fyj+MJd/lk0/XBLlytItmrvRe9ncd0m6t3IVBOCERHqlWxdfJlhe55XQUlaXmkaMD+spP43Z5Fwuey9KOC4wtU5tga2Q5e31peZ6nuY6XbuUBHe2iTelVuDPJ3PPM1SPU0mXWy0G0/U6o1Ep3AnQFGMXUeJTerUSuJHOPZ2NB3muP5pjyQ7GlWw/AoAn4wOf053KLBmvcDxXukIiFT8VilwRAndSMV6tdMtz0XA8NfssvzSfDPEcd1G5hKvkb9IzUuBaKvMonbwWoReHdLqaXTRaUsnGcQY/OG4qF13NOd2uWgeHpXx41tlFoFOlax23a+Vf8vmnSTouBRPZF/n8y1V11gHIo0ruKscJsQw7g4RuzyaCypqH/Q0doAOVU/ypcOJRfn1bH+fAfKH1ZV8g8Q21gr+cysQFrj++9EGpdFvqKNYdkFxvMiGeDvuZp7nMDSWd6WkGPiWBOsuGSrdeWZ1iq4++E2W74U6Z5rBWUzZNw0BsyYOjTVsndOXExPljqakYTd79V7r6JVVfeJatumOVrjr5pFwZ0IuPNTp5pM6a1OjdWG6QrvWs/RCnA+u9TUM40KsI9kQamwKpF+L9zVHGhiMkhmoUpdJV65LmQXWl70a9/n6J9qVO59DflZCyVrp94dktVhBYFFMuwfUn0tQ5XcvObDEASbD7AuW5MJ1NaXtOV8xeoZWlci+7/E2YLqR9SU/NdAKYI5F7uUJRVK8j6ao19qjcYHz25XrZUGA0CbhtsEvnwfRmvTx7ieP86U3lCrWukqvXa4bhiTYGVLqsDytPZShXlp9WaD2tPZFmaHotKXDqxSVtw+s6XRtESqU7kKImvKILzQVlJs8GARRFauGoeFC5L0PurNrCb5QyQY7rDyfnC5vvtKt8m+4gMWN+MbP+rpS9xjfhw4mj9mVY5MA8ZfAONKdLEgVtVpIpAMNngyZJ/GQ24QNbkHBxttxgycVHcn9BRmiy2tt86lpAeTSJXE6vskdOYVtqdAzQZogruWs81xfJssaVSteUNdp0cqlG/1bvCu0tbW+u01WGMz6QWlPMBEaM+k909ArcW6c9vd+kl2ps4SlshWa4mhHNStcxJS07K+5rjTelVog+r8hyLX+DTmh5X9yiHKuO3nwg9o0yTcEynY/l/qLGVV5SD9DR2yauZEOkGGKM2gycjA9u9YJ+EtIWWSnYvVe6d5dogHEk8TIf1ypdWRneGvX6BzF7leN4Wn/If+UifSwstXuSqoeVStecSnaO04LC7VMZHg/IOta5JdIO0zqbCLS5LHcYt+1XL5itY5XutVzlTSbUR9fq0F/PZ0o76p2oDocO2Id18cdM/DxdB0VXa91ZovckaV0DnDFppcvHCx/WkwIXmN6svIgpM9NwHcWaaU2uzXt0PijxY4Xm7btstI/jb9JrdbgegHVWKl092riB+NKObDfc0TGHPmNqraZs2oaA2A3a8GjT3gmdGS4k2Uzf5gM6pbXfOV271Qup35nJrMANPSypJY4ygazMcpHEakPWL+xMhJQakc0RKiOIej1t2sn5C1SjMN/0mU/GjfLSVDSgxKTiZcPtV2tlppbgNorBla51ZzX9lBu+P9Jziemc3WIVsHpBuQkoqK8pqLOrhbDy1NRfhdQVQX3IWYhmfldP2Jvz8dApxTw+dFtLvJa+7AQ0kfqiuXf0SoAk1LvPtd9n4/RedjM31BsfbVS6dNDhyG1aJsqNzVRz9cLOavoGvTvc/FOvkbxXunaIlBFTmfBjz7GqU/g2lkNRpNXxigd3cvR5iBtsChCGL1fWMrFBNcLIpVShrTeKsMm/JgeuL0QvnGSbxFGsG9QuRTSjDFUIVOkG2SIQbWcZhl9buslqTeOcGT2kzsrKcOb3fLyf468Bz4U0G25u1P/azN+l0+IkQe/TwYOAmk1qsLFxP5Bmq3FYpcvHfzBcHbN1EToluqVHY7Nf2w1lne7lZOab2ezzwuZfzZaBEaPyLGruiOP66Do82AqtS/NJl5aCDilp2dk0YhjijfWocFD0jHqiz1RStA3cVO6l8Gwdlyw31rVH83QT6aJVm7hyGAFaT8a026O6ekG4u1p+kYzeSBW26fUVW6dbLz1LRAYMY1BflK62ZIOGOmRpzmWmKQuBTKlk5zjjcU7bSgrse20GZJ3arSXSDtM6OALtbkA5jNvtVbr5Ch0rSHKNVbrBTOlPeg4y/7UzdDj5T668WUpfoXcA2OWoDOYLrXT7E4UPNPUC06xSYpf0bMQTLHWU0ltLctULtwyBqhijlDE2pyRQa7Z6gQvdyszOZXM/rIusdrAb7tRK11JNge0ahCYgdoM2ONq0d0JXJxmVm8+V53TEPqBKV3WtyFaA6XO6yjOt7AkbdU6XTRsEHoBzutYa0UDMfROqUbTzgaHUUGZi+Eup/C/rm7/O0lt3hqr6ICpddoWhzumK3+1nTjfWOqercqmJmy9TtJQwPZFar7xdzd6kq6jV/HGnqO5RpxU5SUwnA1rS0mkeuvBAiM8VVn9fz9MboPoAweb/zPMrrCUrT2XS4horEz+wyXu2eoEdzoVu5wq/bq4/pffHWypdelPe9Ge9zFAuAVsQOYyYpubUL1AUmeZ0ZXZfRpnTVY+B4cv1v0qFh/Qms3KvH+oNkNVogpDoo6XCj4Wl7+JCc8E0mDjq1bBqdbO5En2oliR+keVGmXqt+SYN5TLSfKPfDj48pyvLCoHAeXr3LEbnF+3/amJ5RysilfMTG46ZjbS80H5jLZjndPPKnC6rs4FKt8KuNy6nC7+vr6v/Nsvaul57hbRf9NULmkT9BEYMlgtc6O6S1tH6+qtypSHDVmjtWUsKVQ6npGVn49SgMd72X+nSdbo1ZTFGLE9HRTan2x+dXWtiXN/crmlzuua4chwB1Mtvy90q5ZB+7VpZg9P5Z9dqQbZiTbubSCtd5YriVDTzcnX9VSF9kU2ZvzfM6VqUhlLJznGWQ22/Hpx1WpeWSNPndLUd1M8DsE6pdFsiUIYHK4dx+30+5undC8qcbkulqzi646HDAop9rf9VFrW7ZHV2Y4FdLsJnTMdKt6WOUtpX5rYMyaWUxfFnhrR9Y7h7a3NKsujOKl39JK78ajfcaZUuK9IsDbV8hYHYDdrwWay9Ezqb0w0oj9ErFfx+K119ne5d9d0LDDrHCZHkvQRdMKe8RbK+nqJLOQ3rdL9hxUqtQJfF9QnRu5nZh6n4JcM6XeV9ut2f0zX5RhmRSTxfroib39FCRKl0K6+W8to63dDtbP5Ffun3irasoqUEZ6uClHW63KUUXUL642bFZgK4/iubNxmMpR8l6bpgL3O6HAnHlRdcJJNT2c2aLD6nqrau092ciyems/kfCkvPkmGe42+wYriylLqZnH2aL/yoLHsNpJUXKbREpK2ADQfkFOGUlRt0eoblbV84/XulslVIBk2zaMoVjnAjk3uRX/pVpO/vAXmqjYQS80u5O2w5jVLp0oca+eh3pcpOKX+L3nrQK132bjv+YjL7XFunC8O3QeQwYkLGK5WucDnRfLg7/9a4TjetrtP9nRZpMHy5nLsdT83lln4s5B9Qh2uP/kD9WWVs4qFPm6v7QOfUeWX+GE4cuTxH1+mS8/H0N7PpO9EoyzJlEZFwK7s0n6DvOnWudG3g118p63QjiYez9IF9tk6X6tsopan3Obq8zLm4fJsJ9QvheDL9MJ2ki/U5QXmJB2yLIuXDiXTmDuWmPnkmy0Clq6wv7BOiU7PZp9nZh8nYpSS91+zxr51KV12PSxfhZXPzs3TJ8i3lkThwKGOLyJV1upwQ+yaff7G0ul2X4ZS02Vlf7mmKt+5UurIsPmNrc9mVBlshxwdupmef5rLfpBPXImm2DhWIK8cRQFYmbAbjs8/z+Zeb2gWQcvlCl1flX+RXt5Q7Th6dBO1mVwu+yafuJpuv30neTc2uaSpYmmFvGdPvTLLJILXS5TluMFnYrohr6Ui/VunKlfwNtk73ZirzTSZ507xO13zRaFjQb3KcRQXbrwdnnWwTaYdonV7pmiMQHqwcxu06WwxJIqmnzXW6oHV/0XW611oq3QZbmtzx0AE5r/I0yp8Kx26n0sqDHByJv2SXi+c5ruWM6VjpttRRSnctyaU8RMGfj6e/y+W+Y09osJHf5pQEKW1cp2v8XXn8oHW4Ux9HNlVTxuOM2zAQ+0EbGG3k9k7oyjpdcjWdf5GhD1Ttf06XneLU/yhvOVXuMyYepiKt7164yt69cCoUe7iqrlyR5frbfIrJ6RPW8azh3QstBaURnts2NBsHzNDIjXL+boS+rKBfCCfidB6UzenSi13zH3+rYFfpKlOVpt1pxWa3BqO2/k0sQDheCCdv07rEufRhVyeGttW6hz2cSN8gwQuXk7k36jmj/CIZCdLXIXB9JHA5ob6TobaeuREOnOK5Pvbii4fKmjw3gsbflbMafZBO/z871H6fjQWVZ/xjCboK3nA5WNucvRkgyl2ha7TatuEp14vZeJDwPAnfScX11QuF9FV6OH8qFL9Fqxy90m2I+Tth6i9OferIBr72FgILIocR02ivtq1EkYE+H/+R/kbfQqDYPhhNvVSfgoDhy5XCg2iIvgyBxdgteqHi9a9Bn0JT7n6wQ9jaA20tIJQ4styorH7DXsrRx9H3QrB3L8gfNmev0XcmBK4l425zuvKOHfy6+GOavXGC+iX2SH9zH1spzpFbbo+Nvt/M3VVR0HeA3NZfpwDbUivlbmu5eWt2XSujoUqXLgfI3Y2yIGfvxL2tvMXFG+m2Kl1Zpm+KuKG94WQwEp9TUQBWKDfdDAGkjrlgStrtbBNv3ap05Tqb1u2PsjXWlfW5BHsVKMefEsLXUuozXlBcOY0AcmV1Oqq80ZbenNVWtda3conz6rok51VbnjxnUwsq8xdG6rZ92VW6cr30VH1FT+BqIkZrFLZ6gT6hu5m9HaEL3vp44VIir7wTGpr1tBsoPJkmy/LBWWcfaYdmnbHSNUUgOFg5jdv10tN4SFmyp86Oscffje6nhc7/Z1Pp7m/ogHxJx4GbygmXvaxaXQRPVy+0njEdK91Aax3FOgSSS/wpoy4m7CeBS7E0e+WrzSkJUtqu0rUd7qBqCm6Y1XgQENtBGxpt1NcKeTyhN8TCVETg2esH7uzz3Qs2VimVrrKizmYXFKsEasoKEo//DzbEhgSOJIEKnRRUF+QcSQVRKSSABJDAcSKAddTH8pbX/xswesjFQ4319OVoYnp29ptUlL5hjb3JweUY/BkJHEUC9XerS88ysQGO86fYq7aOopKoExJAAkjgeBHAOupj+Qsr3S6Rb5Rz9H/uoPwPF6LG/+FClzrAZpDAIRFQXpPHD0Qyv3pfk3FIumE3SAAJIIFjSgAr3Y/lOK+V7sfSD/tFAkgACSABJIAEkAASQAKdEcBKtzNueBQSQAJIAAkgASSABJDAUSeAle5R9xDqhwSQABJAAkgACSABJNAZAax0O+OGRyEBJIAEkAASQAJIAAkcdQJY6R51D6F+SAAJIAEkgASQABJAAp0RwEq3M254FBJAAkgACSABJIAEkMBRJ/CP/x//kAASQAJIAAkgASSABJBATxCwlN7/kPAPCSABJIAEkAASQAJIAAn0BAGsdHvCjWgEEkACSAAJIAEkgASQQAsBrHRbkKAACSABJIAEkAASQAJIoCcIYKXbE25EI5AAEkACSAAJIAEkgARaCGCl24IEBUgACSABJIAEkAASQAI9QQAr3Z5wIxqBBJAAEkACSAAJIAEk0EIAK90WJChAAkgACSABJIAEkAAS6AkCWOn2hBvRCCSABJAAEkACSAAJIIEWAh+70t1embke9BFCTg+NPylWW/Q7JoJq8cn40BlCiC94fWZl26z1u/mRExzXp/8jiRV9j73i4095Pr6o2F79c2Hi86D/rN9/dmjs4ZpI9xMXovqxHB+8/wc7GkQHCvXOenLLEb4kSXvi8oMRv4+Qk/7hqeXyXheQVosLE5/5yQme+IKjqps0tmaHatLj/ukCGYpbarL488yIjw8+KDbtr75dnPxCQze9QiMcThA47O06arbfvQ0Xk4G4gg2RmM5+Qgg5Mzz57zLT0Ma6VjgSeLh3K92sUFoyBy2kMKiGjRVgdhzI0NSxdZYxVgIz2i7YrFFt43fvTrLZ08U6r+pJ0kdNOnHl4WjQx/MniP/ziYU/1ROd0xkTHrRtfAQFGxjAEhiBoNDGH39b8e7r+fFPaZnm+2Rs7o9dxgF0q0YIzoh9Dxegs0Chpkjz8+NWuuJCzDf0YG1XkqpbC2OntRquqd1x2fjjfvD02MJWVZJ2Nx4M+WILrEKFtN8rzX0enPhZiRW6Q+nr4eAZn1bplh5fIKNP2Llwd23yrG/8/6qSVJ77zDfxX0trIDpQaDmw5766wS9/O+yLzhXfU+fMXB+e+W3fSPc27p/1jX5bVOPW55v4j36NZnZor9B2gQzGrVTOjQW/uH8/5jNUuqXHn5Lhhxu7e5L0bnH8NGERbqCkJwgY9nBHhuO7t+lisgTFlaH3piF7xZlPyPCjjV1J2n39eMQ3PPdWsklqCA58uKEj5003K5SjTUEL9ggKwaEJzo6DGZo6sE6CQgjWGdpTAqPa4IOm3w2yDjddrPOuHhRXRp10nbufdOL3o+STSTb7Q0+O/Gdz9PTmYhqUXKCPYCGYcWAEgkIjGtyWpN2ViTPByf/QoqacnxiOL5QlCXYrSMs5ukAPSqBfvAsBPT5qpSsujJLRhR1VrY0pv//eBqDjkRdt3DNoLi6MGIyy6F7Ojfrji3od/Ofc8IXJ5eyoWunuLY+Tocf0RChJUnXxS374X2Vpr3j/XMs1AIgOFFo06LmvLvD3ijMXWujtE2m1vJZfY3PDkiTtLsb4kazmUotDe4W2G2QobiVJ/LMo7klrd/16pbtXXssv06sO+qdFuIGSniCgj8AEMRzexU03k6G4MnSvG/JubvjE2KJm8vI/yZBdUoNwwMMNHTlvulihHGwJWrBHUAj6CMyOgxmaOrEODCFQZ3BPMKoNPtD9bhB2tulinXf1wLgy6KTrDDrUpiNDA06b4uvl5dfazM7r+8HTE2t7kptpUHKBPgKFYKyCEQgKnaz5O/62++8x3/UFzYUqAdCtIB2X6AI9CPrFuxDS46NWun/c95+ZXKN3k+mf+GSEbwGq/nakP3YXrvMjT7RaZ29t8oxfXWBgUXt3ZeLs8NyWJt0rzX0RnPx5d/d7rdJllzLDX7NVHOLy+FlWou2tTfh8w9dHgqcJOTM09ogtaQDRgUKttx79dIO/uzhKRmaeTI584vedCY5Or4h7ktQ1pFXxt8cjZ4bn/mR0AYf2BnU3yGDcaqabKl1NSD93lsctt3GMCQL6yLEjY9v73nYzGYyrZq9GQ+h5d3RRO1Gs3fWR2ytwBDYPN8IBDzfu6bTtZgW9TdwyCoE9gkLYR02FDNlxIENTR9a5hJBBZ8c94ag2+r2JocMNV+voFJf1ZKH1BatnjCttTzpj1zwrwQ516qjZjPvGbmnxdtB/e2VXcjPNObkko4+a3RqEYKyCEQgKm03iBiNQfBAM3p57HB/yn/b5P5+Ytywy1d0K8XKPruZRBg+CfvEubDZp2Piole7/Jn3n7he1Snc3P8p/Ma8VjAYdj/qmOP8FP5rXTmX0stg3+T9A6fK3I75/Lmv7SaVvR4JfrdB7mnqlK0lbC2NneN7nIzwZukfXdUh7xfmvJmbyxd09qbq1OH6WjOZECUQHCgFFeknkBn97friPH3rACtztlYlzjF5XkBZngjzHnfCPPSkpaxdgh/YCbDfIEhS3muHwSXe3OBf1D03Te/rNP1OCgD5y7KjZTjc23EwG40rr2GLIzAUyPPiQaEkAACAASURBVL0m7km7r+fHTvP8P5fhpNYOl4xw6E2JlsObe7psuFkhQaMQ2KONEBiaFJUs2XEgQ1NH1jmEkEVnhz0l850KzQsmv2vCTj/drQNOFlpnRyzpqotxnuM48tl9tjDfzTSH5Gr1kSRJFiEYq2AEgkKNIX4qBNa+8vGnx+bpAutq8dsRcvb+hrpYz+JWAJgpI+yG9FYPgn7xLgQUkT5qpdtapMesk+SQzkdN1nqF2nK7nBWsMxf8k//VFnRuzY98MrHCVm7olW514/45//i/y3Sn3eLjL3wjyppdg8Wlr4f4LxerIDpQaDi2Fzfd4O8sjJzQ59FLXw+R+LLmA5XHfpDuvl2evOAbzZUl0KE9QtwNsmPcAifdd8uTF/wjX5vKXImenwwJYkan+sixI/MR+/zmZrJDXLUYQp+P+cxPTvqGvpyZ+yrov7tmUU61TpG2wHE93NKa4aubFTZBC/YICg19SSYr2A96dhzI0NSRdW4hpOvsuCcQ1S1+N8Jpf9vNunbVa4krqpKjzl1Ouqq48e2o79z9jaqbaQ7JZYkrA1bdccpDnJaMAyMQFBraxE1Jkjam/Poz9NXl8ZNDj5V7mAod3a0ttLxEl+Eg3YOgX7wLDW02Nz9qpbuzMEpGmrO4bOw4tut0pzTNxXl4ne7bx0O+8RWtyCp/O0JO+nyn2b+TPMcT/+ePi69ngifHV7RJ7vK/hmlRWxWLv5WaU1+lR6xWA9GBwqare3SDLvlygE8XkwTvv1aNp5XuP5f3i3SnuJhXXotBm1XOB29Bh2quPO7sXSAXobjVbLbWBNvL4+eC43nlFQTaTpIkmRNEAsPesSNDW13YdDEZjCulW4shJl12F2LsrgJonSRJdnDURrTDTW06fXG2Ah6FTEEL9qgJQSug7KgezNDUiXXgGAvq7Bhs1qhuDWAnt3j6zdk6OpHZerLQGraqZxdXllgFHerYkdah3We1/PPCcvN+d3V5nARnimydbruDNugjUGjSRYtVMAJBoelw/EKXlZKYtvxKqXTfwm61wvISXaAHQb94F1r1oN8/aqUriYtf+oJT9L5e9c/5Ud/QjP4yIkjZIyt7PRP0jc6/rUp74spU0BdnYVEtrXy/ot7YliS6NuNz9thpixX6nO7O4thJv/pmhmppPkqC00WJCce+pxO9dPXCGTKWFyUYXa/wbEHkJHCBX924F/TF5kvvJUlcmTxHRr8X94uUeWQ8z6bedzZmPiPBh6bA1R3qpPex+s0ZMhi3mn3mk255/rp/JNtS5rYmCBj2jh1pHXbp09lkCYor1nNLppfmo0Elf8WfJ4Onx5d3JJsIBOFAh3s30cUKvSFD0II9QkJ7H7Vkx8EMTR1YB4YQE1p1BvfUgJmjmkpb/K7t2vGns3VtqAfGFaQza9N6rnHsyNW44nSQfDazQe9eVsvfj/lOjtGzo7NpYHIxNUAfWYUSFKt4xnR1ld0O2wujvqH7P4uSVC1l2az8ngS71bnmsY+uFg+Cw4V3IWDJx610JUlcm7keJIQnZ4Yn8s2yEFD0aIuqpdzE8GlCX68ae7ymvE1ie37kxMi89m7d1lt7TYsM5xj6/tHRC37fGb//tH/49oLylLr438djn/j4Ezw5PTT2NVu8S5/gg9CBwmZPvbnhBr9aXEgM0ZcBnvTTJ9IYhH0iFX+eGbvgIyd4/qR/+KsFS+AaHdoryF0gQ3Fbnvucp6+R5pS3QfP0SSy6As/wcug+3ndbfbd0a4KAPoI6OiDGLibT13u2xFVzjl+7eUN12/3t8eg5+jpd34Wxud/U2zOAdTZwwMM92+xmhdaQMWjBHkEhYAV7iTKQHQcyNHViHRhCYEZDe0JRzRi2BrCGtuNPF+u8qmcTV2Cs2jm09azk1ar3pYWvhv0n6ft0fRfGZmjBRKtelzMmlFx2PmoNNjBW8Yzp1WUt+9FIO0fICeL7dHxBmaEH3epW89hFV6sH23CWt4HlY1e6LUxRgASQABJAAkgACSABJIAEukIAK92uYMRGkAASQAJIAAkgASSABI4cAax0j5xLUCEkgASQABJAAkgACSCBrhDASrcrGLERJIAEkAASQAJIAAkggSNHACvdI+cSVAgJIAEkgASQABJAAkigKwSw0u0KRmwECSABJIAEkAASQAJI4MgRwEr3yLkEFUICSAAJIAEkgASQABLoCgGsdLuCERtBAkgACSABJIAEkAASOHIEsNI9ci5BhZAAEkACSAAJIAEkgAS6QgAr3a5gxEaQABJAAkgACSABJIAEjhwBa6Vr+Y5fkQASQAJIAAkgASSABJBAbxD4R2+YgVYgASSABJAAEkACSAAJIAELAax0LUDwKxJAAkgACSABJIAEkECPEMBKt0cciWYgASSABJAAEkACSAAJWAhgpWsBgl+RABJAAkgACSABJIAEeoQAVro94kg0AwkgASSABJAAEkACSMBCACtdCxD8igSQABJAAkgACSABJNAjBLDS7RFHohlIAAkgASSABJAAEkACFgIfodKtrGWiAh+aLllUOVZf66VnibCfECKEbmRWd6y619/mk5cDpJ8nQij2aL3Cfq9v5ZNXAoQQ4o+kfhCVY+rvllJXtT0frjrsKe+sZm6EBELIQDjxrFRXjgeFVnV67HvH8EOBwUBgMBzXPCLLMhCNjUphOhoQCDkViNwriA1Z/isX7ee4Pv0fub2qM22UZi/x/K0l1SP6D8d6yw0yDWYrTxbhViEctwobMzrvCXIwZB1NtokBKH8r+Wt6qHB8KF20DSHIZOjwNgx2tEKW5dbwBoV29tqObC1+BztqwxBw1/atszEE4GCzJxzVinbmAAY1bkfoYh2oCSj8qElXWX0UCwk8308CV5L5LWVcdDHNuztUnkbyNo6DIfwdz5jtxCDbt/Yml7hEaw3hfDxbrDEZ6FZDy2C+Q8I2IhZ0Fig0KAJuHnalKz6Ph66m0zeF413pFtOhgXh+uy7Ltc3psHAzr1SoKuLGZnpQiM2XarJc387HBSH5S11ulDLnSeSbzZos197MRoVI9p0sy+XZSyTyaLNGy6mlxABJ/GS3ZyV/UwhPr6ttDrDTpwwKQUf3kLAD+HJ59iKJPWNXF7X11KBAOcsyGI3ifES4li19oL7N3IhkXpkr2EY5eyWUXFOSn1Itz0VCfqHXKl1nyDBPELJTiJrQeU+QA4plF5MNveoxAOWvLGYvC8lfDftbNpuHwya7HW5pzfLVzQowvEGh3rCuMDSywcEgu7Spt97OVkfW6R00DZHd1NP3BKNabdIUwHo3nW65WAdqAgo/ZtJVXsTI+RSb/aEnR/5ylg67LqZ5d4cbed1xIARQ2Km/evW42mrSH0r9Qosa8WUycisvyjLsVgMBMN8hofeIBZ0FCg162GwedqVb2SpVGvL6VOBYV7qbDwKBB5sq0ko+SmL59wbAdXH95TqdC6R/taWbfPRpRf4rG+mPL31QhPVCgoS/E+WGuP6yQIsq+ldfivOR70R4z0o+Zuhl8x5TABQqjfXufzuB36C8Z+mlhYGzLAPR2ChlLipXETBB8XkscGtJv7DZykYupgpPYz1W6bpABnmCQocQtaDzniCwZ/YrdTHZ0LweA2D+NkrpoLcQgk12OdygCLDpYgUY3qDQ0LZuLziygX53a9PQfBubnVhnaF43xE09w57w0EFbtQSwoaPONt2sgzQB4X/UpKu8KRTeaBMBb9KhgeR6Q3YzrWujru44EAIo7MxbvXtU7Ye4cCOvuVC1E3SrzgBMKFgIhTHoF+9CXQ/brcOudBVFjnmlW8vf4KPPtGqnsZ7yB+gNSuCvXnk1G/VHslsyq19jS1r4rE8J5I7hDrgsy+8LCWWmlp7/WvYspgP+1LpaPcuVZ1H+Rr4GCgE1eknUEXw2+R2ZY0s+KoXEoKkQMUVjbSlGoplnqej5gOAPxR6uVjTmFGJtNTkYyW5rPBvl7NVQaq1We9Fjla4rZHph3cITEtqFaCs6MOw10vSzmSBGYde2XU3WerLEgCbW1WusJwUhciMaGiDEH45/oy5eUnc0Hg6a7Hx4szt4w80KMLxBYbN9o8JNoWwY2cDkcm5Tb6etrY6sa/ZgNMRZPeOeoHV0vUfXc9/NOliTI5x0tfLSnVDgzmpNdjOtDXc4kjc6Dhx5QGEzQnCDEShNh0J3srO3woEBIXAlmXtrvqupu9XAC/QgKATDGPSLd6FBEbtNrHTtyDjIK7mrfOylVrTSKRwh9XvL/m8zIZ7j+gPxZ2UaKfT6hkQerlcacu1NLj7A84mCfkytlL0WCD+kaxvgPX9PCcF0Sau6ai9j/NVcBRTqjfbkVkfwZVnezsf9PC8IhCfhB3QRSPPPVOnu5CJ9fHiaFbg7q8kgiT3XLmnoHc+okCg0jy3PR0N3V+lylF6rdD1ABnm2Cm1CFEDnPUGanuvmhgeTWXeWGFBVMOdv7m4y87JUa8j17aXEoH0IgSY3Sg6Hu1nsZgUY3qBQ6wmw1zKygcnl2KbWdrufHVmndWIyxFE9056gdbIMBLDWUaefbtbZaAKMbB8/6epLt3iO48jlNHv0xM20dtzhQN7kOBACKOzUYb163PpdgR+I5+gC63ppPkoG05tqrWtxqwEA6EFQCIYx6BfvQoMidptY6dqRcZC3XqGa5giNR9beFVIXhdhzulSJLsS+HCCnhHA8k70bCkytq3v+VUhdDETnWJnLRMCerdc3N6E53ZvWmw5GZXpiuyP49c10MJD4QaQJWyvNXhWiyppdRsRU6b7PR/v1WdvyXJjcKqhpTuuSQOpX9Zu8nYueT66yVSs9V+m6QQZ5gkIwbm3QAWGvhGxLghxAJLuZrHRpiQEP6pXnwnxce1qx5XBbkzULTYdrQvtPNyvA8AaFSh8tCje71kc20O8ObTabaHujI+tAQxzUs5gMWmcTwG0bZDrAzTpQE1B4RJKuXtmcjwnB9GbdzTTv7nAgb3EcCAEUmryAX+TNewH9ket6IXEqPLtlwKK71SAEPQgKvUcs6CxQaFDEbhMrXTsyTnK66uhec51uzrpO931p6aV+yxI6V9XyN7WZnp1CIhhKvFRfxdDSq7bn+3yMRHPa9CIrzjZlUNjSRI8JOoH/NhM6lVjVZsTF7yJ68SGbV43TtSih9BuVGa10E1ql+242LCRWtUJXnI+SU4IwwP6d4jmeBK7MNifdjztzF8ggT1AIhagHdFrYy7LskiBdI+1istKPOQaorFW9eqX0qqxP/H9juFhqPVxXXzPZ4XB9Z9stFyvA8AaFSg8WhcGRDfS7Q5u2urv/0Il1oCEO6llMhqx7dzC572IdpEkdFH7MpKuLa/lC8343fSAllHnL1uk6nDE9u8Np6LA4DoLw9zxjuueVeY/Ksyi5qS20VCrdd7Bb9eNAD4JCzxELOwt0q66H7RZWurZonH54kwkJsdy7utyorN4LCbdYWNTLqy9W6UqF90vxU4HESzaD+H4zc5mEHpVkuZy7Foq/oMLKWio0kCjQ6UAxdyMQfWopc8E9K0txIXSPLn6ob+ViQjjzlr4jCxI6Kd4Lv3UAn3lEfWFCvZy7RkIP9ZfcmeZ05frmg5BwM1f+IMuV1VSQxF6olxd0xcgV9hxxC8Sem9OVZQ+QrTxhyC4hakAHhj2YIC0O6IrA2WTWRUsMQOoxDkqm09ULfhJ/aRdCkMn2h3uy0sUKMLxBIe3Nai/TzTqywX63bdOTFXY7dWIdZIj3NIet0/UzBLAu7HDL2TpQE1Dodl4w6AxFIHxW8mpT6WGIXM5s0rNbXXwRF07F6dnR2TTv7jBoYbCCSq2xCkNwGY4Mzf+NN3fyMSGcXqvIcr38lM3KN2TYrc2aB/YgNAi0EbGgs0Chu7MOudIVs1d4+l5STnnfJG99Kstd4SOyR738PBkZIPR9uTdn15UXL+zkov3RHHu3bmUtE78okH6ePxWI3M2zhbpy7dVsLEhfpytcjGdfsUkfupDF8OrNPl5gj6kBe9Kydj1zI0QIT/yR5EulSRvhEYF0UGp0Ar+yloldDAj+QGAgELmTZ++7sInGeil/O0zfJXgqQJ9I06yA5ubV3yxjrnbEsf50h9zCk76cuFUIx63GxogOCHubBNGO7u6ni8nsjXKGpQh0QhfO38qvs/HzAt/Pk4FwfE5fFN4aQoDJsmx3uDdr3awAwxsU0jfome1l759uHdlgv9u06c0Ku706sg4yRLZRDzQZiGpNQWMAa7KOP12sAzmDwo+ZdB/K+buRwCn6Pl3hYjxDCyZa9TqfMb27ownXQr7VcTAE8DTabBQ3GAEaVEFC+olwKZFXZuhBtxpqHtiDUJa1EbGgs0Chm+MOudJ1Uwd/RwJIAAkgASSABJAAEkACXSKAlW6XQGIzSAAJIAEkgASQABJAAkeMAFa6R8whqA4SQAJIAAkgASSABJBAlwhgpdslkNgMEkACSAAJIAEkgASQwBEjgJXuEXMIqoMEkAASQAJIAAkgASTQJQJY6XYJJDaDBJAAEkACSAAJIAEkcMQIYKV7xByC6iABJIAEkAASQAJIAAl0iQBWul0Cic0gASSABJAAEkACSAAJHDECWOkeMYegOkgACSABJIAEkAASQAJdIoCVbpdAYjNIAAkgASSABJAAEkACR4zAPyT8QwJIAAkgASSABJAAEkACPUHAUmljpdsTXkUjkAASQAJIAAkgASSABCQJK12MAiSABJAAEkACSAAJIIHeJICVbm/6Fa1CAkgACSABJIAEkAASwEoXYwAJIAEkgASQABJAAkigNwlgpdubfkWrkAASQAJIAAkgASSABLDSxRhAAkgACSABJIAEkAAS6E0CWOn2pl/RKiSABJAAEkACSAAJIIGPXOlW3y5OfuEnJ3jiC45Or4jH1SHV4pPxoTOEEF/w+szKttWManFh4jPNzIdripmw7Xvi8oMRv4+Qk/7hqeXyntqU+PPMiI8PPijqTW+vzFwP+gghp4fGnxSryg+gUD+mJ7c6gS8BnMWFKMf1af/44P0/KK7qnwsTnwf9Z/3+s0Njmu8kiDPo5V4h7gYZogSigyjB5CEfSbDwQCg7mvxufuSEFiosZkhiRddir/j4U56PLypZCWc6FEJO1pnb1Pty2eqSFXb2QlbA9ip6dmiFnZGdWAdFoAQIYZNtYlWSgCHaTmuvckfrbIamo5d04srD0aCP508Q/+cTC3+qOeF8xgQSAXYHPCCAEMBBGxZ6ddDfZb/d1/Pjn9Jaw/fJ2Nwfu8xs0K0GIMAZFnaWeoxlZIAGFthZ4J4GRZTNj1vplh5/SoYfbuzuSdK7xfHTZPz/1IKtRc+jLfjjfvD02MJWVZJ2Nx4M+WILppJ9b+P+Wd/ot8VdSapuLYz5fBP/qUoSbHv522FfdK74nrY0c3145jcKpJwbC35x/37MZ6h0xYWYb+jBmtrmaaUsA4VHG93+tesEvgRxLs995pv4r0Wh0uMLZPRJmUp31ybP+liIQpxhL1taO7ZfnSFLICVICFMCyYM+goUHgtXFZEOfe6W5z4MTPysnACovfT0cPOPTKl0w06EQkpysM7dp6N15s2tWGLrR7QWtAO1VD+/QCkPnps0OrAMjEBQae9JNtolVYIg2Ht/Rtot1UH6BmQhbZ2MIeAKChB5NEr8fJZ9MstkfenLkP5ujg6mLaU6JQPvV3QHuCZIBYxUUerTsb7Pb7srEmeDkf2hRU85PDMcXypIEu9WABDrDgs5SjzGPDKBfvAsNemibH7XS3Suv5ZdpVUf/qotf8sP/YiWFptxx+dy45/ff21C1FRdGyOjCjkH3anktv6bNzu4uxviRrCiBtu8VZy6oU4mG4yXxz6K4J63d9euVrrgwauhlY4opAAqNDfXidkfwIc57xfvnWuDvLY+TocdvFXBaiIKcQS/3CnAXyCAlUAhSgsnDPgIT5CAwu5hs6LKcG/XHF/WL2z/nhi9MLmdH1UoXzHQwhGzSn3ZladPQu/Nm16wwdKPbC1thP6p3aoWhc9NmJ9aBEQgKDV3pJoOxKkFDtOHwzjZdrAPzCxSC1oGGgBEICj2bJL5eXn6tXQS+vh88PbG2J7mZBuW+oUejO4ABAYQAxiooNHSEm3SG599jvusLmgtVJKBbdVxgzIBC5RjLyAD6xbtQ10Pf+qiVrq6GJO0sj6sTk0bpsdjeXbjOjzzRznR7a5Nn/MqN7xbtq+Jvj0fODM/9af6lafvu4igZmXkyOfKJ33eGLefQVi9IkrnS/eO+/8zkmvar+GSEv76wCwrNXfXct47gg5z31iZ8vuHrI8HThJwZGnukLDKh15HDX7PFIeLy+FlWCrtwtvHyMUbvChmiJIHCJgUDJZA86CNQ2GyymxuuJmud7a5MnB2e29K+7pXmvghO/ry7+71W6Wq/0M9mpoMhZGedc5vG9q3bB2CF0V7QCqMOTXuVeTgHMsajvG53ap3aviEC9R4hodFkMFa1w02TEZqw009X68D8AoVNFQzWgYaAEQgKm01639gtLd4O+m+v7Epupjn3aHQHvCcEAYxVUOjdor/HnsUHweDtucfxIf9pn//ziXltpaRqve5WAw7QL6AQHBlAv3gXGhRpbh6NSne3OBf1D01vWK4bmloe7Q1x/gt+NK/pTq+VfZP/a1G5OBPkOe6Ef+xJybREw2j79vxwHz/0YEXck6TtlYlzZDSnFdCWSvd/k75z94tapbubH+W/mBdBYYsivSXoCD7Iea84/9XETL64uydVtxbHz2rwtxbGzvC8z0d4MnSPLheRHDjbefl4Q/cAuZWSJEmgUJIkCyWQPOgjUHggbD2YzPotfzvi++eylvxS6duR4Fcru5IEVLrGTAdDyMY6pzZdbO++FSZ7QSuaKhntlRzJNA9pb6ND62gnlghU+gWFdEmJwcVgrGpqd7XS9WAdmF+gsNVk0BAwAkGhZrK3z+pinOc4jnx2nz2L42aaY48md9jt2QoBjFVQ6M2kv89ea1/5+NNj83SBdbX47Qg5e39DrWAsbjUgAf0CCsGRAfSLd6FBkebmEah03y1PXvCPfH1My1w6u98yp9tyE1zjvft2efKCbzSnLdKw2L6zMHJCnx8qfT1E4svNstg0jLZe38SgOd2Y9aaDpkjPfHYE35Gzgqb09RD/5WK1unH/nH/832Xqhd3i4y98I0/KEgjfQNTqZcNPx3PTDTJICRQa7LejpJIHfQQKDW12b9PNZKUnej/OP/lfLUe35kc+mVhhK5esla4l08EQAq1zaNPd2m5bYbEXtELRymLvvqyws7Mj6wyNgRFoFVpMNhzOFmSzUUITmoZoTdjpp5t1YH6BQoMGVuu0nw4j6arixrejvnP3N6pupoGJoKhqcQe4JwgBjFVQqDHBT4XAxpRff9y2ujx+cuix8aa07lYDMNAvoBAcGUC/eBcaFGlufuxKd3t5/FxwPK9Vfk29jtUGXXU01VynO29dp7tTXMyr71swDY6tttOVD8H7r1XjaaX7T5tKd2dhlIzMaxO+bITdkEDhsSLZgbKdwAc5V8XibyV9cu4Ru8wozgRPjq9oc+flfw3T8hfkbOflDkw6eoe4QAYpgUKQEkge9BEoPBhcLiYrnb59POQbX9EK3fK3I+Skz3ea/TvJczzxf/6Y3nhpzXQwhCDr3tq16c3qblohSZLZXtsBp8VeWzLerLDbqwPrJDACQSHkYgmMVU2/rla6bDGrw2kFzC9QCFoHGgJFYBUUaia7fVbLPy8sN+93V5fHSXCm6GaaQ4+WCAT3hCHgGdPNVza/i09GSGxRPTMqle5b2K16A6BfICE8vtElud7KG3Ag1fXQtz5upVuev+4fyR7vMpeyfD0T9I3Ov61Ke+LKVNAXZ2FRLa18v0JXKuwsjp30j+fZvODOxsxnJPiwKEmg7dWNe0FfbL70XpLElclzZPR7rZi1rF6QxMUvfcGpNXFPqv45P+obmqHvHwOFurN7c6sT+BBn5qax76mb6OqFM2QsLyq+Ux+rr5bmoyQ4XYQ5w17uFeQeIFspMSCg0JoLIHkJ8hEsPBjIziazPumqoc/Zs+QtKhjmdMFMB1MVNFlv2tCmLnTZ6poVtJ8We0ErQHt1NTuxQj/avNWBdWCegkLWldVkOFZVrbpb6Xo5rYD5BQo/VtIVp4Pks5kNeqOjWv5+zHdyjJ4dXRxnmwhWd4ADAvORFQJ8cgQD2Bxj+G17YdQ3dP9nUZKqpSybld+TYLc2ax7QL7BQ52sYGUC/eBfqbTa3PmqlS9dtGN9JyftuG95J2dTxGGxUS7mJ4dOEvhY49nhNefHC9vzIiZF59m5d8eeZsQs+coLnT/qHv1qg5a+d7dXiQmKIvrnupF97wXB57nOevueVU1jxRKEkrs1cDxLCkzPDE3lt7S8oPAYA96Ni+/DpqNvKWRL/+3jsEx9/gienh8a+Zkty2WsyRy/4fWf8/tP+4dsL6qtCIM6Al/dj1tE61h1yKyXx5xlQaM0FCSYP+ggWHggrF5NN92daFNBHbbtMh0LI2Tq9zZbu7AVdsoJ1oN7jNnbWaoWdvdpRHVmhHWz97MQ6ME9BIehiaJSwGaKt2rb73cU6u/w6Wkn3vrTw1bD/JH2fru/C2AwtmOj463zGtEsEIALBkRwaeaTWWKWzQ9BptF1H9fr+NNLOEXKC+D4dX1Bm6EG3Gmoe2IOQs5rwTCMD6Bfvwmaj2sZHrXQ1JfATCSABJIAEkAASQAJIAAl0nQBWul1Hig0iASSABJAAEkACSAAJHAkCWOkeCTegEkgACSABJIAEkAASQAJdJ4CVbteRYoNIAAkgASSABJAAEkACR4IAVrpHwg2oBBJAAkgACSABJIAEkEDXCWCl23Wk2CASQAJIAAkgASSABJDAkSCAle6RcAMqgQSQABJAAkgACSABJNB1Aljpdh0pNogEkAASQAJIAAkgASRwJAhgpXsk3IBKIAEkgASQABJAAkgACXSdAFa6VkJTiQAAIABJREFUXUeKDSIBJIAEkAASQAJIAAkcCQLWStfyHb8iASSABJAAEkACSAAJIIHeIPCP3jADrUACSAAJIAEkgASQABJAAhYCWOlagOBXJIAEkAASQAJIAAkggR4hgJVujzgSzUACSAAJIAEkgASQABKwEMBK1wIEvyIBJIAEkAASQAJIAAn0CAGsdHvEkWgGEkACSAAJIAEkgASQgIUAVroWIPgVCSABJIAEkAASQAJIoEcIYKXbI45EM5AAEkACSAAJIAEkgAQsBA670q2/zScvB0g/T4RQ7NF6xaLOsflaLz1LhP2EECF0I7O6Y9W7/m4pdVUz8+GqamajUpiOBgRCTgUi9wpiQ5b/ykX7Oa5P/0dur9K2dlYzN0ICIWQgnHhWqivNexda1emx727wW2PMjrMsV9YyUYEPTZeajEDf1bfyySuhwGAgMBiOW+K2UZq9xPO3llQ3NRs63htukCEgEKVK/poe3hwfShdlWQaFstyaIE2GhwHZ0WS7EAJ0trEOyl842MDRo4nCZaMTK9pWw+QO2F4WDAFCCPFHUj+ILlp7/bkj61oHBFl2OhOZrKOaAaME1KZXI2z3c7ROlqH8AoWgR0DhQSRdZfVRLCTwfD8JXEnmt5Rx0cU0IPftMk6hZ/YRSKaN06itR/6mP9Te5BKXaAEinI9nizVGAXSrgQ8wEsLRtV9nQQOpQQ9483Ar3cZmelCIzZdqslzfzscFIfnL8SwPiunQQDy/XZfl2uZ0WLiZN5fs5dlLJPJos0Zr2aXEAEn8RM0U5yPCtWzpAz0ocyOSeWW2vVHOXgkl12q0DrgphKfXVUoDWnHgVQh7unekzvBdY0znLIvP46Gr6fRNwVDpgr4rz14ksWfsbF1bTw0KikMVpOW5SMgv9Fql6wxZBoGAQjF7WUj+aok+UOiUIIcB2cVkgwnGEAKSGrQOTGqbYINGD0P3jpudWNG2GmZ3QPY2SpnzJPLNZk2Wa29mo0Ik+85RbY8/dmAdOCCAQk0Hs3XQKOF4uNZM+58u1oH5BQohj8igsPtJV3kRI+dTbPaHnhz5y1k6brqY5qQG5WjIOAWr2UcgBDDjQGH7nurtI2qrSX8o9QstasSXycitvCjLsFsNHMDyBhLu01kdevBwK926uP5ync5l0r/a0k0++tRcIhrAHeXNzQeBwINNVcNKPkpi+fcGfRvi+ssCrWjpX30pzke+E+VGKXNRqVkNexo2xeexwK0liqOSjxka3LzH+vIuNLTZk5su8N1iTOcsy5WtUqUhr08F9EoX9l0hQcKz6qlac6gCdysbuZgqPI31WKXrArkBAYGFpXSwJewbsNA2QQ4FsovJhlzSQwhMatA6MH/hYINGD0PvzpsdWQH1COoGxjxo71/ZSH98SRsDabh814Vp3U6sAwcEUAhaB44SDoc7u8fxVxfr4PwCMxHOLzATu550lTeFwhtlFlCW36RDA8n1huxmmueTI+gjkAyYcaDQ0Sl/wx9rP8SFG3nNhSoA0K06HJuREIiufTqrUw8ebqWrg6lXXs1G/ZHsli46Plu1/A0++kyr0RvrKX+A3ZOFLHhfSCiTsrWlGIlmnqWi5wOCPxR7uFpRK352VG01ORjJbrPtYjrgT61rv1aeRfkb+Zp3IaRFD8m8w4dizMhZg2KqdDUh/Wz6js2yR+bYMpJKITGolW6NcvZqKLVWq73osUrXFTK9sG4BAgkb60lBiNyIhgYI8Yfj37AFS6DQLkEOCbKryVpkGEMI1Bm0DsxfrUlzsBmkegQahE6bHVlhbBDs0ShsdQdoL610Y0va2XJ9SiB32LosY19tb+/TOmhAkM3CVus0JW1GCfPh2s4dfbpaB+UXODSBHgGFYAArc6j7H9lq5aU7ocCd1ZrsZpqdGgpHY8bBukFkwIwDhR15q4cPKk2HQneys7fCgQEhcCWZe2u++ay71cAA9CAoBCMW9It3oUERu82PUem+zYR4jusPxJ+VzQjtlDxq8kruKh97qY3idEpDSP0OKVkrZa8Fwg/pLTx5Jxfp48PTrMDdWU0GSey5VivThQ1RIVFQW/w9JQTTJa3Srb2M8VdzFe9CSJEeknmDbxNjJs4aFPgcZvSdLMvb+bif5wWB8CT8gC4skWW5PB8N3V2l92d7rdL1ABkCAlBqlHJ3k5mXpVpDrm8vJQZZ2INCmwQ5LMgeTGZON4UQqDNoHZi/WgTKlmBT5KCweQi80ZEVzabAHs1CwB2gvXSOh0Qerlcacu1NLj7A84lCs59ON/ZhHTggtAgB6zRdgVGi5XBt384+PVh3bJKuvnSL5ziOXE6zh1TcTAPzSKNoyji7UbeVDJhxoFDrCD8VAut3BX4gnqMLrOul+SgZTG+qhZrFrQZgoAdBIXgyBf3iXWhQxG7zY1S6TJfau0LqohB73oVbWna2HZi89QpVm+QzdvlXIXUxEJ1jZS6dIMxH+7VZW1kuz4XJrYIaP/SsEEj9qpX9rZcyN6E5XTuhUYce3PYGnxlujTELZw0OcA6z+K6+mQ4GEj+I1EO10uxVIfpMlLdz0fPJVbZqpecqXTfIIBBQqEFWPstzYT5ufXRPFYIJcniQ3UxWDLCEEKgzaDKY1MqelmBzEJpbhr51ZIVDjxbdPLij6WL63MnlADklhOOZ7N1QYGodUrgt2T6sY/1YBwSL0NE6YJSwHN6WKcDObtaB+QUKzY03PWIUH0bS1Sub8zEhmN6su5nmkEeWjAN9BEIAMw4UGrngtixv3guoT8bT1ZeFxKnwrPHeu+5WAyzQg6Bwn87q1IOHW+m+Ly291N+3AGagAd7R3aSrju411+nmrOt06QxuIREMJV4a6ni6yCGUfqMaRSvdhFbpvpsNC4lVrdCV3+djJJrTJnzZCLvZhvDoYuuOZi7wHWLMwllTx3oOa/Xd20zoVGJVm2UXv4vw8aV381FyShAG2L9TPMeTwJXZ5ky81vZx/XSBDAGpg8J6pfSqrN3+kMvfsAs8UAglyGFCdjFZ8aQlhCCd66B1YFKDA4Wd0FsodWKFXY8tiSCCMf8BcrFJ21r+pukWlunHdr50Yh04IEBC52AzjRLQ4c3xux2DTPu6WAfmFygEIxAUQgHszMGkMfClLq7lC8373fVCgoQyb9k6XYczJqSGytOccXAE/gmMz3Uw40AhYMXfWlR5FiU3tZVHSqX7Dnarjgn0ICgEIxb0i3ehroft1iFXukvxU4HESzY39n4zc5mEHulvd7LV8Qj+8CYTEmK5d3W5UVm9FxJusbCol1dfrLIFGWLuRiD61FDmUhPqmw9Cws1c+YMsV1ZTQRJ7oRazdH3CFfaAqmppZSkuhO7RG3/1rVxMCGfe0ufUPAuPIK+uquQM/71tjLVwVrUyncNkyHesTfZaDFmul3PXSOihKW57bk5Xlj1AtgIBKTFh/AVNebp6wU/iLysyKLRPEMVPBw7Z2WSmREsIQUkNWwfmLxRsYAR6T6BOrOhEDd0dsL3l3LWQ4vfKWio0kCgYn9n1bo5lzw6sY+pZTzqg0NCXbp0mNI0SbodrB7X56Wwd6/ToJ13pYYhczmxSd9fFF3HhVJyeHZ1Ns8/9lozTkeo+AsngGVNH1ebWTj4mhNNrFXq2e8pm5Rsy7Fa95oFGQtCt+3UWOJC6G3i4lS57MWH8okD6ef5UIHI3f0wX6tIIeJ6MDBD6WuCbs+vKIL6Ti/ZHczvKklzDO0T7eEF5GqNeyt8O05fUnQrQJ9I07wBz25X1zI0QITzxR5IvNUjehVrLPfrpCN8+xlo4i9krPH2ZMac4i6cPzdClRYDvKmuZ2MWA4A8EBgKRO3ntxRoqYH3M7R3i7pBbgYCUKr/Oxs8LfD9PBsLxOXWJMyiUbRJEgXrwkF1MpiuzW1dfQDrD1rXmLxhsoLCNuGrfCrBHUGhQw+gO0N7aq9lYkL5OV7gYz75qTusbmuhks33rbAaEylrG4UxksA4aJWza7MQg0zEu1sH5BQ1NoEdAYfeT7kM5fzcSOEXfpytcjGdowUSrXqczJv3d88lRI2bwEX3hcetwJLdmHJ0ygs6tWpv4qRCgPIOE9BPhUiKvzNCDbm3WPHYehNy6X2d15MHDrnQxkpAAEkACSAAJIAEkgASQwOEQwEr3cDhjL0gACSABJIAEkAASQAKHTQAr3cMmjv0hASSABJAAEkACSAAJHA4BrHQPhzP2ggSQABJAAkgACSABJHDYBLDSPWzi2B8SQAJIAAkgASSABJDA4RDASvdwOGMvSAAJIAEkgASQABJAAodNACvdwyaO/SEBJIAEkAASQAJIAAkcDgGsdA+HM/aCBJAAEkACSAAJIAEkcNgEsNI9bOLYHxJAAkgACSABJIAEkMDhEMBK93A4Yy9IAAkgASSABJAAEkACh03gHxL+IQEkgASQABJAAkgACSCBniBgKaWx0u0Jr6IRSAAJIAEkgASQABJAApKElS5GARJAAkgACSABJIAEkEBvEsBKtzf9ilYhASSABJAAEkACSAAJYKWLMYAEkAASQAJIAAkgASTQmwSw0u1Nv6JVSAAJIAEkgASQABJAAljpYgwgASSABJAAEkACSAAJ9CYBrHR7069oFRJAAkgACSABJIAEkMDRqHT3io8/5fn4YvW4OqRafDI+dIYQ4gten1nZtppRfbs4+YWfnOCJLzg6vSKy36vFhYnPNOHDNUUoSZL488yIjw8+KOqt7InLD0b8PkJO+oenlst77JftlZnrQR8h5PTQ+JOiig4U6g315JYbfJAzhLT658LE535CCDkzPPnvsgoL3BN0KD086D/r958dGjM4tCegu0GGbGc8rUAgobgQ5bg+7R8fvP+HygzIhcOLcEeT382PnNAUZpqTxIokQYbAe0oAB5s9pX2Z3CUrJAker8DsAPIIItOFxOiedWBGQ0Kp1WQ7x+3XQEfrJCiE2hDaeqTbSSeuPBwN+nj+BPF/PrHwp3KmcjENgCxJbZxGwZTxLtyv43rt+N3X8+Of0lrD98nY3B+7zDzQrZrhYEaAQkkCfQ0Pevvw4JGodEtfDwfP+I5xpfvH/eDpsYWtqiTtbjwY8sUWmmUr83zp8adk+OHG7p4kvVscP03G/68q7W3cP+sb/ba4K0nVrYUxn2/iP3QIKOfGgl/cvx/zGSvd8rfDvuhc8T1tfub68MxvVXpOjfmGHqyph59WigNQqAVfr346w7fj3Ip0rzjzCRl+tLErSbuvH4/4hufeUmQQfMihUunxBTL6hNXHu2uTZ33Uyz3z5wwZth0EAgrLc5/5Jv5rhQXlwiFGuIvJBm33SnOfByd+3pUk2BB9V31PkIO+o6TvuT+Tu2XFfvPIjYzB9DY2u2WdZJPRreM2PCAYVNYdZxB2tuliHRhC3oWwR7qedOL3o+STSTb7Q0+O/GdzdIh0Mc3zqAuHJZgy3oWdeat3j9pdmTgTnPwPLWrK+Ynh+EJZkmC3ggzAjDAIoTOsd2eBewJ6HIFK98+54QuTy9nR41vpbtzz++9tqHTFhREyurBjYL1XXssv0zqV/lUXv+SH/1WWquW1/Jo6OyvtLsb4kSyNJPHPorgnrd3165XuXnHmgj7LpbYrLowaetmYYgqAQvWAnv1wgQ9yBpG+mxs+MbaouWn5n2ToX2UJ3BN06N7yOBl6zIpj3cu9Qt0FMmh7G8Li/XMtEQ7mwiFGuIvJBs+Wc6P++CLN3j3YkOa+hj1dokXfc38md82KfecR6OImmc42umYdnNHQuA0OCAbtdccZhJ1tuljXRn5BwWYTq8AJaH8RKL5eXn6tzAJK0uv7wdMTa3uSm2nQKQ/0ERiWoMLehZ15q3eP2v33mO/6guZC1U7QrSADMCN0IZhQ3p0F7gnp8bEr3b3S3BfByZ93d78/vpXu7sJ1fuSJNo27tzZ5xt+8/WplvrM8rs6/Nn+pir89HjkzPPdnU2KudHcXR8nIzJPJkU/8vjNs8cMevSb2n5lcU5YxSJL4ZIS/vrALCvVWe3LLO3wDZxAprXRHF7WEXrvrI7dXJHBPI0jdofTicvhrtoxEXB4/C5RuxuOO1bYrZNB2z8K9tQmfb/j6SPA0IWeGxh7pK3kkyZwLhxfhriZrDtxdmTg7PLfFvjoaIhn3ZPdkbKPFuOe+TD4AK6SO8siZjMayzc+DsE6S9Iw2qNMUOg8IRscZju5o09U6z/kFBpujR0xTLfuKQIPpu6XF20H/7ZVdyc00Z8gS6CNDWIIKexcaVMZNSZKKD4LB23OP40P+0z7/5xPz2kpJFY7uVogWmBFGIehr784C94QU+ciVbunbkeBXK/R+8TGudMX5L/jRvFYi0Wtl3+T/INi7xbmof2ia3h9X/4ozQZ7jTvjHnpSMt7pNA832/HAfP/RgRdyTpO2ViXNkNCdK/5v0nbtf1Crd3fwo/8W8CAq1rnr00xt8C2cQKb24JMPTa+KetPt6fuw0z/9zWQL3bKK0OHRrYewMz/t8hCdD9+jCkl758wAZtN2jcK84/9XETL64uydVtxbHz7II19iZcuHwItyDyUzD8rcjvn8uq752NMS0pyRJIJzWNvdlcret6DiPHMlorm73s9vWSZJkyWhFI6PQcUCwurhdg0z7e7AODCGPQkePdDvpqotxnuM48tl99pCKm2mOkAEfWcISTBnvQpMX8Iu09pWPPz02TxdYV4vfjpCz9zfUYsXiVoAVmBEmIehr784C9wQU+bj/N+Ct+ZFPJlbYjf7jXOm2XqFC83nvlicv+Ee+NpS5mj923y5PXvCN5rRHoCzzWDsLIye0SSNJKn09ROLL1dZLmRg0pxuz3nTQ+uyZT2/wmbk6ZxCp8jDHZ35y0jf05czcV0H/3TXJZk/ansWh1Y375/zj/y7TQWC3+PgL34iyZrcXSLtBBm33LjQjKn09xH+pP5xqOumCYW8+vEvf3ExWuqFXR/7J/xqvUvX+TYZY9gThgG3uy+RuW8E07CSPdCp0y0TG/FM737ptnSWjFVUsQocBweLidiyB9nWzDgwh70JzlxaPHEjSVcWNb0d95+5vVN1Mc4BscYfBCj0swZTxLjS0iZuSJG1M+dnjtgxGdXn85NBjw/1nSXdrCy0wIyxC0NfenQXu2aKIJH3USrf87Qg56fOdZv9O8hxP/J8/bs5TQtoeURlddTTVXKc7b12nK0nS9vL4ueB4Xq9lpZ3iYl6/S+s00NDlEMH7r1XbaaX7z+XqzsIoGZnXVkywgWlDAoVHlFnX1HKBD3IGkZo02l2IsZlFuz1bHVqcCZ4cX9Fm2cv/GjaWa6a2j+EXF8ig7d6FVbH4W6k5BV56xK7lNEqmk+4hRriLyYp6bx8P+cZXmoWugyGWPUE4YJv7M7lrVuwzjxzIaI7u4LNr1oFDNCi0GxAkSbK4uAN7zIe4WAeGkHeho0e6l3TV8s8Ly8373dXlcRKcKbJ1ug5nTDvIraMuGJZgyngXmr2A38QnIySmLetTKt23sFutrMCMsAhBX3t3FrinVQ/6/SOvXmiqdJzndCXp9UzQNzr/tirtiStTQV+chUW1tPL9CluUUJ6/7h/JGspcutJoceykfzzPpgB3NmY+I8GH+mvFTAONVN24F/TF5kvvJUlcmTxHRr8XJUlc/NIXnKK32qt/zo/6hmbo0aCwybhHN5zhw5xBpKX5aHDse+oR8efJ4OnxZXq3AdzT1qHsAXxJqpbmoyQ4rTv02KP3ANlqOyPvXaiQp6sXzpCxvHYNZ7m/cZgR7mwy8yhdNfQ5e5ZccTAzGTQE3NMKB2xznyZ3y4p95pE9mX2lRresk6CMhoXggECNsLp4X4axg52tazO/rMHm6BHzCWhfp5XidJB8NrPBxtLy92O+k2P07OhsWpujbstpFFTYu3D/nuutFrYXRn1D938W6Ykty2bl9yTYrXrNQwmAGdEiBBPKu7PAPQH+WOkCUNoXVUu5ieHThL4vN/Z4TXnxwvb8yImR+W2JrfU0vnqT991eUd6bO3bBR07w/En/8FcLSk089zlPXyzKKfvz9KEoWm4VFxJD9HV2J/3N1/FK4trM9SAhPDkzPJHXlvmCwvbtOVZHOMJn7ydu4Qwj3f3t8eg5+jpd34Wxud+0ScZW+HRpEezQ0Qt+3xm//7R/+PaC9raNY8XSVll3yK22iz/PeBX+9/HYJz7+BE9OD419rSxxLsO5cHgR7mIyeBdeBAyhTC03bZT0b4UD7glnuq2nLD90zQrx55n95JEdGYu6bX7tknVgRoNCu9EYcnGbtrTu7mJdG/kFZiIQqweQdO9LC18N+0/S9+n6LozN0IKJQnQ6Y4KQbdwBhyU4SngXtrri7y2hkXaOkBPE9+n4gjJDD7q1WfMwXK2DHjy+tZ5h6fjoubwB92zx11GpdFsUQwESQAJIAAkgASSABJAAEtgXAax094UPD0YCSAAJIAEkgASQABI4sgSw0j2yrkHFkAASQAJIAAkgASSABPZFACvdfeHDg5EAEkACSAAJIAEkgASOLAGsdI+sa1AxJIAEkAASQAJIAAkggX0RwEp3X/jwYCSABJAAEkACSAAJIIEjSwAr3SPrGlQMCSABJIAEkAASQAJIYF8EsNLdFz48GAkgASSABJAAEkACSODIEsBK98i6BhVDAkgACSABJIAEkAAS2BcBrHT3hQ8PRgJIAAkgASSABJAAEjiyBKyVruU7fkUCSAAJIAEkgASQABJAAr1B4B+9YQZagQSQABJAAkgACSABJIAELASw0rUAwa9IAAkgASSABJAAEkACPUIAK90ecSSagQSQABJAAkgACSABJGAhgJWuBQh+RQJIAAkgASSABJAAEugRAljp9ogj0QwkgASQABJAAkgACSABCwGsdC1A8CsSQAJIAAkgASSABJBAjxDASrdHHIlmIAEkgASQABJAAkgACVgIHHKlW8lf47g+7R8fShct+hyXr/XSs0TYTwgRQjcyqzuA2pW1TFTgQ9Ml/bdGpTAdDQiEnApE7hXEhv6L3CjNXuL5W0t1RbazmrkREgghA+HEs1LbQkPDvbjpDp9a7Yr0r1y0XwtFFpPk9qosO4aouc3623zycoD080QIxR6tV3qKtQvk+lY+eSUUGAwEBsNxzXZQqFLxgg4Ke9ZmgBBC/JHUD+JBMnY0uY1osQkhW+usGGVZBkYPr5Z3YIXWtNlHsBqQFdCeNhC0rjr97Jp1Tslr5AD7XXY6vFPbZNnROlkG8wsUqioYDZFtdIYcur+kq6w+ioUEnu8ngSvJ/JZy+nI0zQayDOkmg6dRUAgeDgo7d1lvHll7k0tcogWIcD6eLdaYkaBbDeZ7dkH93VLqqnbefLiqnjdBv3gXGhQBNw+50hWzl4Xkr6Amx0pYTIcG4vntuizXNqfDws28pcoRn8dDV9Ppm4Kx0hXnI8K1bOkDPShzI5J5pVawsiyX5yIhv6BVupX8TSE8vV6T5fp2Pj6gXA94Fx4rkh0o6wZfadIDUkPfjXL2Sii5VpNlpxA1tdnYTA8KsfmS6iZBSP6iO9TQ9PHcdIFcnr1IYs9Y3VlbTw0KiZ/qsgwKVfM9oIMivFHKnCeRbzZrslx7MxsVItl3B8bTxWRDvy7RAoYQZJ0NMXD0MHTvuNmJFWqDJh/JMqQGaAW4JwjBUXMvP3bLOsfktXDQ9Wr63fFwff92t1ysA/MLFKodmwyBdYYcur+kq7yIkfMpNvtDT4785SwdJlxMM5BqQpYh3WQZPI1CQvBwUGjoHTdlWa6tJv2h1C+0qBFfJiO38qIsw2414PLsgvLsJRJ5tFlryPJfS4kBws4doF+8Cw162GwebqXbKKWDx3ceV0e4+SAQeLCpfq/koySWf6//Smc4tkqVhrw+FdAr3UYpc9HG9q1s5GKq8DSmVrqVfMzQ4OY91pd3oUmRHvziCp/a7AWpgY34PBa4tUQz2yFELW3WxfWX69rEfG3pJh99arneMXRw3DZdIDcKCRKeVYvO+lKcj3wnyqBQMdwLOjDC/8pG+uNLH5RW6rTX7w5qWtfFZIMHXaIFDCHQOhtiwOhh6N15sxMrlBYtPgIHMdAKcE8QgrPqHn7tmnUOydvCoamX7neHw5t7t7/hYh0YLaBQ6dpiCKgz6ND9JV3lTaHwRpkFlOU36dBAcr0hu5hmYKVDBnUDT6OgEDwcFBp6x01a6P4QF27kNReqSEC36ri8u6Ahrr8s0Pk++qedO0C/eBfqethuHXKlu54UhMiNaGiAEH84/s0xveFby9/go8+0sqaxnvIHwGUYpkq3thQj0cyzVPR8QPCHYg9XK8rqhUY5ezWUWqvVXmiVbjEd8KfWtbUNlWdR/ka+5l1o6+ve+MEDfI9Imzxqq8nBSHabfW/YhGhrm83D5Xrl1WzUH8lu6aJjvuUKmV5tR+bYuppKITGo33ZoEcqyR3RghNOTbmxJG3TXpwRyZ/Vg2LqarHXrGi1gCIHWsVkrgBjryjR6aJ27fXZkBb3AaxmFtJ5MasBWqLua9gQhaG12+tl962RL8tpzoBNdzVFCN6CLue9q3XFLulp56U4ocGe1JruapgE1QgaDDTyNgkLwcFCodY6fCoHSdCh0Jzt7KxwYEAJXkrm35nuVulsNwLy7wHCQ/L6QUG5Zg37xLjS2abN9yJVuKXc3mXlZqjXk+vZSYpDEnmv1oo1+R1JcyV3lYy+10y+dvRBSvwOamob+nVykjw9PswJ3ZzUZVG0vz0dDd1fpzdlmpft7SgimS1qlW3sZ46/mKt6FgCK9JHKH7xWpRkWcjwqJgurOBhyiQJvK4W8zIZ7j+gPxZ2XzeKC1fiw/3SHL2/m4n+cFgfAk/ICutKF/kNArOjDC6VQBiTxcrzTk2ptcfIDnE4WDIerBZNaxe7SAIQRaZ0NMMdA0eni1uSMrZNnWR7L5xpSdFUw9k8IgBK9W2O3XbetakteBg8nvioIth9vp7U3uwToov45k0tWXbvEcx5HLabZZUxLNAAAgAElEQVQM04NpjJEJMhhs4GkUFIKHg0Jv7vn77LV+V+AH4jm6wLpemo+SwfSmem6zuNWAxLsLmgfVStlrgfBDujJNBv3iXdhs037jcCtdsx7luTAf157BMv90tL+1XqHCyxJMQ//7fLRfmzikC3PD5Fahvp2Lnk+uspUPeqXbeilzE5rTtRMebXb71s4Nvnekiiq0lgqkfoXLVDVEwTYNltTeFVIXhdjzg7qxbujqcDbdINc308FA4geRUquVZq8K0WeiDAq9owPDXnkK53KAnBLC8Uz2bigwtX4wCNxMVnr1Ei1m/dQQAq0DiWmHm0YPTej22ZEVjj4yqQFaoelk2lMTKp9dGuq7bx2N32byOnCw97t+uNnk9r+5WQdGCyh0MISppets41D6RNr+k65e2ZyPCcH0Zt3NNAWWBTKoG3gaBYXg4aCwfVf19hGb9wLs4WxmZb2QOBWeNd6u1N1qwODdBcpBfxVS/6+d839pI+se//Ov+MPCQAsXKjOgmJTSpLTWXZqmhWbDVhq6EuhKoLiVYpFikUoJxV1c6X4kdElTltTFx8cHHt+WZ80Duz4uLeZDSwQhQmEWhATkneDCBPxh3tyZzMydyZkvptFoeqQ0Nyd37j3ndc65czJzM5f90VmlzFW2cVvvY9uVN8168Ggr3Vq58KaoXQuVi98r1R6D66Q06a6jh/o+3XTjPl3VENPSTzc5BCff1U2klW5ieTsVJd2C0Kv86+a6OOK/PlMoZWMkmtYudiuDbMi7noUnBWKzejrDF70jVRXYnhkQEqt6oQuFqI2bCosLxvabFp3Lm4XS6uOcIcubyWB3YlW77SD+GKZfWSHhAdCBEW6yq5q9fYh3gVxM9hwtNSiEaqB1EDE9Ek2rh4mD05smrIBTRnOuSQ3QCk0dU08Qgtaz6deWWVcCkheOVZWDZZXYBQ7XHXdY1oHRAglhQyCT4bA0GXDQpKuJueyyfr+bbq0PJjeVfbquZ0wrZOiUB51Ga6AQjFVQaLIX38jlF1FyW9sypla627BbDVjeXSDL8s5yIhBMLDAXhkC/eBcaeti2jrbS3V2Md/vjr+ilILp7wUfiC1pBZ6vhsfzgXTIoxNLbNXm/vPowKNxRwqJWXH21yt7DNi39cm3jUVC4nS7+Jcvl1fEAib0y2W5c05XLi3Eh+JDesa1tpWPCQHKT/sjNs/BYEmuhUt7g06s1+oYQmB7ViW4Oua78OljV0C1EjTGVnokF5brm7kbyKgk+ZZ4o10J72zKUM2TFduVRFbJcK6a/IsEnBRkUMsq7oQMjvJj+KqiuGOXceLA3sWz+6Scz/Ec3nU1WhvcULXAIQdY5EjOvHp6ta8IKZmzDR5rQrAZkBdgThqB1bfq1VdYp6jkkr4UD6HeHw5u0z9k6MFpAITO9YQhsMujQj0q6wpMguZrcoHlaE1/Fhe44PTs6m6YobIUML9rgaRQUgqaBQoYXNmklmo0JA5O5Ml3cf1Kuyu/LsFuNmse7C8T0LX/0J6bMpcxBv3gXurvtaCtdWS7/NhO/KHCnOdI7EJ/Vtve563ncetSKP4+Gewl9kurtmTX17LuTjp6OpumzdcW56xx9bHCX+rhWrv4zmlohe3eAPqSu209/kWa2yViSqN/XkreChHDEFx5d0Ipn70LzyB33zhm+Ya47UmUbiWULjXOIsmOWc8n4ZYGc5rhuf/h+VvOTocBJbrlALueSsct+wef39/rD32bV39KCQh2COzoowqtvZmIB+jhd4XJ87o1+Q0gftYUNF5OVpwFaN1yB0QIKwaSGiNmsHl4NbcYKfWzGRzZqAD6Ce8IQ9JmabLTKOvrEYofkZThQRRvv2Dgf3qRxsot1ULRQQxozUVeANQTWGXCo/FFJ91cxez/s76bP0xUux5O0YKJVr+MZk/ZohAymjAyeRkEhZBo8ps4LGwoBGlQBQk4T4YtEVr1CD7rVqHnonl6gvGl0Ad3Ryz7GnhPUHxk39jxQIeTmuKOudN30wc+RABJAAkgACSABJIAEkEBrCGCl2xqOOAoSQAJIAAkgASSABJDAcSOAle5x8wjqgwSQABJAAkgACSABJNAaAljptoYjjoIEkAASQAJIAAkgASRw3AhgpXvcPIL6IAEkgASQABJAAkgACbSGAFa6reGIoyABJIAEkAASQAJIAAkcNwJY6R43j6A+SAAJIAEkgASQABJAAq0hgJVuazjiKEgACSABJIAEkAASQALHjQBWusfNI6gPEkACSAAJIAEkgASQQGsIYKXbGo44ChJAAkgACSABJIAEkMBxI/A3Cf+QABJAAkgACSABJIAEkEBHELCU2ljpdoRX0QgkgASQABJAAkgACSABScJKF6MACSABJIAEkAASQAJIoDMJYKXbmX5Fq5AAEkACSAAJIAEkgASw0sUYQAJIAAkgASSABJAAEuhMAljpdqZf0SokgASQABJAAkgACSABrHQxBpAAEkACSAAJIAEkgAQ6kwBWup3pV7QKCSABJIAEkAASQAJIoN2V7p649Cji4wk54ws9WCrunWSP7BXn70d8ZxRb7s9DtpTWnw35ODLyWjezUSKJr6ciPBd4lNc6iZloV9dn2j8uMPGH8smHlambAZ4Q0tM//DxfUXuDQm2gDn2t5J8P9/cRQvjAzamVDzZW7uWnP+e4+LwKqpLPjFzxkVMc4QODT3IiPQjkDAolCeIMjWmjzMkTu0CuvM+MXAv4zvp8Z/uH6jwlUFg33ewOyWYdaMgFya7nIRB1NHk7FTmlpaSSmySxIoFCSeXgI4SQvtDYL0Wq6kf39Gzvwa3Qh7b4CIp5mjbW9Qr2kRIMZgj6RM03mrDOJqMBQzz3tPFm82bVj3S0rh5Xxz/pxJUngwGe404R37WRzHttAXZetKEFAQwhcNUFheCiDQs/2nMdNkDpbWr4c1pr8BeGZv8oKdaBbmXsBj0InHbhkynsF3AJAoWMImqzzZVu8VmIj87mdyWptD51MzT1e71ga9DzBAgKP4T4G4otu/nZG3zoh4JZ6dLS3UDo3tTweV6rdBslUjE9FLgxMRHjmUq3OHuFH/nVPJgkZmJ8/6NcSZIqW5mhHrX8BYWWAzvu7R8TgZ6hzFaFxtCjfj6WUcpWq5mF70KBPr5e6e6tT5zlB5/l6/R4fuRfFUkCOYNCiDM8plWNk/reBXJh+hIZfK7UcKXc2Fl++J8VSQKFdQAmd0gSuA5AuQD3PBSqLiYzc+4VZq8FRl6rJwBNrgv38lMXSOjpekmSSm+nI3xodlPro7420dM8gNO7j7DC7CMo5iVwvYJ85ArByQb7z5qxDsxo0BDvPRkNdW8ysiabLtaB+QUK6/ObHQq5ybtDPZskvhwkF8aUCxB0feauzNJlwsU0SDcwhMBVFxTiGdOzy6wdSysjfYGxf9HzajE7EopnipIEu5U5EljSP9Yv4BIEChk9tGZbK929/NQl7QqlptCJfS1Mf06UEzy1oPLPYfL5tLnULRXyxcpeYfqSUek2SCTxfV7ck3L3fUalu5efON9AScwMksHMTp3W+gOf7+G6BApPLFCPiq8/VGxXe4uZCIPFGOH9bOjS2NLcYL3SrRRz2Zx20b00H+Mic6IEcgaFIGdwTEODk91ygby3NEz6p+sFXGX+ay70Q1EChSoGizts1gEwF45sxXAxmfFnMT3oi89bvl8Zwu3Z0Kmh+V31gMrSN6T/B+UrgTZCMz21Y11fm7fC4iMw5iV4vQJ85AbB1RCwQzPWgRltYwiw8II9GeUMbzLC5pou1oH5BQrV6S0OPaqkE98uLb3VvgS+nQj0jOT2JDfToMIADCFw1QWFYACDwua81blHlX4Z4m9mNBfW7QTdajAAo+sj/QI6CxQaehittla6pflBEpl6Pha54OP7AoOPV8STu3thb2X4TP/0e43s++n+M8MrgDlspat2bpRYKt3cCM+HbkYCPYT09Q89VW61/zHh6xvLaeOLzyPczUwJFGoadehrKXOTizzXyoy93Fifr767Qzd4rzB7IzD2ulR6qVW6+kdSRfx9OtIXmn0vSXsQZ1DowpkZ05joRLdcIdMv1qHvlC004tLwWeMOQ4NQkhrd4bgOmL71OfZsKWJXk7XZSisjZ0OzW9pb9ZUV0jP04Lx2osjd58ndFaN3cz2N451bzVrR6CPHmHf3kTMEZyNsP23KOjCjtSlMhnjvqR0usd7UhU02XK07aUlXKszfDfjurpQkN9PANHcJIXDVZYRgAIPCJv3VsYflHwUCd2en4/2+Ht53bSSl7ZSsG2y4lSEAetD4vCm/gM4ChcZERqutle6HVOgzrv+RUuB+WBk5TwbTWsliaHhCWpX5oVOh2W1N2y3lQg6wF6Oxrm2UWCrdfOreyFQ2X9qTKlvzw2cVSv8Z489P5LVKt5Qd5G6kRFCoadShr2LqBjeY1eoIesGGH/uPydbCs0jg3gq9d2ypdPNTAa6r65Rv6HmBOmoP4gwKHThbxjQpcnLfuEOWtjJDfRzH84Qj/Q/pphr6BwkBdziuA6biw7FnS/l6MFmZr/gswn+zpMVfXQWTkF7eIKHHOXFPKr1NDfVw3DdLuqpN9tSPd2k0aQXgI4eYl8zrFegjRwguRth+3JR1YEZrU5iCzXtP7XCTNzVhs68erIPy61gmXWU+znV1dZErEyv0DO9m2kFDCFx1LUIwgEFhsw7r1ONy93iuZyhFN1hX8s8i5OzEer2wsbiVAQB6UP28ab+AzgKFjCJ6s62V7k4mcsq4HFL4rp/El4DiUFf2ODcO75qu2erCd/3c1/OVxq8yMeiabsx608E8WAe8a7w8YN7psZWKXBhZUbZ5WCtdxfrS5tLYJX4wbbqhLElSnbOZkBN8pqfdmEyXk9V0g1xZnzjvG/6lSJO3lJ++wUeeFyVQCLrDcR0wFR+OPVvK1M1kdTJawPnGfjUvWg1C+kuaKz5yhu//emr2XsB3P1dX9SN6ejO2KStAH4ELjqaEFx/ZQtAGOfhrU9aZp7GkucmQg/Zs8KZ5gIO+c7MOzC9QCDrUMZVMHBx7HsCqirj+bJA/P7FecTPNZkbnEAJXXUMIBjAoPIBJn0TX9Qc++nNb9a+yZLp3TXdq6m5laNh4UO/RjF9AZ4FCfRqm0dZKl95rDky8ratDK91vTmylS3/PRIb/rn3Z+fsQUbfeM6yVZuMV3EaJ+RpJRcz/XtAvGhWeKt8HdjKDJJLSroArC9O6BAqtCnTae7rl68F63SoxZdmnW3wWIWd4vkf5d4br4ojv2nRezM9n1ect0OPqZzuQMygEOe9AY3YKbGfIUn4qwOzVKf4Qol/GIOEm6I7/dVoHTCfdI1wxXExWPbs53c8Pr5gLXQkU1iOhlIkxd65a09MpyJqwwiZloAVHm/mAPjJD0AZp4rUJ6yQwo7W5TYZ476ke7uRNbYKDvLpYB+XX8Uu6SvF1Zkm/311ZGiaBqbyyT9d+0Zbc01wLIXDVhYVQAIMr+UF89Cn0FZ9HSEzbfqVWupuwWw0aoAc/0i+gs0ChoYfRamulK1XWHwb4WKqwK0niyth5MvhSq90MDU9Mi/7Y8Nq08hPr9akrfGROuUy4ncv8nf7GX/trrGsbJeZKd2d+6Ixv6CW9YEZ3L/SRoawoSeL813zgAb0lWnmfGuT7p+hDyUChNnOnvr6dCvCDqc2KtCeuPAjwcSUnK4WVlyvKpgTDbOOaroJ0OKtcg9xZn7pCAk/yEsgZFIKcwTGNyU94yxmyYnv94QOVQipKAo/rPK1CBoPhDsd1wFR8OPZkxm5F09lkZQa6a+ia8ltyZsIGYSEVDaj5K74eC/QML2k/JP2Insx8zs1mrVBHZXzktLZ48JEtBGf1XT5twjo4o+vzmAzx3lM5usGbLrq7f+xs3QlJuvzjALkytU5jvlJ8OcSfGaILtLNpcJpDIaRAAFdyqxBctGGhu2c+rR4fMoN8/8RrUZIqhTnlqvyeBLvVOO1CpR3oLNgF4GrjXQj4p72VLt34kUn00we1nfHRX6QBGp4c0V5x6UHEd4bjzvgiD5fUX9dVfhniLkzRDbWl+SH1AZxd6mM4ucFU2ip5+f9nr3H00blaH/XHK+Kv00MXeO4UR3r6h77TNkGKuambAUI40hcayWpFHSg8OQib0rRSSI+Eegh9NG5sOqeWER9SkVORlPnZusxpmz4EdOgST05RZ4XuZVR8IGdQKEGcwTGbsugYHuQCWXw9NXjJx/f5fD2+0N0MfW6g8oDSRqFuG+sOaB0ogrkA9dSHbG3DxWTjboB5WssNcbqh4/fpwfP0cbr8paHZ342vvR/T0zynw7smrVBHNPkIiPkD+MgOgoPqHj5qxjooo2FDvPe0CwYPJjh0cbHuZCTdbiFzL0RPi6do/E/RgolWvS6LNlQYgCEErrqgEFy0YaGDTz7Jj2iknSfkFOE/H86oV+hBt7KnXciDH+sXYAmSPHqw3ZXuJxk3aDQSQAJIAAkgASSABJDAERDASvcIIOMUSAAJIAEkgASQABJAAm0ggJVuG6DjlEgACSABJIAEkAASQAJHQAAr3SOAjFMgASSABJAAEkACSAAJtIEAVrptgI5TIgEkgASQABJAAkgACRwBAax0jwAyToEEkAASQAJIAAkgASTQBgJY6bYBOk6JBJAAEkACSAAJIAEkcAQEsNI9Asg4BRJAAkgACSABJIAEkEAbCGCl2wboOCUSQAJIAAkgASSABJDAERDASvcIIOMUSAAJIAEkgASQABJAAm0gYK10Le/xLRJAAkgACSABJIAEkAAS6AwCf+sMM9AKJIAEkAASQAJIAAkgASRgIYCVrgUIvkUCSAAJIAEkgASQABLoEAJY6XaII9EMJIAEkAASQAJIAAkgAQsBrHQtQPAtEkACSAAJIAEkgASQQIcQwEq3QxyJZiABJIAEkAASQAJIAAlYCGClawGCb5EAEkACSAAJIAEkgAQ6hABWuh3iSDQDCSABJIAEkAASQAJIwELgaCvdP9PR011dnxn/yN1Vi0In5G2t8CIx4COECMFbydWdBq13VpO3ggIhpHcg8aJQk2XZ3vZyLhkVuODjgjFK4+GyLHsXGgN1ZMsNvmr0fmHmC467s0jhy3JtKzt63U8IIb7w+D9EtUttMzt61U9Oc0QIxp6uldWe24vjX2rCJ6uq8NOD7wJZ4Rn0n/P7zw3EdXQUcoPQM88a1BN0nOq+Vv/vaDKcv+XsV8Zq1sUFJ/OMUmwEwoerYWklJu+Xlx9H/QIh3f7ww2VxnxnTvdmEFTKYCLIsNy5Ndj2pXqy9up6gUP/0wI0WWefkDusqAXKoK36U1tUXMWu0wJkIpRK4iB1C0pVXn8aCAsedJv7ro9mt+gLscsaEYh4MNlBh0LQDCA8chx1+QPVdOvEFrV+Ei/G5fFWxFnSrxgFOKGh5hHsepLwBCyFNEbvXo610WS32i3PXg6M5FSL7wUlo5yeDvfHsh5osVzceDwi3s/V6qK57OXtbGHi8VpXl2odsvNd8/qOnBMN28ed48MvJydsCU+mCh3sXngSAH6OjC/z60MXZcNAn1Cvd/ULyIgl/v1GV5eq7magQntuW5f2NyXNCLFWou0kQRv9dk+XizBck/HSjui/Lfy4meknif2qy/OnBd4FcnLlMYi+ULwzVtfFzgkLJRuiVJ0QedNzHBI/DsS4mM0ca+SvOXRVGf2M+YpqmCGTkTPqDxGQxFRa+miv8RVeX5K1w8o1aK7BD2LebsAJOBBlYmmx6qtqA9oJCe+3dPmmddcZMujdtgg3goB18tNaB0WIjbF/SlV/FyMVx5eoPPTlyV+foMuHmOCDm4WCDVokDrM/gSq65E19VAtXVUV9w/N+0qBEXRsN3sqIsw24FiekJJTstj/RQoyfoF+9CUA+TsG2VrvhzzH9n0VwgmjQ7zm82Hvn9jzbqGpazURLL7jL6lrMxRrLxkOms9GJtL28Vyvvy2gO/UemCh3sXMop0ZNMFvmrz1lz48vjyT7F6pfvnXPh0fPEv9bPacoIM/CjKNXFtYU27YFZdvM1FfyrL++LawjItMuhfbTHOhX8U5U8PvgvkfYpwZttMCRZ65gmSBx2nTtvq/11MZqYz8ne/MBlo+B6r9rREIHw4iLGQvGwzJjOIXbMZK8BEkGVgabLpSZUB7QWFdqp7kLfQOn02w5s2wQZwUA8+Yuvg/AJDqJ1JV363vPxOu4D1bjLYO7q2L7s4bh+KeTDYwFXC+/oM9tRDARsKgeo/4sKtrObCOhTQrSAwI6EclkflSKMn6BfvQlAPs7BNlW51dfRceO6DWZcT866avcVFX2hV+v7auM9vumuZn/T7xte0e47lF1GOjRvIdlOlCx7uXXhiMDanqBt89Zvil8HxXLX6iq10Y4ta7q49EMi37LaZWvnNTNQXntsyq7S7nFCvx39y8F0h02/b4VllW055OXFOrcxAIYPUmSfTUdZ70uLDwXHsMR/ZdjVZG5/N3/21UUEI34oGewnxDcS/r2+AodcqLBGoHS2zhyvXoqwYq4sxEk2+GI9e9Au+YOzJallbSfQx7BtNWWEMBySCaWmy6wnaCwqNEZpotd46kzscg83KoQ3WgfkFChm2eiqBixjTsfVJVy0ufhv0f7tald0c5xLzQFhSxZ1NA+0FhSwEbMty4XEw+O3czJ0Bf6/gvz6a3jTfUzLcCsFi1ze75VE9ju0J+sW7EFLEImtPpSumokJiWSs8LCod/7fl9JdcbEFTn35xEcb/y6j933EhMFnQzk/VhRj3ZVqri2XQdtMyCh7uXcgo0olNN/iyXExFg/dX6UYFvdKl1wxI+MlaeV+uvkvHezkusVyHs5kMcl1dp/3xF0VTQlcLc1/5B57QDQ/yJwffHbL8IRv3cZwgEI4MPKIbdegfKFQ/cuWpdpNlme3p4Di9f2saHkxWJjLl734hfX80uVCo7su1D4uJcyT2M010IAI1JU2Hg8R20uHPuIHHSoG7szoaqI+pDeD82pQV6pA2iWBammx6gvaCQmft3T5tvXUmdzgGm4VDe6wD8wsUqijZVAIXMZ0429ORg36EY6O2eIfr6uoiVyeVHzq4Oc4h5m3C0rRKgKZ5Fzpa8gl+uHZf4HrjabrBulZIRcm5yY36qdHiVoCNJaHA5VE9zNTTu7PAnoAiVlE7Kl2aSP7x30x1hVWvY/2+8Ruq+W5j43eR29q9ABvbTcsoeLh34bFG9/HKucH/kI5eHF1VNpMYla76Y46rftItDMSTc/eD/gdrrCrV7eXxy0Ls5/ov1eQ/l8cv+6OzSpmrbDKzXqS/na2CHmEHPcFtN8i1jcmAP/EPkeZwtTDzpRB9IcqgUIXghSfY081xrWPsZrI6k03+qh8WZwe4+GLNJgJpH8vhILHdbPS0cb+rODtA7ix7Xis/1gprIsjmjVUMbqMnaC8oZA5vqtlq6yzucAw20xLdFuvAaAGFKty2J12tvJGKCYHJjZqb49xi3gg276aB6zMobCoWO/igjYd+41EBteVE98AMe7fTcGsDg4aEYnvUl0dVZOkJ+sW7kJ3Gpt2OSnd7ZkBIrHpevG00b6eY7jp6qO/TTVv36e5mYySqX8VVlkits43tpmUUPNy7sJ1gjmJuZ/hiKkq6BaFX+dfNdXHEf31Gv76u6FfN3lauk+0WFhe0282ybOThznIiEEwsaFUvvU0GORQUHgWAo5jDGbK8mQx2J1a1uxbij2Fa4YFC+swQbzzBniZbNceZhC1742KyOo8lf2vlwpuidnNHLn5Pq9Jthwi0HA4So7uhgpPv6nbRSjfhvdJVNkQ6LE2gFXaJoHQ2L01AyoD2/vr/XNOwbuCBXprxkYN1FneYVLEGG8vBwyJjGsvjGxfrwGgBhWAq2a1XjelpUtfKwfQh8KYm5rLL+v1u+puIYHLTLSzBmLdzXKPCoGnehYAVn7So/CJKbmt7/dRKdxt2qxWTJaGg5bFe91l6encW2NOqB/C+DZUuvZt/Xfk9JqDPCRG9SwaFWHq7Ju+XVx8GhTtKWNSKq69WlVvg5cW4EHxI75XXttIxYSC5WbfLznZ2GZVl8HDvwhPCsGk1XeAb4zLXdIvpr4LxV/QaZDk3HuxNLO/K8u5ivNufWFAuTO5uJK+S4NOCLIvpW/7oT0yZS8f79OA7Q1bQ1R+cUiumvyLBJwWVp1V4AJ4gechxhodb2nI2WZnKmr8KBzWu6O4FH4kv6NuU6AFMBCpvLUsfiFGubTwKCrfTxb9kubw6HiCxV6YxXWxu1oqGRKjPY1qa4JQxNLLYq34ACo1jDtRqqXVWb8pOwWbiwOh8dNaB0QIK25p0hSdBcjW5Qe+q1cRXcaE7Ts+OLo6DYh4ONnCV8L4+gz0Zd2KTfk3KxoSByVxZlmvFn5Sr8vsy7Faj5qHgrAmleBBcHq09D3CGbdKDbah0jYtnJziqasWfR8O9hD6I9fbMmvrghZ109HQ0rT5bt7yWvBUkhCO+8OiCsQG0wXZx7jpHHzDcpT6Vk6v/Ugo83LvwBIP1orobfG0M9iRUfTMTC9DH6QqX43Nv6pfhyrlk/LJATnNctz98P0v9RHeMMU9I/YwT1N+ufXLwXSCXc8nYZb/g8/t7/eFvs+rTKgChd542PUHHaR5u7auLyXQDrro/gZm2/NtM/KLAneZI70B8VtuvrHVgIxA+HMIo1wrZuwP0aZbdfvqLNG00b69NWdGYCDK8NAEpw6hlsVf9BBQyBx2o2Srr6KSN3oSCDeagK32U1gH5pTzz2JqJNqkkNy5iNj0hDrrFbo2/itn7YX83fZ6ucDmepAUTrXpdzphQzAPBZqMwYBq9QAGdhUGhm02f2uc00gKEnCbCF4mseoUedCtb80AJZbc8NqbeAZzVlAfbUOl+akGD9iIBJIAEkAASQAJIAAm0hQBWum3BjpMiASSABJAAEkACSAAJHDoBrHQPHTFOgASQABJAAl+/3MoAABqNSURBVEgACSABJNAWAljptgU7TooEkAASQAJIAAkgASRw6ASw0j10xDgBEkACSAAJIAEkgASQQFsIYKXbFuw4KRJAAkgACSABJIAEkMChE8BK99AR4wRIAAkgASSABJAAEkACbSGAlW5bsOOkSAAJIAEkgASQABJAAodOACvdQ0eMEyABJIAEkAASQAJIAAm0hQBWum3BjpMiASSABJAAEkACSAAJHDqBv0n4hwSQABJAAkgACSABJIAEOoKApXbGSrcjvIpGIAEkgASQABJAAkgACUgSVroYBUgACSABJIAEkAASQAKdSQAr3c70K1qFBJAAEkACSAAJIAEkgJUuxgASQAJIAAkgASSABJBAZxLASrcz/YpWIQEkgASQABJAAkgACWClizGABJAAEkACSAAJIAEk0JkEsNLtTL+iVUgACSABJIAEkAASQAJtrnQr7zMj1wK+sz7f2f6hJznxpDqkkn8+3N9HCOEDN6dWPjSY8WFl6maAJ4T09A8/z1fYz/fy059zXHy+LtwTlx5FfDwhZ3yhB0vFPUmSxEy0q+sz7R8XmPhDOR4cExSy03Vg2xm+DT2Vgxk+GI32Qh8hhPSFxn4p6lDF11MRngs8yuuSTmk4Q5bsKVmyG3ZHZXN+7IaPnOIIHxh8vKKsA1DP7VTklJYISkaQxMqhEXY02VkTNq7seoKpCgqBNcG70c1YUclnRq5o7tCWZcXFQMxTVVh7JcmrN70bYduzGevqg5l1lkDyaldzT8g6Nf5t4Ngq7/qBo3XSSUk6ceXJYIDnuFPEd20k81490bmYJkExDywydskFHQ672MHvrv75ZDqU3qaGP6f1C39haPaPkmI36FaGCOgC9XNzQtESp/G8CfrFu5BRRG22t9ItTF8ig8+VQqGUGzvLD//TVAQ2aHtcBX9MBHqGMlsVSSqtP+rnYxlzyS5mYnz/o1xJkipbmaEerVRVrCl8Fwr08XqlW3wW4qOz+V060tTN0NTvFUkqzl7hR3612A6OCQotB3bcWxf4IL06BDN8MBoh4V5+6gIJPV0vSVLp7XSED81u0gGL6aHAjYmJGN+Bla4LZIiSBApBdxSmPyehJ+ulPUnanh/uIco6APZkonevMHstMPJaXXYZeauaLiYz0zRoYo4rsCeYqqBQgtYEZkznZhNW7K1PnOUHn+Xr6xXPj/yrItnEvDq52d6mvOlshd2nTVinDWXWGSbv1TpHONqEB391sQ7ML1AIplJTbmoIdVerxJeD5MKYcvWHnhy5K7P0fO9iGhjzoGnM/IxuUMqALgaFzJjYlCSptDLSFxj7Fy1qitmRUDxTlCTYrQwuyAX1j82pB543Qb94FzJ6aM22Vrp7S8Okf1qpEiSpMv81F/rBuDymaXgCXtcf+nwP1+uKipkIGczsMGqLmUFGsv6A6fx+NnRpbGlusF7p7uWnLpnqYDrKXn7ifIMQHBMUMop0ZNMFPkhPBWGFD0UjGKLbs6FTQ/O76iiVpW9IvxK34vu8uCfl7vs6r9J1g+wZHeiOvWIuu0S/3dE/bR0Ae6pdlP+L6UFffN78lZL5+KObLiYz41s1scQV2BNMVVAIrgnMmM7NZqyoFHPZnHI3iZ7l5mNcZE6UbGKezm6xtylvOlth92kz1qljWXQGyYM9Qesc4Nip7kHuYh24NMFC6AwCGnIISSe+XVp6q30dfTsR6BnJ7UlupoHnQWiRYTAaaQimDOhiUMiMiU26BPwyxN/MaC6sIwHdauACXaB+bEk9SQLOm6BfvAsNPYxWWytdiRbpoe+Uu/ni0vDZhnrO0PM4t0qZm1zkuXbO3cuN9fnqGwxUrf+Y8PWN5eg+BPonPo9watzsFWZvBMZel0ovtUq3ND9IIlPPxyIXfHyfcht3T5L2ciM8H7oZCfQQ0tc/9FTZ4wGOCQrr03bqixt8kB79/tAAH45GKETpiW1wXkv93H2e3DXuoXdipesG2Ts6O3fo4bmzNKze9HDuWVoZORua3dIPa3nD1WRtRosmQFxBPcFUBYXgmqAN6fbarBX1cSvi79ORvtDse0mpdKGYd7BXkiSP3nQzw+bzZq1r1BkkD68SjC66dY4LAnPAgZqu1kFLE5iJzqnk3U2WUD+QNbRiKszfDfjurpQkN9PgmAft1ZRgdQMPB10MCrUh8VUlkH8UCNydnY73+3p437WRlHn3JeNWBhjoAseEMp03Qb94FzKK6M32VrqStJUZ6uM4nicc6X9I7++fwD8xdYMbzGq606/F/Nh/GDv+M8afn8hrlW4pO8jdSImSVHgWCdxboXfA9Ur3Qyr0Gdf/aEXck6QPKyPnyWBalPbyqXsjU9l8aU+qbM0Pn1WE4JigkFGkE5tu8EF6IHzJJhobQ5R+YSWhxzlxTyq9TQ31cNw3SzpbU8bq0pPdcIN8EHRAMOtwSvnZqK//Md0WAoe91rP4LMJ/s6SlnCZt5asHk5XpLJoASa1pZeoJpiooBNcEbUy31yatoMPmpwJcV9cp39DzAt1SZhPzDvZKnr3pZoXd501aB+gMkrdbJVR1zNY5LAh22rvJPVjXuDSBmWizBtYVMBvikJ6mAHbT3vx5ZT7OdXV1kSsTyh58N9PsYh60V5nJpBt4OOhiUGhWHd/l7vFcz1CKbrCu5J9FyNmJ9fomU4tbGVSgCxwTynTeBP3iXcgoojfbWulW1ifO+4Z/KVJupfz0DT6i7tnVtTsZjcZvqOaL043fRWKZ0lYqcmFkRdnkYFS6O5nIKeNKVeG7fhJfsuxcLnzXz309XwHHBIUng2HTWrrBNw9cpwfCB6MRFKq/BbniI2f4/q+nZu8FfPdz+jymjNWlJ7vhBhmkBArNHOruUIXbS2OXfJHvlDLX3E2SJFNPWnX5xn61ZEbDMR8lcDNZHdyiCRhXYE8wVUGhhzXB3tCmrGCGK20ujV3iB9N0Uxn9PZAl5h3s9e5NZroDNpuyDtQZJA/2VFVssA6Ac0BjGrq7WQfmFyg0D21KpQZD2L6mnpZQZ/t5bFfE9WeD/PmJ9YqbaWDMO5hm0Q08HHQxKPRozifTbf2Bz/jhb2Vp+Ez/9HvGeMOtjBB0gUNCSeZdf6BfvAsZRfRmWyvd/FTgzPCKdrGz+EOI1nC6aienQXcdPdD36aas+3R3MoMkQq/iKn9KJbRefBYhZ3i+R/l3huviiO/adP5/c2N9gYm39Z600v1mqVIR878X9MtXhadK+QuNKYHC+mAd++ICH6K3CcJ/C0Wje4iWMjHlKrsGuBMrXWVfnUOEg5RAIeQOmvIflobPB4azzDZ9u56SJG1O9/PDK4e8UrjElepusyZwUqvrm7knnKpg/tLdUA1rghZsrq9NWCHt5OezxmNwTOVOfb56zNvaeyBvutpg36EJ62Cd6RZAb0s0vdvWEKsmDa0LgunDg7xxsQ7ML1Bol0qNhtj1bD7pKsXXmSX9fndlaZgEpvJu6wkY86BpKk9LcoGHg8kFCg/io0+hr/g8QmLaZj210t2E3WrQgFwAn3a18s903gT94l1o6GG02lrp7swPnfHVfz1dKaSiJPD4ZD6e6e1UgB9MbVakPXHlQYCPK2FRKay8XFHu/InzX/OBB/Rmd+V9apDvnzJbaVzTlSrrDwN8LFXYlSRxZew8GXwpSgqloZf0yjfdvdBHhrKiJIFjgkLD2Z3ZcoYP0zNIGPDBaASFUiEVDageEV+PBXqGl5gfIJoy1pjnhLc8QLYmMogOdkcxddMXmWPKXLp3kC4ODWFPMdL9P9eUX3AfKlRnk5WpHTQx4gruCaYqKITWBO+GN2GFQn44q9xq21mfukICT/KSY8xTp+hbsKSDedO7KUDPJqxjRmF0BskbXZmekHVucIyBDtRyts4+v8BMbEglyJBDSLr84wC5MrVOV8hK8eUQf2aInh2dTbM/D1pNU3g2pCGYMqCLQeGBnPQJdP6QGeT7J16LklQpzClX5fck2K1GzQO6wGDFJFRdaD5vgn7xLjQm0lttrXSV56gNXvLxfT5fjy90N6P9/lpX76Q0KoX0SKiH0MeBxqZzat3zIRU5FUmpz9YVc1M3A4RwpC80klWqX8Yyk9cr+Uyinz657oxPe7CoJP46PXSB505xpKd/6DttNzM4Jihk5urEpgt8mJ4GgoUvvp5qjEZQWPp9evA8fZwuf2lo9nf1gntx9hpHH3vcpT7wlWN/pqbNdnJf3SB7Rge4g27qYp+Sy/HKL/yAngo/6CrjYYB1Mdm6p8KsAhtXcE8wVUEhtCaYZ3N414wV4uupoUs8OcVxZ3yhexl1wYJi3pjXsPeA3jSGaKbVjHX6PIbO9JfC3pZoG+uc4egzHrDhYh24NMHCxjOIjSGtT7rdQuZeyHeGPk+XvzQ0RQsmWvW6nDGhmAdNg5MLOhx2saPfD+ivju1OyZ8n5BThPx/OqFfoQbeyNQ/oAo0Qk3o2503QL96F2kT6a5srXV0PbCABJIAEkAASQAJIAAkggdYSwEq3tTxxNCSABJAAEkACSAAJIIHjQgAr3ePiCdQDCSABJIAEkAASQAJIoLUEsNJtLU8cDQkgASSABJAAEkACSOC4EMBK97h4AvVAAkgACSABJIAEkAASaC0BrHRbyxNHQwJIAAkgASSABJAAEjguBLDSPS6eQD2QABJAAkgACSABJIAEWksAK93W8sTRkAASQAJIAAkgASSABI4LAax0j4snUA8kgASQABJAAkgACSCB1hLASre1PHE0JIAEkAASQAJIAAkggeNCwFrpWt7jWySABJAAEkACSAAJIAEk0BkE/tYZZqAVSAAJIAEkgASQABJAAkjAQgArXQsQfIsEkAASQAJIAAkgASTQIQSw0u0QR6IZSAAJIAEkgASQABJAAhYCWOlagOBbJIAEkAASQAJIAAkggQ4hgJVuhzgSzUACSAAJIAEkgASQABKwEMBK1wIE3yIBJIAEkAASQAJIAAl0CAGsdDvEkWgGEkACSAAJIAEkgASQgIXAUVe6ta3s6HU/IYT4wuP/EC3anJy3tcKLxICPECIEbyVXdxoU31lN3goKhJDegcSLQo39fL8w8wXH3VnUheVcMipwwceFeq8/09HTXV2fGf/I3VX6ETgmKGSn68C2M/xy9isDXRcXnMxTBErgBf3n/P5zA/Gna2UWi6tH9M6Wnp0M3xkyzBOCbOOO7cXxL/3kNEeEYOzJat0dIM/98vLjqF8gpNsffrgs7uvOaHnD0WS7rFS1MAdGDbQO7GmzHlrXhAPY2jIrZFm2qmEDobaZHb2qebOeXLDfD2AH3LUZ6yD11AA2n4lA60ChLINjwiofQOponc0idvySrrz6NBYUOO408V8fzW6pJzpn0+BoAfMIFgIRiGfMA0SepWv1XTrxBa1fhIvxuXxV+RR0q3EcWNpBwSnL4JIOLv7ehYYicOtoK939QvIiCX+/UZXl6ruZqBCe24bVOu7S/GSwN579UJPl6sbjAeF21lQ5yeXsbWHg8VpVlmsfsvHeerGlGlWcDQd9gl7pij/Hg19OTt4WjEqXNX6/OHc9OJqryvCYThOxw3RU2wW+OHdVGP3NYnFx5jKJvVC+WVXXxs8Jif/Rv2jI3j1i7tnR8F0ggzxBoY07viDhpxvVfVn+czHRSxR3wDzFVFj4aq7wF0215K1w8o3hOIuPP/ati8nM8EZW1oXmwCjOANZBPW3WQ5c1gVEEaLbMCtlFDR3C/sbkOSGWKtSXO0EY/XdNlkG/A/oeTNSEdaB6NuQNZXTrDJEs60JwTLZnc20X68D8AoUgfDAsW5905VcxcnFcufpDT47c1Tm67LqY5l1hyArYHaBpoLA5b3XuUdXVUV9w/N+0qBEXRsN3sqIsw27VGcAJBQanDC3poF+8C3U9bBtHW+n+ORc+HV/8S9WmtpwgAz+eyMu6G4/8/kcbdajlbJTEsrsM4nI2xkg2HjKdt+bCl8eXf4rplW55q1Del9ce+MFKV/w55r+zSCMOHBMUMop0ZNMF/n5hMmD6akEh7NNYm6l/raotxrmwHnjePWLp2dHw3SBDPEHIsDvEtYVlWrzSP80dIM/9QvJygzfV41r9v4vJzHRGVqpCS2DsQ9aBPW3WQ+c1gVEEaLbMCll2VsOAUBPXFta0a+3Vxdtc9KeyDPod0PdgomasA9WzIa9rY1ini2TZEIJjMj2ba7pYB+cXmIngGgiF5SEkXfnd8vI79SqgLL+bDPaOru3LbqZ5VhhMLtAdoGmgsDlvde5R1X/EhVtZzYV1O0G3GgzAhIIjFlrSQb94Fxp62LaOvtKNLWoI1x4I5Fvlvrytesfzg2r2Fhd9oV3G3V8b9/nVW+R1dfOTft/4mnabtfwiyqlxs1+c+zI4nqtWXxmVrnoIXOlWV0fPhec+KF3AMUHh8WTWMq3c4O+vjQpC+FY02EuIbyD+vbpRgX47DM8q20jKy4lzWvHk3SONPTsZvhtk5Q5DA08IMuwOJhp2lxPqTQ+QZ3UxRqLJF+PRi37Bp+xz0NKKGaIlTVeTtVnYrKRfomyTmh6gWwf2pKcH2/UQXhM0LWxeW28FrIYFQl2bWvnNTNQXntuSZVe/2xjgKG7Wukb1HMnLoHWgUGZMdlTdw4eu1kH5BWaiK3w9LA816arFxW+D/m9Xq7Kbad4VZjnqVhhCxh2gaaDQOBxblEDhcTD47dzMnQF/r+C/PpreNN9GM9zK4IITCopYcEkH/eJdyChi1zzaSpdeoSHhJ2vlfbn6Lh3v5bjEsp1mx1heTn/JxRa0gp1evRDG/8vo+99xITBZ0E7J1YUY92W6LMvFVDR4f5Xu3PBW6YqpqJBYrk8DjgkKGUU6sekGf7+Qvj+aXChU9+Xah8XEORL7WflO8iEb93GcIBCODDyiG0vkg3gE8F0nw3eDLMsyxBMQ2rlDDc1qYe4r/8ATup1JBnnupMOfcQOPV8v7dNfdaEDzZusj24PJyqSmrHQMIZm1DuzpuB7CJaaL4a23AlTDAoEqtZkMcl1dp/3xF0V6YnT2u4sVdh83aR2onsOZCLBOlgGhxWQ7rb3KPVh3YpKutniH6+rqIlcnlT34bqY5R4s5j+o4G4UWd4DrCSj06qBPpd/afYHrjafpButaIRUl5yY36rWuxa0MELulrDFiwSUd9It3IaOIXfNoK111T/1VP+kWBuLJuftB/4M1O82OsbzxG6p2jVBVuvG7yO1s9UM6enF0Vdnk4KnSpaHjH/9N+zoFjgkKjzG4VqjmBt88R3F2gIsv1mobkwF/4h8ipVktzHwpRF+IsnePgD07Gb4bZJAnKATdoQr/XB6/7I/OKmWuspPPeifkdra6m42e1m5ryHJxdoDcWdZSwjz0x75zM1kd35KVYGCA1tn0pL/YsFkPwRLTzcpWWyFDG6ssEBidqtvL45eF2M/WPWn1NGR6NtVsyjpmJlY9W/KgdaBQGZkdk5mqiaabdWB+gULz5Cb4R5l0tfJGKiYEJjdqbqZ5V1jtabGCOdxwB7g+g0LmcGzKsrzx0F//ETzdXLac6B6Y2WLAGG5lhGBpBwYnuKSDfvEuNCkCvznqSpfRopq9fXhXaJh5DqFJdx091Pfppq37dHezMRKlV3GVP+WMtSGmoqRbEHqVf91cF0f812f0677AWW17ZkBIrOpndWhMGRQegr3HakgX+LVy4U1Ru94uF79XaqPNZLA7sapdZRd/DHPxxW3PHoF9VwK8fKxAfYwyLpAhnjVQCLqDPkhkOREIJhaYkggMZro1KDj5rm4KrXQTh1TpKlsJHZJaVcGclXBg0MvPVutsexpOsq6HwJpgdLZtuTjuQFYonQE1zBDk3cLigvEwE+27JZSGtlp7/aAJ62D1TBOayVusU3tahKDJpjGbeeNiHZhfoLCdSVcTc9ll/X43/TFOMLnpllzeFYaXDigCwfUEFDbjq04+pvwiSm5rm0zVSncbdqsNBS2hwOAEl3TQL96FNnqw4iOudIvpr4LxV/TSWjk3HuxNLLM/5GL1Oubtd8mgEEtv1+T98urDoHBHCYtacfXVqnLrrrwYF4IP6SaN2lY6JgwkN032eLmmS/c8XFd+tVo/FBwTFJrm6sA3zvB3F+PdfjXG6O4FH4kvlGVFqDzCQpZrxfRXJPhEe6abAsiLR1SSTM+Ohu8BspUnCBl0hyymb/mjPzFlLoUL8qxtPAoKt9PFv2S5vDoeILFX2jfIlke2s8lqnFiz0lCCCQzQOrCn03oIlJjGGPatlllRn6JRDevSpLg4saDcMNndSF4lwacFNeOsaWivtddPmrAOVE+2JW+1TtHMKoTH9GqEbT9n65RJj3/SFZ4EydXkBj2z18RXcaE7Ts+OHkxriBYwjyAh7A5wPQGFtg75RD/YycaEgclcmZ4sf1Kuyu/LsFuNmgdKKDBiZXBJB/3iXejuqCOudOXqm5lYgD5OV7gcn3ujX3pzV/SY9agVfx4N9xL6ONDbM2tqvb6Tjp6OptVn65bXkreChHDEFx5dUKpfxgD2pDh3naOPzu1SHwHL6T/RM91yUo8FxwSFzFyd2HSBX/5tJn5R4E5zpHcgPlvfklvOJWOX/YLP7+/1h7/Naj/8r+Px4hG1K9NTljsZvhtkiCcIGXAH3arFPPP4M05Qf5kK8qwVsncH6KMdu/3Gk3cPJaxdTKYbu9XNMNDsRmDYWacdZfSUwfVQtFsTtAGcX1tkhWyrRiOEci4ZvyyQ0xzX7Q/fz6rrHeB3Z8U9fdqMdaB6dmeiRutAv4NjerLAqZOLdXB+gZnYuAbahWXLk+6vYvZ+2N9Nn6crXI4nacFEq17nMyYQLaDCoFB58HNjBMLrM2ivk1M+xc9opAUIOU2ELxJZ9Qo96Fam5gETCoxYGVzSQb94F7p56agrXTd98HMkgASQABJAAkgACSABJNAaAljptoYjjoIEkAASQAJIAAkgASRw3AhgpXvcPIL6IAEkgASQABJAAkgACbSGAFa6reGIoyABJIAEkAASQAJIAAkcNwJY6R43j6A+SAAJIAEkgASQABJAAq0hgJVuazjiKEgACSABJIAEkAASQALHjQBWusfNI6gPEkACSAAJIAEkgASQQGsI/B+09QNU6XKflAAAAABJRU5ErkJggg==)"
   ]
  }
 ],
 "metadata": {
  "accelerator": "GPU",
  "colab": {
   "collapsed_sections": [],
   "name": "bert_base_uncased_mitmovies.ipynb",
   "provenance": [],
   "toc_visible": true
  },
  "kernelspec": {
   "display_name": "Python 3",
   "language": "python",
   "name": "python3"
  },
  "language_info": {
   "codemirror_mode": {
    "name": "ipython",
    "version": 3
   },
   "file_extension": ".py",
   "mimetype": "text/x-python",
   "name": "python",
   "nbconvert_exporter": "python",
   "pygments_lexer": "ipython3",
   "version": "3.8.3"
  },
  "widgets": {
   "application/vnd.jupyter.widget-state+json": {
    "01a6ac7c19ff49bc950c7763cbd9f439": {
     "model_module": "@jupyter-widgets/base",
     "model_name": "LayoutModel",
     "state": {
      "_model_module": "@jupyter-widgets/base",
      "_model_module_version": "1.2.0",
      "_model_name": "LayoutModel",
      "_view_count": null,
      "_view_module": "@jupyter-widgets/base",
      "_view_module_version": "1.2.0",
      "_view_name": "LayoutView",
      "align_content": null,
      "align_items": null,
      "align_self": null,
      "border": null,
      "bottom": null,
      "display": null,
      "flex": null,
      "flex_flow": null,
      "grid_area": null,
      "grid_auto_columns": null,
      "grid_auto_flow": null,
      "grid_auto_rows": null,
      "grid_column": null,
      "grid_gap": null,
      "grid_row": null,
      "grid_template_areas": null,
      "grid_template_columns": null,
      "grid_template_rows": null,
      "height": null,
      "justify_content": null,
      "justify_items": null,
      "left": null,
      "margin": null,
      "max_height": null,
      "max_width": null,
      "min_height": null,
      "min_width": null,
      "object_fit": null,
      "object_position": null,
      "order": null,
      "overflow": null,
      "overflow_x": null,
      "overflow_y": null,
      "padding": null,
      "right": null,
      "top": null,
      "visibility": null,
      "width": null
     }
    },
    "09b54a240b2e4e598d4eb4e88350dc49": {
     "model_module": "@jupyter-widgets/controls",
     "model_name": "ProgressStyleModel",
     "state": {
      "_model_module": "@jupyter-widgets/controls",
      "_model_module_version": "1.5.0",
      "_model_name": "ProgressStyleModel",
      "_view_count": null,
      "_view_module": "@jupyter-widgets/base",
      "_view_module_version": "1.2.0",
      "_view_name": "StyleView",
      "bar_color": null,
      "description_width": "initial"
     }
    },
    "14ab0b5cec0e424bbac3a798f645f5b4": {
     "model_module": "@jupyter-widgets/controls",
     "model_name": "DescriptionStyleModel",
     "state": {
      "_model_module": "@jupyter-widgets/controls",
      "_model_module_version": "1.5.0",
      "_model_name": "DescriptionStyleModel",
      "_view_count": null,
      "_view_module": "@jupyter-widgets/base",
      "_view_module_version": "1.2.0",
      "_view_name": "StyleView",
      "description_width": ""
     }
    },
    "1727aecebd47459aa1f3dbf2b08b1315": {
     "model_module": "@jupyter-widgets/controls",
     "model_name": "HTMLModel",
     "state": {
      "_dom_classes": [],
      "_model_module": "@jupyter-widgets/controls",
      "_model_module_version": "1.5.0",
      "_model_name": "HTMLModel",
      "_view_count": null,
      "_view_module": "@jupyter-widgets/controls",
      "_view_module_version": "1.5.0",
      "_view_name": "HTMLView",
      "description": "",
      "description_tooltip": null,
      "layout": "IPY_MODEL_ea59ddb1d6cb4586b1a541dbefe30de4",
      "placeholder": "​",
      "style": "IPY_MODEL_14ab0b5cec0e424bbac3a798f645f5b4",
      "value": " 1.34G/1.34G [00:31&lt;00:00, 42.3MB/s]"
     }
    },
    "1f5ee329ee5f4e11b283042d001eeb14": {
     "model_module": "@jupyter-widgets/controls",
     "model_name": "FloatProgressModel",
     "state": {
      "_dom_classes": [],
      "_model_module": "@jupyter-widgets/controls",
      "_model_module_version": "1.5.0",
      "_model_name": "FloatProgressModel",
      "_view_count": null,
      "_view_module": "@jupyter-widgets/controls",
      "_view_module_version": "1.5.0",
      "_view_name": "ProgressView",
      "bar_style": "success",
      "description": "Downloading: 100%",
      "description_tooltip": null,
      "layout": "IPY_MODEL_70d41386df024897a6f279c29a8c8317",
      "max": 434,
      "min": 0,
      "orientation": "horizontal",
      "style": "IPY_MODEL_f3a561e146f6426a8fd0eaf1e1c61a10",
      "value": 434
     }
    },
    "25153b0ffaa64958bfc20ec19f9af908": {
     "model_module": "@jupyter-widgets/controls",
     "model_name": "HBoxModel",
     "state": {
      "_dom_classes": [],
      "_model_module": "@jupyter-widgets/controls",
      "_model_module_version": "1.5.0",
      "_model_name": "HBoxModel",
      "_view_count": null,
      "_view_module": "@jupyter-widgets/controls",
      "_view_module_version": "1.5.0",
      "_view_name": "HBoxView",
      "box_style": "",
      "children": [
       "IPY_MODEL_26d7914d34404ec0b08521c4c14a90ea",
       "IPY_MODEL_a1064c23dbe646669ec6c17aa950b03d"
      ],
      "layout": "IPY_MODEL_c16f5f521d9f4af2bfa468540451d494"
     }
    },
    "26d7914d34404ec0b08521c4c14a90ea": {
     "model_module": "@jupyter-widgets/controls",
     "model_name": "FloatProgressModel",
     "state": {
      "_dom_classes": [],
      "_model_module": "@jupyter-widgets/controls",
      "_model_module_version": "1.5.0",
      "_model_name": "FloatProgressModel",
      "_view_count": null,
      "_view_module": "@jupyter-widgets/controls",
      "_view_module_version": "1.5.0",
      "_view_name": "ProgressView",
      "bar_style": "success",
      "description": "Downloading: 100%",
      "description_tooltip": null,
      "layout": "IPY_MODEL_aba416b8147c4c1faeaab5b2ff5c5b5a",
      "max": 466062,
      "min": 0,
      "orientation": "horizontal",
      "style": "IPY_MODEL_722b68c2690244f7a606faaf49176384",
      "value": 466062
     }
    },
    "416bfa015ffa4008bdf3462333d74723": {
     "model_module": "@jupyter-widgets/controls",
     "model_name": "ProgressStyleModel",
     "state": {
      "_model_module": "@jupyter-widgets/controls",
      "_model_module_version": "1.5.0",
      "_model_name": "ProgressStyleModel",
      "_view_count": null,
      "_view_module": "@jupyter-widgets/base",
      "_view_module_version": "1.2.0",
      "_view_name": "StyleView",
      "bar_color": null,
      "description_width": "initial"
     }
    },
    "4b9dd14c85514aed9dbfd33eb467a7b6": {
     "model_module": "@jupyter-widgets/base",
     "model_name": "LayoutModel",
     "state": {
      "_model_module": "@jupyter-widgets/base",
      "_model_module_version": "1.2.0",
      "_model_name": "LayoutModel",
      "_view_count": null,
      "_view_module": "@jupyter-widgets/base",
      "_view_module_version": "1.2.0",
      "_view_name": "LayoutView",
      "align_content": null,
      "align_items": null,
      "align_self": null,
      "border": null,
      "bottom": null,
      "display": null,
      "flex": null,
      "flex_flow": null,
      "grid_area": null,
      "grid_auto_columns": null,
      "grid_auto_flow": null,
      "grid_auto_rows": null,
      "grid_column": null,
      "grid_gap": null,
      "grid_row": null,
      "grid_template_areas": null,
      "grid_template_columns": null,
      "grid_template_rows": null,
      "height": null,
      "justify_content": null,
      "justify_items": null,
      "left": null,
      "margin": null,
      "max_height": null,
      "max_width": null,
      "min_height": null,
      "min_width": null,
      "object_fit": null,
      "object_position": null,
      "order": null,
      "overflow": null,
      "overflow_x": null,
      "overflow_y": null,
      "padding": null,
      "right": null,
      "top": null,
      "visibility": null,
      "width": null
     }
    },
    "4dee539d7f2a439594a77c4ea6bd5a12": {
     "model_module": "@jupyter-widgets/controls",
     "model_name": "HBoxModel",
     "state": {
      "_dom_classes": [],
      "_model_module": "@jupyter-widgets/controls",
      "_model_module_version": "1.5.0",
      "_model_name": "HBoxModel",
      "_view_count": null,
      "_view_module": "@jupyter-widgets/controls",
      "_view_module_version": "1.5.0",
      "_view_name": "HBoxView",
      "box_style": "",
      "children": [
       "IPY_MODEL_1f5ee329ee5f4e11b283042d001eeb14",
       "IPY_MODEL_825bf4f19bbc4899ab7380eef09fb85f"
      ],
      "layout": "IPY_MODEL_01a6ac7c19ff49bc950c7763cbd9f439"
     }
    },
    "5298a4d61bed403a8ef0b2be3a749fb6": {
     "model_module": "@jupyter-widgets/base",
     "model_name": "LayoutModel",
     "state": {
      "_model_module": "@jupyter-widgets/base",
      "_model_module_version": "1.2.0",
      "_model_name": "LayoutModel",
      "_view_count": null,
      "_view_module": "@jupyter-widgets/base",
      "_view_module_version": "1.2.0",
      "_view_name": "LayoutView",
      "align_content": null,
      "align_items": null,
      "align_self": null,
      "border": null,
      "bottom": null,
      "display": null,
      "flex": null,
      "flex_flow": null,
      "grid_area": null,
      "grid_auto_columns": null,
      "grid_auto_flow": null,
      "grid_auto_rows": null,
      "grid_column": null,
      "grid_gap": null,
      "grid_row": null,
      "grid_template_areas": null,
      "grid_template_columns": null,
      "grid_template_rows": null,
      "height": null,
      "justify_content": null,
      "justify_items": null,
      "left": null,
      "margin": null,
      "max_height": null,
      "max_width": null,
      "min_height": null,
      "min_width": null,
      "object_fit": null,
      "object_position": null,
      "order": null,
      "overflow": null,
      "overflow_x": null,
      "overflow_y": null,
      "padding": null,
      "right": null,
      "top": null,
      "visibility": null,
      "width": null
     }
    },
    "56356952a43447ad842ceabd76a7e869": {
     "model_module": "@jupyter-widgets/base",
     "model_name": "LayoutModel",
     "state": {
      "_model_module": "@jupyter-widgets/base",
      "_model_module_version": "1.2.0",
      "_model_name": "LayoutModel",
      "_view_count": null,
      "_view_module": "@jupyter-widgets/base",
      "_view_module_version": "1.2.0",
      "_view_name": "LayoutView",
      "align_content": null,
      "align_items": null,
      "align_self": null,
      "border": null,
      "bottom": null,
      "display": null,
      "flex": null,
      "flex_flow": null,
      "grid_area": null,
      "grid_auto_columns": null,
      "grid_auto_flow": null,
      "grid_auto_rows": null,
      "grid_column": null,
      "grid_gap": null,
      "grid_row": null,
      "grid_template_areas": null,
      "grid_template_columns": null,
      "grid_template_rows": null,
      "height": null,
      "justify_content": null,
      "justify_items": null,
      "left": null,
      "margin": null,
      "max_height": null,
      "max_width": null,
      "min_height": null,
      "min_width": null,
      "object_fit": null,
      "object_position": null,
      "order": null,
      "overflow": null,
      "overflow_x": null,
      "overflow_y": null,
      "padding": null,
      "right": null,
      "top": null,
      "visibility": null,
      "width": null
     }
    },
    "563ceb996d8a41cd8fcda08fa5764bc9": {
     "model_module": "@jupyter-widgets/controls",
     "model_name": "DescriptionStyleModel",
     "state": {
      "_model_module": "@jupyter-widgets/controls",
      "_model_module_version": "1.5.0",
      "_model_name": "DescriptionStyleModel",
      "_view_count": null,
      "_view_module": "@jupyter-widgets/base",
      "_view_module_version": "1.2.0",
      "_view_name": "StyleView",
      "description_width": ""
     }
    },
    "70d41386df024897a6f279c29a8c8317": {
     "model_module": "@jupyter-widgets/base",
     "model_name": "LayoutModel",
     "state": {
      "_model_module": "@jupyter-widgets/base",
      "_model_module_version": "1.2.0",
      "_model_name": "LayoutModel",
      "_view_count": null,
      "_view_module": "@jupyter-widgets/base",
      "_view_module_version": "1.2.0",
      "_view_name": "LayoutView",
      "align_content": null,
      "align_items": null,
      "align_self": null,
      "border": null,
      "bottom": null,
      "display": null,
      "flex": null,
      "flex_flow": null,
      "grid_area": null,
      "grid_auto_columns": null,
      "grid_auto_flow": null,
      "grid_auto_rows": null,
      "grid_column": null,
      "grid_gap": null,
      "grid_row": null,
      "grid_template_areas": null,
      "grid_template_columns": null,
      "grid_template_rows": null,
      "height": null,
      "justify_content": null,
      "justify_items": null,
      "left": null,
      "margin": null,
      "max_height": null,
      "max_width": null,
      "min_height": null,
      "min_width": null,
      "object_fit": null,
      "object_position": null,
      "order": null,
      "overflow": null,
      "overflow_x": null,
      "overflow_y": null,
      "padding": null,
      "right": null,
      "top": null,
      "visibility": null,
      "width": null
     }
    },
    "722b68c2690244f7a606faaf49176384": {
     "model_module": "@jupyter-widgets/controls",
     "model_name": "ProgressStyleModel",
     "state": {
      "_model_module": "@jupyter-widgets/controls",
      "_model_module_version": "1.5.0",
      "_model_name": "ProgressStyleModel",
      "_view_count": null,
      "_view_module": "@jupyter-widgets/base",
      "_view_module_version": "1.2.0",
      "_view_name": "StyleView",
      "bar_color": null,
      "description_width": "initial"
     }
    },
    "825bf4f19bbc4899ab7380eef09fb85f": {
     "model_module": "@jupyter-widgets/controls",
     "model_name": "HTMLModel",
     "state": {
      "_dom_classes": [],
      "_model_module": "@jupyter-widgets/controls",
      "_model_module_version": "1.5.0",
      "_model_name": "HTMLModel",
      "_view_count": null,
      "_view_module": "@jupyter-widgets/controls",
      "_view_module_version": "1.5.0",
      "_view_name": "HTMLView",
      "description": "",
      "description_tooltip": null,
      "layout": "IPY_MODEL_5298a4d61bed403a8ef0b2be3a749fb6",
      "placeholder": "​",
      "style": "IPY_MODEL_f5a9e1797cc2428193da92b8b2b72092",
      "value": " 434/434 [00:00&lt;00:00, 937B/s]"
     }
    },
    "9d6e40e71ede4df1bcd87756cac1d96a": {
     "model_module": "@jupyter-widgets/controls",
     "model_name": "FloatProgressModel",
     "state": {
      "_dom_classes": [],
      "_model_module": "@jupyter-widgets/controls",
      "_model_module_version": "1.5.0",
      "_model_name": "FloatProgressModel",
      "_view_count": null,
      "_view_module": "@jupyter-widgets/controls",
      "_view_module_version": "1.5.0",
      "_view_name": "ProgressView",
      "bar_style": "success",
      "description": "Downloading: 100%",
      "description_tooltip": null,
      "layout": "IPY_MODEL_4b9dd14c85514aed9dbfd33eb467a7b6",
      "max": 1344997306,
      "min": 0,
      "orientation": "horizontal",
      "style": "IPY_MODEL_09b54a240b2e4e598d4eb4e88350dc49",
      "value": 1344997306
     }
    },
    "a1064c23dbe646669ec6c17aa950b03d": {
     "model_module": "@jupyter-widgets/controls",
     "model_name": "HTMLModel",
     "state": {
      "_dom_classes": [],
      "_model_module": "@jupyter-widgets/controls",
      "_model_module_version": "1.5.0",
      "_model_name": "HTMLModel",
      "_view_count": null,
      "_view_module": "@jupyter-widgets/controls",
      "_view_module_version": "1.5.0",
      "_view_name": "HTMLView",
      "description": "",
      "description_tooltip": null,
      "layout": "IPY_MODEL_e99e751b52514d74bfba3a7189961b55",
      "placeholder": "​",
      "style": "IPY_MODEL_563ceb996d8a41cd8fcda08fa5764bc9",
      "value": " 466k/466k [00:15&lt;00:00, 30.0kB/s]"
     }
    },
    "aa0bdd6140ec405cac760a39766e30eb": {
     "model_module": "@jupyter-widgets/controls",
     "model_name": "HBoxModel",
     "state": {
      "_dom_classes": [],
      "_model_module": "@jupyter-widgets/controls",
      "_model_module_version": "1.5.0",
      "_model_name": "HBoxModel",
      "_view_count": null,
      "_view_module": "@jupyter-widgets/controls",
      "_view_module_version": "1.5.0",
      "_view_name": "HBoxView",
      "box_style": "",
      "children": [
       "IPY_MODEL_d5c3c1a33ae24366946adedc6c90c40b",
       "IPY_MODEL_baf5257f65b54eecb987034207ef7b04"
      ],
      "layout": "IPY_MODEL_ba328da35583437885ec98e9a84247d3"
     }
    },
    "aba416b8147c4c1faeaab5b2ff5c5b5a": {
     "model_module": "@jupyter-widgets/base",
     "model_name": "LayoutModel",
     "state": {
      "_model_module": "@jupyter-widgets/base",
      "_model_module_version": "1.2.0",
      "_model_name": "LayoutModel",
      "_view_count": null,
      "_view_module": "@jupyter-widgets/base",
      "_view_module_version": "1.2.0",
      "_view_name": "LayoutView",
      "align_content": null,
      "align_items": null,
      "align_self": null,
      "border": null,
      "bottom": null,
      "display": null,
      "flex": null,
      "flex_flow": null,
      "grid_area": null,
      "grid_auto_columns": null,
      "grid_auto_flow": null,
      "grid_auto_rows": null,
      "grid_column": null,
      "grid_gap": null,
      "grid_row": null,
      "grid_template_areas": null,
      "grid_template_columns": null,
      "grid_template_rows": null,
      "height": null,
      "justify_content": null,
      "justify_items": null,
      "left": null,
      "margin": null,
      "max_height": null,
      "max_width": null,
      "min_height": null,
      "min_width": null,
      "object_fit": null,
      "object_position": null,
      "order": null,
      "overflow": null,
      "overflow_x": null,
      "overflow_y": null,
      "padding": null,
      "right": null,
      "top": null,
      "visibility": null,
      "width": null
     }
    },
    "ba328da35583437885ec98e9a84247d3": {
     "model_module": "@jupyter-widgets/base",
     "model_name": "LayoutModel",
     "state": {
      "_model_module": "@jupyter-widgets/base",
      "_model_module_version": "1.2.0",
      "_model_name": "LayoutModel",
      "_view_count": null,
      "_view_module": "@jupyter-widgets/base",
      "_view_module_version": "1.2.0",
      "_view_name": "LayoutView",
      "align_content": null,
      "align_items": null,
      "align_self": null,
      "border": null,
      "bottom": null,
      "display": null,
      "flex": null,
      "flex_flow": null,
      "grid_area": null,
      "grid_auto_columns": null,
      "grid_auto_flow": null,
      "grid_auto_rows": null,
      "grid_column": null,
      "grid_gap": null,
      "grid_row": null,
      "grid_template_areas": null,
      "grid_template_columns": null,
      "grid_template_rows": null,
      "height": null,
      "justify_content": null,
      "justify_items": null,
      "left": null,
      "margin": null,
      "max_height": null,
      "max_width": null,
      "min_height": null,
      "min_width": null,
      "object_fit": null,
      "object_position": null,
      "order": null,
      "overflow": null,
      "overflow_x": null,
      "overflow_y": null,
      "padding": null,
      "right": null,
      "top": null,
      "visibility": null,
      "width": null
     }
    },
    "baf5257f65b54eecb987034207ef7b04": {
     "model_module": "@jupyter-widgets/controls",
     "model_name": "HTMLModel",
     "state": {
      "_dom_classes": [],
      "_model_module": "@jupyter-widgets/controls",
      "_model_module_version": "1.5.0",
      "_model_name": "HTMLModel",
      "_view_count": null,
      "_view_module": "@jupyter-widgets/controls",
      "_view_module_version": "1.5.0",
      "_view_name": "HTMLView",
      "description": "",
      "description_tooltip": null,
      "layout": "IPY_MODEL_56356952a43447ad842ceabd76a7e869",
      "placeholder": "​",
      "style": "IPY_MODEL_e79f11b747d3435dbfa2aad49215c658",
      "value": " 232k/232k [00:16&lt;00:00, 14.3kB/s]"
     }
    },
    "c16f5f521d9f4af2bfa468540451d494": {
     "model_module": "@jupyter-widgets/base",
     "model_name": "LayoutModel",
     "state": {
      "_model_module": "@jupyter-widgets/base",
      "_model_module_version": "1.2.0",
      "_model_name": "LayoutModel",
      "_view_count": null,
      "_view_module": "@jupyter-widgets/base",
      "_view_module_version": "1.2.0",
      "_view_name": "LayoutView",
      "align_content": null,
      "align_items": null,
      "align_self": null,
      "border": null,
      "bottom": null,
      "display": null,
      "flex": null,
      "flex_flow": null,
      "grid_area": null,
      "grid_auto_columns": null,
      "grid_auto_flow": null,
      "grid_auto_rows": null,
      "grid_column": null,
      "grid_gap": null,
      "grid_row": null,
      "grid_template_areas": null,
      "grid_template_columns": null,
      "grid_template_rows": null,
      "height": null,
      "justify_content": null,
      "justify_items": null,
      "left": null,
      "margin": null,
      "max_height": null,
      "max_width": null,
      "min_height": null,
      "min_width": null,
      "object_fit": null,
      "object_position": null,
      "order": null,
      "overflow": null,
      "overflow_x": null,
      "overflow_y": null,
      "padding": null,
      "right": null,
      "top": null,
      "visibility": null,
      "width": null
     }
    },
    "d5c3c1a33ae24366946adedc6c90c40b": {
     "model_module": "@jupyter-widgets/controls",
     "model_name": "FloatProgressModel",
     "state": {
      "_dom_classes": [],
      "_model_module": "@jupyter-widgets/controls",
      "_model_module_version": "1.5.0",
      "_model_name": "FloatProgressModel",
      "_view_count": null,
      "_view_module": "@jupyter-widgets/controls",
      "_view_module_version": "1.5.0",
      "_view_name": "ProgressView",
      "bar_style": "success",
      "description": "Downloading: 100%",
      "description_tooltip": null,
      "layout": "IPY_MODEL_dfc1c3beb2ff488080a4bb8a725e4b6f",
      "max": 231508,
      "min": 0,
      "orientation": "horizontal",
      "style": "IPY_MODEL_416bfa015ffa4008bdf3462333d74723",
      "value": 231508
     }
    },
    "dfc1c3beb2ff488080a4bb8a725e4b6f": {
     "model_module": "@jupyter-widgets/base",
     "model_name": "LayoutModel",
     "state": {
      "_model_module": "@jupyter-widgets/base",
      "_model_module_version": "1.2.0",
      "_model_name": "LayoutModel",
      "_view_count": null,
      "_view_module": "@jupyter-widgets/base",
      "_view_module_version": "1.2.0",
      "_view_name": "LayoutView",
      "align_content": null,
      "align_items": null,
      "align_self": null,
      "border": null,
      "bottom": null,
      "display": null,
      "flex": null,
      "flex_flow": null,
      "grid_area": null,
      "grid_auto_columns": null,
      "grid_auto_flow": null,
      "grid_auto_rows": null,
      "grid_column": null,
      "grid_gap": null,
      "grid_row": null,
      "grid_template_areas": null,
      "grid_template_columns": null,
      "grid_template_rows": null,
      "height": null,
      "justify_content": null,
      "justify_items": null,
      "left": null,
      "margin": null,
      "max_height": null,
      "max_width": null,
      "min_height": null,
      "min_width": null,
      "object_fit": null,
      "object_position": null,
      "order": null,
      "overflow": null,
      "overflow_x": null,
      "overflow_y": null,
      "padding": null,
      "right": null,
      "top": null,
      "visibility": null,
      "width": null
     }
    },
    "e16c3a51e9c541008a3ace723f843695": {
     "model_module": "@jupyter-widgets/controls",
     "model_name": "HBoxModel",
     "state": {
      "_dom_classes": [],
      "_model_module": "@jupyter-widgets/controls",
      "_model_module_version": "1.5.0",
      "_model_name": "HBoxModel",
      "_view_count": null,
      "_view_module": "@jupyter-widgets/controls",
      "_view_module_version": "1.5.0",
      "_view_name": "HBoxView",
      "box_style": "",
      "children": [
       "IPY_MODEL_9d6e40e71ede4df1bcd87756cac1d96a",
       "IPY_MODEL_1727aecebd47459aa1f3dbf2b08b1315"
      ],
      "layout": "IPY_MODEL_e76285fa58974a779ce211ea01a54b38"
     }
    },
    "e76285fa58974a779ce211ea01a54b38": {
     "model_module": "@jupyter-widgets/base",
     "model_name": "LayoutModel",
     "state": {
      "_model_module": "@jupyter-widgets/base",
      "_model_module_version": "1.2.0",
      "_model_name": "LayoutModel",
      "_view_count": null,
      "_view_module": "@jupyter-widgets/base",
      "_view_module_version": "1.2.0",
      "_view_name": "LayoutView",
      "align_content": null,
      "align_items": null,
      "align_self": null,
      "border": null,
      "bottom": null,
      "display": null,
      "flex": null,
      "flex_flow": null,
      "grid_area": null,
      "grid_auto_columns": null,
      "grid_auto_flow": null,
      "grid_auto_rows": null,
      "grid_column": null,
      "grid_gap": null,
      "grid_row": null,
      "grid_template_areas": null,
      "grid_template_columns": null,
      "grid_template_rows": null,
      "height": null,
      "justify_content": null,
      "justify_items": null,
      "left": null,
      "margin": null,
      "max_height": null,
      "max_width": null,
      "min_height": null,
      "min_width": null,
      "object_fit": null,
      "object_position": null,
      "order": null,
      "overflow": null,
      "overflow_x": null,
      "overflow_y": null,
      "padding": null,
      "right": null,
      "top": null,
      "visibility": null,
      "width": null
     }
    },
    "e79f11b747d3435dbfa2aad49215c658": {
     "model_module": "@jupyter-widgets/controls",
     "model_name": "DescriptionStyleModel",
     "state": {
      "_model_module": "@jupyter-widgets/controls",
      "_model_module_version": "1.5.0",
      "_model_name": "DescriptionStyleModel",
      "_view_count": null,
      "_view_module": "@jupyter-widgets/base",
      "_view_module_version": "1.2.0",
      "_view_name": "StyleView",
      "description_width": ""
     }
    },
    "e99e751b52514d74bfba3a7189961b55": {
     "model_module": "@jupyter-widgets/base",
     "model_name": "LayoutModel",
     "state": {
      "_model_module": "@jupyter-widgets/base",
      "_model_module_version": "1.2.0",
      "_model_name": "LayoutModel",
      "_view_count": null,
      "_view_module": "@jupyter-widgets/base",
      "_view_module_version": "1.2.0",
      "_view_name": "LayoutView",
      "align_content": null,
      "align_items": null,
      "align_self": null,
      "border": null,
      "bottom": null,
      "display": null,
      "flex": null,
      "flex_flow": null,
      "grid_area": null,
      "grid_auto_columns": null,
      "grid_auto_flow": null,
      "grid_auto_rows": null,
      "grid_column": null,
      "grid_gap": null,
      "grid_row": null,
      "grid_template_areas": null,
      "grid_template_columns": null,
      "grid_template_rows": null,
      "height": null,
      "justify_content": null,
      "justify_items": null,
      "left": null,
      "margin": null,
      "max_height": null,
      "max_width": null,
      "min_height": null,
      "min_width": null,
      "object_fit": null,
      "object_position": null,
      "order": null,
      "overflow": null,
      "overflow_x": null,
      "overflow_y": null,
      "padding": null,
      "right": null,
      "top": null,
      "visibility": null,
      "width": null
     }
    },
    "ea59ddb1d6cb4586b1a541dbefe30de4": {
     "model_module": "@jupyter-widgets/base",
     "model_name": "LayoutModel",
     "state": {
      "_model_module": "@jupyter-widgets/base",
      "_model_module_version": "1.2.0",
      "_model_name": "LayoutModel",
      "_view_count": null,
      "_view_module": "@jupyter-widgets/base",
      "_view_module_version": "1.2.0",
      "_view_name": "LayoutView",
      "align_content": null,
      "align_items": null,
      "align_self": null,
      "border": null,
      "bottom": null,
      "display": null,
      "flex": null,
      "flex_flow": null,
      "grid_area": null,
      "grid_auto_columns": null,
      "grid_auto_flow": null,
      "grid_auto_rows": null,
      "grid_column": null,
      "grid_gap": null,
      "grid_row": null,
      "grid_template_areas": null,
      "grid_template_columns": null,
      "grid_template_rows": null,
      "height": null,
      "justify_content": null,
      "justify_items": null,
      "left": null,
      "margin": null,
      "max_height": null,
      "max_width": null,
      "min_height": null,
      "min_width": null,
      "object_fit": null,
      "object_position": null,
      "order": null,
      "overflow": null,
      "overflow_x": null,
      "overflow_y": null,
      "padding": null,
      "right": null,
      "top": null,
      "visibility": null,
      "width": null
     }
    },
    "f3a561e146f6426a8fd0eaf1e1c61a10": {
     "model_module": "@jupyter-widgets/controls",
     "model_name": "ProgressStyleModel",
     "state": {
      "_model_module": "@jupyter-widgets/controls",
      "_model_module_version": "1.5.0",
      "_model_name": "ProgressStyleModel",
      "_view_count": null,
      "_view_module": "@jupyter-widgets/base",
      "_view_module_version": "1.2.0",
      "_view_name": "StyleView",
      "bar_color": null,
      "description_width": "initial"
     }
    },
    "f5a9e1797cc2428193da92b8b2b72092": {
     "model_module": "@jupyter-widgets/controls",
     "model_name": "DescriptionStyleModel",
     "state": {
      "_model_module": "@jupyter-widgets/controls",
      "_model_module_version": "1.5.0",
      "_model_name": "DescriptionStyleModel",
      "_view_count": null,
      "_view_module": "@jupyter-widgets/base",
      "_view_module_version": "1.2.0",
      "_view_name": "StyleView",
      "description_width": ""
     }
    }
   }
  }
 },
 "nbformat": 4,
 "nbformat_minor": 1
}
